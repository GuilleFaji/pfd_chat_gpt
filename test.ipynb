{
 "cells": [
  {
   "cell_type": "code",
   "execution_count": 1,
   "metadata": {},
   "outputs": [],
   "source": [
    "import numpy as np\n",
    "import os\n",
    "import re\n",
    "import io\n",
    "import json\n",
    "import pypdf\n",
    "import langchain\n",
    "import openai"
   ]
  },
  {
   "cell_type": "code",
   "execution_count": 2,
   "metadata": {},
   "outputs": [],
   "source": [
    "api_key = json.load(open('./data/creds/gpt_id.json'))['api_key']\n",
    "openai.api_key = api_key"
   ]
  },
  {
   "cell_type": "code",
   "execution_count": 3,
   "metadata": {},
   "outputs": [],
   "source": [
    "def extract_text_from_pdf(pdf_path: str) -> str:\n",
    "    '''\n",
    "    Función para extraer texto de un pdf y limpiarlo.\n",
    "    Devuelve una lista de str, cada una es una página del pdf.\n",
    "    '''\n",
    "    # Abrimos el pdf\n",
    "    with open(pdf_path, 'rb') as f:\n",
    "        pdf = pypdf.PdfReader(f)\n",
    "        # Obtenemos el número de páginas\n",
    "        num_pags = len(pdf.pages)\n",
    "        count = 0\n",
    "        text = []\n",
    "        # Iteramos sobre las páginas\n",
    "        for pag in pdf.pages:\n",
    "        #while count < num_pags:\n",
    "            #pag = pdf.pages[count]\n",
    "            count +=1\n",
    "            texto_pagina = pag.extract_text()\n",
    "            # texto_pagina = limpieza_texto(texto_pagina)\n",
    "            text.append(texto_pagina)\n",
    "    return text"
   ]
  },
  {
   "cell_type": "code",
   "execution_count": 4,
   "metadata": {},
   "outputs": [],
   "source": [
    "resultado = extract_text_from_pdf('./data/16089013.pdf')"
   ]
  },
  {
   "cell_type": "code",
   "execution_count": 28,
   "metadata": {},
   "outputs": [
    {
     "data": {
      "text/plain": [
       "\"DATOSGENERALESDEIDENTIFICACIÓN EINFORMACIÓN\\nCOMPLEMENTARIA REQUERIDAENLALEGISLACIÓNESPAÑOLA\\n(Aplicaciónderesultadosyperíodomediodepagoaproveedores)IDA1\\nIDENTIFICACIÓNDELAEMPRESA\\nNIF:\\nLEI:01010B85328177\\n01009Formajurídica:SA:\\nOtras:01011SL:01012\\n01013\\nSoloparalasempresasquedispongandecódigoLEI(LegalEntityIdentifier)\\nDenominaciónsocial:\\nDomiciliosocial:01020BUBOKPUBLISHING,S.L.\\n01022CLBELEN13\\nMunicipio:01023MADRID Provincia:01025MADRID\\nCódigopostal:0102428004 Teléfono:01031\\nDireccióndee-maildecontactodelaempresa\\nPertenenciaaungrupodesociedades:\\nSociedaddominantedirecta:\\nSociedaddominanteúltimadelgrupo:\\nACTIVIDAD\\nActividadprincipal:\\nCódigoCNAE:02009\\n0200101037\\nDENOMINACIÓNSOCIAL NIF\\n01041 01040\\n01061 01060\\nEDICIONDELIBROS (1)\\n5811 (1)\\nPERSONALASALARIADO\\na)Númeromediodepersonasempleadasenelcursodelejercicio,portipodecontratoyempleocondiscapacidad:\\nEJERCICIO2021(2)\\nFIJO(4):\\nNOFIJO(5):\\nDelcual:Personasempleadascondiscapacidadmayoroigualal33%(ocalificaciónequivalentelocal):EJERCICIO2020(3)\\n04001 3,92 4,97\\n04002 1,64 0,08\\n04010 o o\\nb)Personalasalariadoaltérminodelejercicio,portipodecontratoyporsexo:\\nEJERCICIO2021(2)\\nFIJO:\\nNOFIJO:EJERCICIO2020(3)\\nHOMBRES MUJERES HOMBRES MUJERES\\n04120 104121 4 1 4\\n04122 004123 1 0 1\\nPRESENTACIÓNDECUENTAS\\nFechadeinicioalaquevanreferidaslascuentas:\\nFechadecierrealaquevanreferidaslascuentas:\\nNúmerodepáginaspresentadasaldepósito:EJERCICIO2021(2)\\nAÑOMESDÍA\\n011022.02111\\n011012.0211231\\n01901\\nEncasodenofigurarconsignadascifrasenalgunodelosejercicios,indiquelacausa:EJERCICIO2020(3)\\nAÑOMESDÍA\\n2.02011\\n2.0201231\\n01903\\nUNIDADES\\nMarqueconunaXlaunidadenlaquehaelaboradotodoslosdocumentosqueintegransuscuentasanuales:Euros:\\nMilesdeeuros:\\nMillonesdeeuros:09001\\n09002\\n09003\\n(1)Segúnlasclases(cuatrodígitos)delaClasificaciónNacionaldeActividadesEconómicas2009(CNAE2009),aprobadaporelRealDecreto475/2007,de13deabril(BOEde28.42007).(2)Ejercicioalquevanreferidaslascuentasanuales.(3)Ejercicioanterior.(4)Paracalcularelnúmeromediodepersonalfijo,tengaencuentalossiguientescriterios:a)Sienelañonohahabidoimportantesmovimientosdelaplantilla,indiqueaquílasemisumadelosfijosaprincipioyafindeejercicio.b)Sihahabidomovimientos,calculelasumadelaplantillaencadaunodelosmesesdelañoydivídalapordoce.c)Sihuboregulacióntemporaldeempleoodejornada,elpersonalafectadoporlamismadebeinckirsecomopersonalflo,perosoloenlaproporciónquecorrespondaalafraccióndelañoojornadaefectivamentetrabajada.(5)Puedecalcularelpersonalnofijomediountandoeltotaldesemanasquehantrabajadosisempleadosno'Nosydividiendopor52semanas.Tambiénpuedehacerestaoperación(equivalentealaanteñor):n.°mediodesemanastrabajadasn.°depersonascontratadas52\\n\""
      ]
     },
     "execution_count": 28,
     "metadata": {},
     "output_type": "execute_result"
    }
   ],
   "source": [
    "resultado[0]"
   ]
  },
  {
   "cell_type": "code",
   "execution_count": null,
   "metadata": {},
   "outputs": [],
   "source": [
    "with open('./data/rovi-sostenibilidad-2020.pdf', 'rb') as f:\n",
    "    pdf = pypdf.PdfReader(f)\n",
    "    # Obtenemos el número de páginas\n",
    "    num_pags = len(pdf.pages)\n",
    "    count = 0\n",
    "    text = []\n",
    "    # Iteramos sobre las páginas\n",
    "    for pag in pdf.pages:\n",
    "    #while count < num_pags:\n",
    "        #pag = pdf.pages[count]\n",
    "        count +=1\n",
    "        texto_pagina = pag.extract_text()\n",
    "        # texto_pagina = limpieza_texto(texto_pagina)\n",
    "        text.append(texto_pagina)"
   ]
  },
  {
   "cell_type": "code",
   "execution_count": 5,
   "metadata": {},
   "outputs": [],
   "source": [
    "with open('./data/rovi-sostenibilidad-2020.pdf', 'rb') as f:\n",
    "    pdf = pypdf.PdfReader(f)"
   ]
  },
  {
   "cell_type": "code",
   "execution_count": 6,
   "metadata": {},
   "outputs": [],
   "source": [
    "import tabula"
   ]
  },
  {
   "cell_type": "code",
   "execution_count": 70,
   "metadata": {},
   "outputs": [
    {
     "data": {
      "text/html": [
       "<div>\n",
       "<style scoped>\n",
       "    .dataframe tbody tr th:only-of-type {\n",
       "        vertical-align: middle;\n",
       "    }\n",
       "\n",
       "    .dataframe tbody tr th {\n",
       "        vertical-align: top;\n",
       "    }\n",
       "\n",
       "    .dataframe thead th {\n",
       "        text-align: right;\n",
       "    }\n",
       "</style>\n",
       "<table border=\"1\" class=\"dataframe\">\n",
       "  <thead>\n",
       "    <tr style=\"text-align: right;\">\n",
       "      <th></th>\n",
       "      <th>KEY FIGURES</th>\n",
       "      <th>Unnamed: 0</th>\n",
       "      <th>Unnamed: 1</th>\n",
       "      <th>Unnamed: 2</th>\n",
       "      <th>Unnamed: 3</th>\n",
       "      <th>102-7</th>\n",
       "    </tr>\n",
       "  </thead>\n",
       "  <tbody>\n",
       "    <tr>\n",
       "      <th>0</th>\n",
       "      <td>(million euros)</td>\n",
       "      <td>2020.000</td>\n",
       "      <td>2019.00</td>\n",
       "      <td>2018.000</td>\n",
       "      <td>2017.000</td>\n",
       "      <td>NaN</td>\n",
       "    </tr>\n",
       "    <tr>\n",
       "      <th>1</th>\n",
       "      <td>Total revenue</td>\n",
       "      <td>421.100</td>\n",
       "      <td>382.50</td>\n",
       "      <td>304.800</td>\n",
       "      <td>277.400</td>\n",
       "      <td>NaN</td>\n",
       "    </tr>\n",
       "    <tr>\n",
       "      <th>2</th>\n",
       "      <td>EBITDA</td>\n",
       "      <td>94.200</td>\n",
       "      <td>60.90</td>\n",
       "      <td>29.500</td>\n",
       "      <td>29.900</td>\n",
       "      <td>NaN</td>\n",
       "    </tr>\n",
       "    <tr>\n",
       "      <th>3</th>\n",
       "      <td>Net financial debt</td>\n",
       "      <td>19.800</td>\n",
       "      <td>15.90</td>\n",
       "      <td>-62.800</td>\n",
       "      <td>1.100</td>\n",
       "      <td>NaN</td>\n",
       "    </tr>\n",
       "    <tr>\n",
       "      <th>4</th>\n",
       "      <td>Employees</td>\n",
       "      <td>1.419</td>\n",
       "      <td>1.31</td>\n",
       "      <td>1.224</td>\n",
       "      <td>1.191</td>\n",
       "      <td>NaN</td>\n",
       "    </tr>\n",
       "  </tbody>\n",
       "</table>\n",
       "</div>"
      ],
      "text/plain": [
       "          KEY FIGURES  Unnamed: 0  Unnamed: 1  Unnamed: 2  Unnamed: 3  102-7\n",
       "0     (million euros)    2020.000     2019.00    2018.000    2017.000    NaN\n",
       "1       Total revenue     421.100      382.50     304.800     277.400    NaN\n",
       "2              EBITDA      94.200       60.90      29.500      29.900    NaN\n",
       "3  Net financial debt      19.800       15.90     -62.800       1.100    NaN\n",
       "4           Employees       1.419        1.31       1.224       1.191    NaN"
      ]
     },
     "execution_count": 70,
     "metadata": {},
     "output_type": "execute_result"
    }
   ],
   "source": [
    "tabla_ej = tabula.read_pdf('./data/rovi-sostenibilidad-2020.pdf', pages=14)[0]\n",
    "tabla_ej"
   ]
  },
  {
   "cell_type": "code",
   "execution_count": 127,
   "metadata": {},
   "outputs": [],
   "source": [
    "def tabla_a_texto(tabla):\n",
    "    '''\n",
    "    Función para convertir una tabla de pandas en un texto.\n",
    "    La idea es identificar los nombres de columna e índices correctos y\n",
    "    a partir de ahí generar un texto que pueda ser procesado por el modelo.\n",
    "    '''\n",
    "    tabla = tabla.copy()\n",
    "    # Tamaño mínimo de tabla para que sea válida = 2x2\n",
    "    if sum(tabla.shape) < 4:\n",
    "        return ''\n",
    "    # Asumimos que el primer elemento es el título\n",
    "    titulo = tabla.columns[0] \n",
    "    \n",
    "    # Asumimos que la primera columna es el índice y la eliminamos:\n",
    "    tabla.index = tabla[tabla.columns[0]].values\n",
    "    tabla.drop(columns=tabla.columns[0], inplace=True)\n",
    "    \n",
    "    # Eliminamos las filas y columnas que no tienen datos:\n",
    "    tabla.replace('', np.nan, inplace=True)\n",
    "    tabla.dropna(axis=0, how='all', inplace=True)\n",
    "    tabla.dropna(axis=1, how='all', inplace=True)\n",
    "    \n",
    "    # Check si las columnas son años:\n",
    "    col_años = False\n",
    "    years_txt=[str(i) for i in range(2015,2022)]\n",
    "    years_int=[i for i in range(2015,2022)]\n",
    "    years = set(years_txt+years_int)\n",
    "    cruce = set(tabla.columns).intersection(set(years))\n",
    "    if len(cruce) > 0: col_años=True\n",
    "    \n",
    "    # Si no son años las columnas, buscamos filas que sean años:\n",
    "    if not col_años:\n",
    "        for i in tabla.iterrows():\n",
    "            #print(i[1].values)\n",
    "            try:\n",
    "                cruce = set(i[1].values).intersection(set(years))\n",
    "            except:\n",
    "                cruce=[]\n",
    "            if len(cruce)>0: # Si encontramos una fila con años:\n",
    "                # Asignamos los años a las columnas:\n",
    "                tabla.columns = i[1].values\n",
    "                contexto = None\n",
    "                try: contexto = i[1].name\n",
    "                # Drop de la fila:\n",
    "                tabla.drop(i[0], inplace=True)\n",
    "                break\n",
    "    # Los procesos anteriores pueden haber dejado filas vacías, las eliminamos:\n",
    "    tabla.replace('', np.nan, inplace=True)\n",
    "    tabla.dropna(axis=0, how='all', inplace=True)\n",
    "    tabla.dropna(axis=1, how='all', inplace=True)\n",
    "    # Pasamos a texto:\n",
    "    texto = ''\n",
    "    for i in tabla.items():\n",
    "        add =f'1-Columna: {i[0]} 2-Datos: [{i[1]}]'\n",
    "        if contexto:\n",
    "            add = f'A-Contexto: {contexto} B-Contenido:{add}'\n",
    "        add = add.replace('  ',' ').replace('\\n','; ').replace('  ','')\n",
    "        texto += f';  {titulo}: {add}'\n",
    "    return texto"
   ]
  },
  {
   "cell_type": "code",
   "execution_count": 85,
   "metadata": {},
   "outputs": [],
   "source": [
    "import itertools"
   ]
  },
  {
   "cell_type": "code",
   "execution_count": 88,
   "metadata": {},
   "outputs": [
    {
     "data": {
      "text/plain": [
       "[2015,\n",
       " '2015',\n",
       " 2016,\n",
       " '2016',\n",
       " 2017,\n",
       " '2017',\n",
       " 2018,\n",
       " '2018',\n",
       " 2019,\n",
       " '2019',\n",
       " 2020,\n",
       " '2020',\n",
       " 2021,\n",
       " '2021']"
      ]
     },
     "execution_count": 88,
     "metadata": {},
     "output_type": "execute_result"
    }
   ],
   "source": [
    "list(itertools.chain(*[[i, str(i)] for i in range(2015,2022)]))"
   ]
  },
  {
   "cell_type": "code",
   "execution_count": 128,
   "metadata": {},
   "outputs": [],
   "source": [
    "test = tabla_a_texto(tabla_ej)"
   ]
  },
  {
   "cell_type": "code",
   "execution_count": 129,
   "metadata": {},
   "outputs": [
    {
     "data": {
      "text/plain": [
       "';  KEY FIGURES: A-Contexto: (million euros) B-Contenido:1-Columna: 2020.0 2-Datos: [Total revenue 421.100; EBITDA 94.200; Net financial debt 19.800; Employees1.419; Name: 2020.0, dtype: float64];  KEY FIGURES: A-Contexto: (million euros) B-Contenido:1-Columna: 2019.0 2-Datos: [Total revenue 382.50; EBITDA 60.90; Net financial debt 15.90; Employees1.31; Name: 2019.0, dtype: float64];  KEY FIGURES: A-Contexto: (million euros) B-Contenido:1-Columna: 2018.0 2-Datos: [Total revenue 304.800; EBITDA 29.500; Net financial debt-62.800; Employees1.224; Name: 2018.0, dtype: float64];  KEY FIGURES: A-Contexto: (million euros) B-Contenido:1-Columna: 2017.0 2-Datos: [Total revenue 277.400; EBITDA 29.900; Net financial debt 1.100; Employees1.191; Name: 2017.0, dtype: float64]'"
      ]
     },
     "execution_count": 129,
     "metadata": {},
     "output_type": "execute_result"
    }
   ],
   "source": [
    "test"
   ]
  },
  {
   "cell_type": "code",
   "execution_count": 101,
   "metadata": {},
   "outputs": [
    {
     "name": "stdout",
     "output_type": "stream",
     "text": [
      "                     2020.0  2019.0   2018.0   2017.0\n",
      "KEY FIGURES                                          \n",
      "Total revenue       421.100  382.50  304.800  277.400\n",
      "EBITDA               94.200   60.90   29.500   29.900\n",
      "Net financial debt   19.800   15.90  -62.800    1.100\n",
      "Employees             1.419    1.31    1.224    1.191\n",
      "                     2020.0  2019.0   2018.0   2017.0\n",
      "KEY FIGURES                                          \n",
      "Total revenue       421.100  382.50  304.800  277.400\n",
      "EBITDA               94.200   60.90   29.500   29.900\n",
      "Net financial debt   19.800   15.90  -62.800    1.100\n",
      "Employees             1.419    1.31    1.224    1.191\n"
     ]
    },
    {
     "data": {
      "text/plain": [
       "'KEY FIGURES;  KEY FIGURES: 1-Columna: 2020.0 2-Datos: [KEY FIGURES; Total revenue 421.100; EBITDA 94.200; Net financial debt 19.800; Employees1.419; Name: 2020.0, dtype: float64];  KEY FIGURES: 1-Columna: 2019.0 2-Datos: [KEY FIGURES; Total revenue 382.50; EBITDA 60.90; Net financial debt 15.90; Employees1.31; Name: 2019.0, dtype: float64];  KEY FIGURES: 1-Columna: 2018.0 2-Datos: [KEY FIGURES; Total revenue 304.800; EBITDA 29.500; Net financial debt-62.800; Employees1.224; Name: 2018.0, dtype: float64];  KEY FIGURES: 1-Columna: 2017.0 2-Datos: [KEY FIGURES; Total revenue 277.400; EBITDA 29.900; Net financial debt 1.100; Employees1.191; Name: 2017.0, dtype: float64]'"
      ]
     },
     "execution_count": 101,
     "metadata": {},
     "output_type": "execute_result"
    }
   ],
   "source": [
    "tabla_a_texto(tabla_ej)"
   ]
  },
  {
   "cell_type": "code",
   "execution_count": 14,
   "metadata": {},
   "outputs": [],
   "source": [
    "tabla_ej.index = tabla_ej[tabla_ej.columns[0]]\n",
    "tabla_ej.drop(columns=tabla_ej.columns[0], inplace=True)"
   ]
  },
  {
   "cell_type": "code",
   "execution_count": 49,
   "metadata": {},
   "outputs": [
    {
     "data": {
      "text/plain": [
       "'1-Columna: Unnamed: 0 2-Datos: [KEY FIGURES; (million euros)2020.000; Total revenue 421.100; EBITDA 94.200; Net financial debt 19.800; Employees1.419; Name: Unnamed: 0, dtype: float64]'"
      ]
     },
     "execution_count": 49,
     "metadata": {},
     "output_type": "execute_result"
    }
   ],
   "source": [
    "f'1-Columna: {i[0]} 2-Datos: [{i[1]}]'.replace('  ',' ').replace('\\n','; ').replace('  ','')"
   ]
  },
  {
   "cell_type": "code",
   "execution_count": 34,
   "metadata": {},
   "outputs": [
    {
     "name": "stdout",
     "output_type": "stream",
     "text": [
      "('Unnamed: 0', KEY FIGURES\n",
      "(million euros)       2020.000\n",
      "Total revenue          421.100\n",
      "EBITDA                  94.200\n",
      "Net financial debt      19.800\n",
      "Employees                1.419\n",
      "Name: Unnamed: 0, dtype: float64)\n"
     ]
    },
    {
     "name": "stderr",
     "output_type": "stream",
     "text": [
      "C:\\Users\\Faji\\AppData\\Local\\Temp\\ipykernel_2796\\1429811112.py:1: FutureWarning: iteritems is deprecated and will be removed in a future version. Use .items instead.\n",
      "  for i in tabla_ej.iteritems():\n"
     ]
    }
   ],
   "source": [
    "for i in tabla_ej.iteritems():\n",
    "    print(i)\n",
    "    break"
   ]
  },
  {
   "cell_type": "code",
   "execution_count": 38,
   "metadata": {},
   "outputs": [
    {
     "data": {
      "text/plain": [
       "\"('Unnamed: 0', KEY FIGURES\\n(million euros)       2020.000\\nTotal revenue          421.100\\nEBITDA                  94.200\\nNet financial debt      19.800\\nEmployees                1.419\\nName: Unnamed: 0, dtype: float64)\""
      ]
     },
     "execution_count": 38,
     "metadata": {},
     "output_type": "execute_result"
    }
   ],
   "source": [
    "str(i)"
   ]
  },
  {
   "cell_type": "code",
   "execution_count": 20,
   "metadata": {},
   "outputs": [
    {
     "data": {
      "text/html": [
       "<div>\n",
       "<style scoped>\n",
       "    .dataframe tbody tr th:only-of-type {\n",
       "        vertical-align: middle;\n",
       "    }\n",
       "\n",
       "    .dataframe tbody tr th {\n",
       "        vertical-align: top;\n",
       "    }\n",
       "\n",
       "    .dataframe thead th {\n",
       "        text-align: right;\n",
       "    }\n",
       "</style>\n",
       "<table border=\"1\" class=\"dataframe\">\n",
       "  <thead>\n",
       "    <tr style=\"text-align: right;\">\n",
       "      <th></th>\n",
       "      <th>Unnamed: 0</th>\n",
       "      <th>Unnamed: 1</th>\n",
       "      <th>Unnamed: 2</th>\n",
       "      <th>Unnamed: 3</th>\n",
       "      <th>102-7</th>\n",
       "    </tr>\n",
       "    <tr>\n",
       "      <th>KEY FIGURES</th>\n",
       "      <th></th>\n",
       "      <th></th>\n",
       "      <th></th>\n",
       "      <th></th>\n",
       "      <th></th>\n",
       "    </tr>\n",
       "  </thead>\n",
       "  <tbody>\n",
       "    <tr>\n",
       "      <th>(million euros)</th>\n",
       "      <td>2020.000</td>\n",
       "      <td>2019.00</td>\n",
       "      <td>2018.000</td>\n",
       "      <td>2017.000</td>\n",
       "      <td>NaN</td>\n",
       "    </tr>\n",
       "    <tr>\n",
       "      <th>Total revenue</th>\n",
       "      <td>421.100</td>\n",
       "      <td>382.50</td>\n",
       "      <td>304.800</td>\n",
       "      <td>277.400</td>\n",
       "      <td>NaN</td>\n",
       "    </tr>\n",
       "    <tr>\n",
       "      <th>EBITDA</th>\n",
       "      <td>94.200</td>\n",
       "      <td>60.90</td>\n",
       "      <td>29.500</td>\n",
       "      <td>29.900</td>\n",
       "      <td>NaN</td>\n",
       "    </tr>\n",
       "    <tr>\n",
       "      <th>Net financial debt</th>\n",
       "      <td>19.800</td>\n",
       "      <td>15.90</td>\n",
       "      <td>-62.800</td>\n",
       "      <td>1.100</td>\n",
       "      <td>NaN</td>\n",
       "    </tr>\n",
       "    <tr>\n",
       "      <th>Employees</th>\n",
       "      <td>1.419</td>\n",
       "      <td>1.31</td>\n",
       "      <td>1.224</td>\n",
       "      <td>1.191</td>\n",
       "      <td>NaN</td>\n",
       "    </tr>\n",
       "  </tbody>\n",
       "</table>\n",
       "</div>"
      ],
      "text/plain": [
       "                    Unnamed: 0  Unnamed: 1  Unnamed: 2  Unnamed: 3  102-7\n",
       "KEY FIGURES                                                              \n",
       "(million euros)       2020.000     2019.00    2018.000    2017.000    NaN\n",
       "Total revenue          421.100      382.50     304.800     277.400    NaN\n",
       "EBITDA                  94.200       60.90      29.500      29.900    NaN\n",
       "Net financial debt      19.800       15.90     -62.800       1.100    NaN\n",
       "Employees                1.419        1.31       1.224       1.191    NaN"
      ]
     },
     "execution_count": 20,
     "metadata": {},
     "output_type": "execute_result"
    }
   ],
   "source": [
    "tabla_ej"
   ]
  },
  {
   "cell_type": "code",
   "execution_count": 21,
   "metadata": {},
   "outputs": [],
   "source": [
    "def limpieza_passages(texto):\n",
    "  '''\n",
    "  Dado un texto realiza una limpieza caracteres especiales, transformar a minusculas y eleiminar urls\n",
    "  Args:\n",
    "        texto (str): texto a limpiar\n",
    "\n",
    "    Returns:\n",
    "        text(str): texto limpio\n",
    "  '''\n",
    "  texto=texto.replace(\"\\n\",\" \")\n",
    "  texto=texto.replace(\"\\t\",\" \")\n",
    "  texto=texto.replace(\"\\\\r\",\" \")\n",
    "  texto=texto.replace(\"\\r\",\" \")\n",
    "  texto=texto.replace(\" - \",\"\")\n",
    "  texto=texto.replace(\"- \",\"\")\n",
    "  texto=texto.replace(\"-\",\"\")\n",
    "  texto=texto.replace(\" -\",\"\")\n",
    "  texto=texto.replace(\">\",\" \")\n",
    "  texto=texto.lower()\n",
    "  texto = re.sub(r'^https?:\\/\\/.*[\\r\\n]*', '', texto, flags=re.MULTILINE)\n",
    " \n",
    "  return texto\n",
    "\n",
    "def columnas_son_años(columnas):\n",
    "  '''\n",
    "  Dado una lista de columnas determina si son años \n",
    "  Args:\n",
    "        columnas list(str): nombre de las columnas de una tabla\n",
    "       \n",
    "  Return:\n",
    "      Bool: indica si son años o no\n",
    "  '''\n",
    "  años=['2019','2020','2021','2018','2017']\n",
    "  años = set(años)\n",
    "  columnas = set(columnas)\n",
    "  son=False\n",
    "  interseccion= set(columnas).intersection(años)\n",
    "  interseccion = list(interseccion)\n",
    "\n",
    "  \n",
    "  if len(interseccion)>1:\n",
    "    son=True\n",
    "  return son \n",
    "\n",
    "def tabla_to_lines(df,año_actual):\n",
    "  '''\n",
    "  Extrae la informacion de una tabla a un texto. Ademas si las columnas son años, solo extrae la informacion del año que estamos estudiando\n",
    "  Args:\n",
    "        df Dataframe: tabla en formato dataframe de la que queremos extraer la informacion.\n",
    "        año_actual str: año del que hacemos el estudio\n",
    "       \n",
    "  Return:\n",
    "      txt: con la informacion de la tabla\n",
    "  '''\n",
    "  columnas=list(df.columns)\n",
    "  num_columnas=df.shape[1]\n",
    "  num_filas=df.shape[0]\n",
    "  if num_filas>0 and num_columnas>0:\n",
    "    titulo=titulo=columnas[0]\n",
    "    filas=list(df.iloc[0:,0])\n",
    "    texto=''\n",
    "    if columnas_son_años(columnas[1:])==False:\n",
    "      for i in range(0,num_filas):\n",
    "        \n",
    "        for j in range(1,num_columnas):\n",
    "          \n",
    "          dato=df.iloc[i,j]\n",
    "          if str(dato)!='Nan' and str(dato)!='na' and str(dato)!='NaN' and str(dato)!='nan':\n",
    "            if str(columnas[j])[0:8]!='Unnamed:':\n",
    "              if str(titulo) !='Unnamed: 0':\n",
    "                if str(filas[i])!='nan':\n",
    "                  texto=texto+' '+str(titulo)+' '+str(dato)+' '+str(filas[i])+' '+str(columnas[j])+'             '\n",
    "                else: \n",
    "                  texto=texto+' '+str(titulo)+' '+str(dato)+' '+str(columnas[j])+'             '\n",
    "              else:\n",
    "                if str(filas[i])!='nan':\n",
    "                  texto=texto+' '+str(dato)+' '+str(filas[i])+' '+str(columnas[j])+'             '\n",
    "                else: \n",
    "                  texto=texto+' '+str(dato)+' '+str(columnas[j])+'             '\n",
    "              \n",
    "            else:\n",
    "              if str(titulo) !='Unnamed: 0':\n",
    "                if str(filas[i])!='nan':\n",
    "                  texto=texto+' '+str(titulo)+' '+str(dato)+' '+str(filas[i])+'             '\n",
    "                else: \n",
    "                  texto=texto+' '+str(titulo)+' '+str(dato)+'             '\n",
    "              else:\n",
    "                if str(filas[i])!='nan':\n",
    "                  texto=texto+' '+str(dato)+' '+str(filas[i])+'             '\n",
    "                else: \n",
    "                  texto=texto+' '+str(dato)+'                  '\n",
    "    else:\n",
    "      indice_actual=columnas.index(año_actual)\n",
    "      for i in range(0,num_filas):\n",
    "        \n",
    "        \n",
    "          \n",
    "          dato=df.iloc[i,indice_actual]\n",
    "          if str(dato)!='Nan' and str(dato)!='na' and str(dato)!='NaN' and str(dato)!='nan':\n",
    "            \n",
    "              if str(titulo) !='Unnamed: 0':\n",
    "                if str(filas[i])!='nan':\n",
    "\n",
    "                  texto=texto+' '+str(titulo)+' '+str(dato)+' '+str(filas[i])+' '+str(columnas[indice_actual])+'             '\n",
    "                else: \n",
    "                  texto=texto+' '+str(titulo)+' '+str(dato)+' '+str(columnas[indice_actual])+'             '\n",
    "                \n",
    "              else:\n",
    "                if str(filas[i])!='nan':\n",
    "                  texto=texto+' '+str(dato)+' '+str(filas[i])+' '+str(columnas[indice_actual])+'             '\n",
    "                else: \n",
    "                  texto=texto+' '+str(dato)+' '+str(columnas[indice_actual])+'                  '\n",
    "             \n",
    "    return limpieza_passages(texto)"
   ]
  },
  {
   "cell_type": "code",
   "execution_count": 22,
   "metadata": {},
   "outputs": [
    {
     "data": {
      "text/plain": [
       "' key figures 2020.0 (million euros)              key figures 2019.0 (million euros)              key figures 2018.0 (million euros)              key figures 2017.0 (million euros)              key figures 421.1 total revenue              key figures 382.5 total revenue              key figures 304.8 total revenue              key figures 277.4 total revenue              key figures 94.2 ebitda              key figures 60.9 ebitda              key figures 29.5 ebitda              key figures 29.9 ebitda              key figures 19.8 net financial debt              key figures 15.9 net financial debt              key figures 62.8 net financial debt              key figures 1.1 net financial debt              key figures 1.419 employees              key figures 1.31 employees              key figures 1.224 employees              key figures 1.191 employees             '"
      ]
     },
     "execution_count": 22,
     "metadata": {},
     "output_type": "execute_result"
    }
   ],
   "source": [
    "tabla_to_lines(tabula.read_pdf('./data/rovi-sostenibilidad-2020.pdf', pages=14)[0],'2020')"
   ]
  },
  {
   "cell_type": "code",
   "execution_count": 26,
   "metadata": {},
   "outputs": [
    {
     "data": {
      "text/plain": [
       "False"
      ]
     },
     "execution_count": 26,
     "metadata": {},
     "output_type": "execute_result"
    }
   ],
   "source": [
    "columnas_son_años(tabla_ej.columns)"
   ]
  },
  {
   "cell_type": "code",
   "execution_count": 37,
   "metadata": {},
   "outputs": [
    {
     "data": {
      "text/plain": [
       "array(['(million euros)', 2020.0, 2019.0, 2018.0, 2017.0, nan],\n",
       "      dtype=object)"
      ]
     },
     "execution_count": 37,
     "metadata": {},
     "output_type": "execute_result"
    }
   ],
   "source": [
    "tabla_ej.iloc[0,:].values"
   ]
  },
  {
   "cell_type": "code",
   "execution_count": 39,
   "metadata": {},
   "outputs": [
    {
     "data": {
      "text/plain": [
       "{2017, 2018, 2019, 2020}"
      ]
     },
     "execution_count": 39,
     "metadata": {},
     "output_type": "execute_result"
    }
   ],
   "source": [
    "set(tabla_ej.iloc[0,:].values).intersection(set([2019,2020,2021,2018,2017]))"
   ]
  },
  {
   "cell_type": "code",
   "execution_count": 41,
   "metadata": {},
   "outputs": [
    {
     "ename": "TypeError",
     "evalue": "int() argument must be a string, a bytes-like object or a number, not 'list'",
     "output_type": "error",
     "traceback": [
      "\u001b[1;31m---------------------------------------------------------------------------\u001b[0m",
      "\u001b[1;31mTypeError\u001b[0m                                 Traceback (most recent call last)",
      "Cell \u001b[1;32mIn[41], line 1\u001b[0m\n\u001b[1;32m----> 1\u001b[0m \u001b[39mint\u001b[39;49m(años)\n",
      "\u001b[1;31mTypeError\u001b[0m: int() argument must be a string, a bytes-like object or a number, not 'list'"
     ]
    }
   ],
   "source": [
    "int(años)"
   ]
  },
  {
   "cell_type": "code",
   "execution_count": null,
   "metadata": {},
   "outputs": [],
   "source": [
    "def filas_son_años2(df):\n",
    "  '''\n",
    "  xx\n",
    "  '''\n",
    "  years_txt=['2019','2020','2021','2018','2017']\n",
    "  years_int=[2019,2020,2021,2018,2017]\n",
    "  years = set(years_txt+years_int)\n",
    "  columnas = set(columnas)\n",
    "  son=False\n",
    "  interseccion= set(columnas).intersection(years)\n",
    "  interseccion = list(interseccion)\n",
    "  \n",
    "  if len(interseccion)>1:\n",
    "    son=True\n",
    "    return son\n",
    "  else:"
   ]
  },
  {
   "cell_type": "code",
   "execution_count": 58,
   "metadata": {},
   "outputs": [],
   "source": [
    "years_txt=['2019','2020','2021','2018','2017']\n",
    "years_int=[2019,2020,2021,2018,2017]\n",
    "years = set(years_txt+years_int)"
   ]
  },
  {
   "cell_type": "code",
   "execution_count": 61,
   "metadata": {},
   "outputs": [
    {
     "name": "stdout",
     "output_type": "stream",
     "text": [
      "{2017.0, 2018.0, 2019.0, 2020.0}\n"
     ]
    }
   ],
   "source": [
    "for i in tabla_ej.iterrows():\n",
    "    #print(i[1].values)\n",
    "    try:\n",
    "        cruce = set(i[1].values).intersection(set(years))\n",
    "        if len(cruce)>0:\n",
    "            return i[0]\n",
    "    break"
   ]
  },
  {
   "cell_type": "code",
   "execution_count": 71,
   "metadata": {},
   "outputs": [
    {
     "data": {
      "text/plain": [
       "0       (million euros)\n",
       "1         Total revenue\n",
       "2                EBITDA\n",
       "3    Net financial debt\n",
       "4             Employees\n",
       "Name: KEY FIGURES, dtype: object"
      ]
     },
     "execution_count": 71,
     "metadata": {},
     "output_type": "execute_result"
    }
   ],
   "source": [
    "tabla_ej.iloc[:,0]"
   ]
  },
  {
   "cell_type": "code",
   "execution_count": 72,
   "metadata": {},
   "outputs": [
    {
     "data": {
      "text/html": [
       "<div>\n",
       "<style scoped>\n",
       "    .dataframe tbody tr th:only-of-type {\n",
       "        vertical-align: middle;\n",
       "    }\n",
       "\n",
       "    .dataframe tbody tr th {\n",
       "        vertical-align: top;\n",
       "    }\n",
       "\n",
       "    .dataframe thead th {\n",
       "        text-align: right;\n",
       "    }\n",
       "</style>\n",
       "<table border=\"1\" class=\"dataframe\">\n",
       "  <thead>\n",
       "    <tr style=\"text-align: right;\">\n",
       "      <th></th>\n",
       "      <th>KEY FIGURES</th>\n",
       "      <th>Unnamed: 0</th>\n",
       "      <th>Unnamed: 1</th>\n",
       "      <th>Unnamed: 2</th>\n",
       "      <th>Unnamed: 3</th>\n",
       "      <th>102-7</th>\n",
       "    </tr>\n",
       "  </thead>\n",
       "  <tbody>\n",
       "    <tr>\n",
       "      <th>(million euros)</th>\n",
       "      <td>(million euros)</td>\n",
       "      <td>2020.000</td>\n",
       "      <td>2019.00</td>\n",
       "      <td>2018.000</td>\n",
       "      <td>2017.000</td>\n",
       "      <td>NaN</td>\n",
       "    </tr>\n",
       "    <tr>\n",
       "      <th>Total revenue</th>\n",
       "      <td>Total revenue</td>\n",
       "      <td>421.100</td>\n",
       "      <td>382.50</td>\n",
       "      <td>304.800</td>\n",
       "      <td>277.400</td>\n",
       "      <td>NaN</td>\n",
       "    </tr>\n",
       "    <tr>\n",
       "      <th>EBITDA</th>\n",
       "      <td>EBITDA</td>\n",
       "      <td>94.200</td>\n",
       "      <td>60.90</td>\n",
       "      <td>29.500</td>\n",
       "      <td>29.900</td>\n",
       "      <td>NaN</td>\n",
       "    </tr>\n",
       "    <tr>\n",
       "      <th>Net financial debt</th>\n",
       "      <td>Net financial debt</td>\n",
       "      <td>19.800</td>\n",
       "      <td>15.90</td>\n",
       "      <td>-62.800</td>\n",
       "      <td>1.100</td>\n",
       "      <td>NaN</td>\n",
       "    </tr>\n",
       "    <tr>\n",
       "      <th>Employees</th>\n",
       "      <td>Employees</td>\n",
       "      <td>1.419</td>\n",
       "      <td>1.31</td>\n",
       "      <td>1.224</td>\n",
       "      <td>1.191</td>\n",
       "      <td>NaN</td>\n",
       "    </tr>\n",
       "  </tbody>\n",
       "</table>\n",
       "</div>"
      ],
      "text/plain": [
       "                           KEY FIGURES  Unnamed: 0  Unnamed: 1  Unnamed: 2  \\\n",
       "(million euros)        (million euros)    2020.000     2019.00    2018.000   \n",
       "Total revenue            Total revenue     421.100      382.50     304.800   \n",
       "EBITDA                          EBITDA      94.200       60.90      29.500   \n",
       "Net financial debt  Net financial debt      19.800       15.90     -62.800   \n",
       "Employees                    Employees       1.419        1.31       1.224   \n",
       "\n",
       "                    Unnamed: 3  102-7  \n",
       "(million euros)       2017.000    NaN  \n",
       "Total revenue          277.400    NaN  \n",
       "EBITDA                  29.900    NaN  \n",
       "Net financial debt       1.100    NaN  \n",
       "Employees                1.191    NaN  "
      ]
     },
     "execution_count": 72,
     "metadata": {},
     "output_type": "execute_result"
    }
   ],
   "source": [
    "tabla_ej.set_index(tabla_ej.iloc[:,0].values)"
   ]
  },
  {
   "cell_type": "code",
   "execution_count": null,
   "metadata": {},
   "outputs": [],
   "source": []
  }
 ],
 "metadata": {
  "kernelspec": {
   "display_name": "gdelt",
   "language": "python",
   "name": "python3"
  },
  "language_info": {
   "codemirror_mode": {
    "name": "ipython",
    "version": 3
   },
   "file_extension": ".py",
   "mimetype": "text/x-python",
   "name": "python",
   "nbconvert_exporter": "python",
   "pygments_lexer": "ipython3",
   "version": "3.9.16"
  },
  "orig_nbformat": 4
 },
 "nbformat": 4,
 "nbformat_minor": 2
}
