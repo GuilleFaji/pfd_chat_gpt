{
 "cells": [
  {
   "cell_type": "code",
   "execution_count": 59,
   "metadata": {},
   "outputs": [],
   "source": [
    "import numpy as np\n",
    "import pandas as pd\n",
    "import csv\n",
    "import os\n",
    "import re\n",
    "import io\n",
    "import json\n",
    "import pypdf\n",
    "import langchain\n",
    "from langchain.document_loaders.csv_loader import CSVLoader\n",
    "from langchain.indexes import VectorstoreIndexCreator\n",
    "import tabula\n",
    "import openai"
   ]
  },
  {
   "cell_type": "code",
   "execution_count": 2,
   "metadata": {},
   "outputs": [],
   "source": [
    "api_key = json.load(open('./data/creds/gpt_id.json'))['api_key']\n",
    "openai.api_key = api_key\n",
    "os.environ['OPENAI_API_KEY'] = api_key"
   ]
  },
  {
   "cell_type": "code",
   "execution_count": 10,
   "metadata": {},
   "outputs": [],
   "source": [
    "nan_equivalents = [np.NaN, np.nan,\n",
    "                       'nan', 'NaN', 'Nan', 'NAN', 'na', 'NA',\n",
    "                       'Unnamed:0',\n",
    "                       '', '-', ' ', '  ', '   ']\n",
    "\n",
    "titulo = ' -'"
   ]
  },
  {
   "cell_type": "code",
   "execution_count": 11,
   "metadata": {},
   "outputs": [
    {
     "data": {
      "text/plain": [
       "False"
      ]
     },
     "execution_count": 11,
     "metadata": {},
     "output_type": "execute_result"
    }
   ],
   "source": [
    "titulo in nan_equivalents"
   ]
  },
  {
   "cell_type": "code",
   "execution_count": 87,
   "metadata": {},
   "outputs": [],
   "source": [
    "def limpieza_texto(texto: str) -> str:\n",
    "    '''\n",
    "    Función para limpiar texto de pdfs.\n",
    "    Cambia saltos de línea, espacios en blanco y caracteres especiales.\n",
    "    '''\n",
    "    # Eliminamos espacios en blanco\n",
    "    #texto = re.sub(' +', ' ', texto)\n",
    "    # Eliminamos caracteres especiales [REVISAR]\n",
    "    #texto = re.sub('[^A-Za-z0-9]+', ' ', texto)\n",
    "    # Eliminamos saltos múltiples de línea\n",
    "    texto = re.sub(r\"\\n\\s*\\n\", \"\\n\\n\", texto)\n",
    "    texto = re.sub(r\"\\n\", \";\", texto)\n",
    "    return texto\n",
    "\n",
    "def tabla_a_texto(tabla):\n",
    "    '''\n",
    "    Función para convertir una tabla de pandas en un texto.\n",
    "    La idea es identificar los nombres de columna e índices correctos y\n",
    "    a partir de ahí generar un texto que pueda ser procesado por el modelo.\n",
    "    '''\n",
    "    tabla = tabla.copy()\n",
    "    \n",
    "    # Tamaño mínimo de tabla para que sea válida = 2x2\n",
    "    if sum(tabla.shape) < 4:\n",
    "        return ''\n",
    "    \n",
    "    # Lista de valores que consideramos NaN:\n",
    "    nan_equivalents = [np.NaN, np.nan,\n",
    "                       'nan', 'NaN', 'Nan', 'NAN', 'na', 'NA',\n",
    "                       'Unnamed:0', 'Unnamed: 0'\n",
    "                       '', '-', ' ', '  ', '   ']\n",
    "    \n",
    "    # Asumimos que el primer elemento es el título salvo si es NaN:\n",
    "    titulo = tabla.columns[0] if tabla.columns[0] not in nan_equivalents else ''\n",
    "    \n",
    "    # Asumimos que la primera columna es el índice y la eliminamos:\n",
    "    tabla.index = tabla[tabla.columns[0]].values\n",
    "    tabla.drop(columns=tabla.columns[0], inplace=True)\n",
    "\n",
    "    # Si las columnas tienen muchos 'Unnamed' suele ser porque hay\n",
    "    # varias líneas de texto. En ese caso, las juntamos en una sola:\n",
    "    if sum(['Unnamed' in i for i in tabla.columns]) > 2:\n",
    "        nueva_columna = [f'{tabla.columns[i]} {tabla.iloc[0,i]}'\n",
    "                         for i in range(len(tabla.columns))]\n",
    "        nueva_columna = [i.replace('Unnamed: ','') for i in nueva_columna]\n",
    "        tabla.columns = nueva_columna\n",
    "\n",
    "    \n",
    "    # Eliminamos las filas y columnas que no tienen datos:\n",
    "    tabla.replace(nan_equivalents, np.nan, inplace=True)\n",
    "    tabla.dropna(axis=0, how='all', inplace=True)\n",
    "    tabla.dropna(axis=1, how='all', inplace=True)\n",
    "    \n",
    "    # Check si las columnas son años:\n",
    "    col_años = False\n",
    "    years_txt=[str(i) for i in range(2015,2022)]\n",
    "    years_int=[i for i in range(2015,2022)]\n",
    "    years = set(years_txt+years_int)\n",
    "    cruce = set(tabla.columns).intersection(set(years))\n",
    "    if len(cruce) > 0: col_años=True\n",
    "    \n",
    "    # Si no son años las columnas, buscamos filas que sean años:\n",
    "    contexto = None\n",
    "    if not col_años:\n",
    "        for i in tabla.iterrows():\n",
    "            #print(i[1].values)\n",
    "            try:\n",
    "                cruce = set(i[1].values).intersection(set(years))\n",
    "            except:\n",
    "                cruce=[]\n",
    "            if len(cruce)>0: # Si encontramos una fila con años:\n",
    "                # Asignamos los años a las columnas:\n",
    "                tabla.columns = i[1].values\n",
    "                try: \n",
    "                    contexto = i[1].name\n",
    "                except:\n",
    "                    contexto = None\n",
    "                # Drop de la fila:\n",
    "                tabla.drop(i[0], inplace=True)\n",
    "                break\n",
    "    # Los procesos anteriores pueden haber dejado filas vacías, las eliminamos:\n",
    "    tabla.replace(nan_equivalents, np.nan, inplace=True)\n",
    "    tabla.dropna(axis=0, how='all', inplace=True)\n",
    "    tabla.dropna(axis=1, how='all', inplace=True)\n",
    "    # Pasamos a texto:\n",
    "    texto = ''\n",
    "    for i in tabla.items():\n",
    "        txt = [f' {titulo} + {i[0]} + {x[0]} = {x[1]}; '\n",
    "            for x in list(i[1].items())]\n",
    "        add= ''.join(txt)\n",
    "        if contexto:\n",
    "            txt = [f' {titulo} + {contexto} + {i[0]} + {x[0]} = {x[1]}; '\n",
    "                for x in list(i[1].items())]\n",
    "            add = ''.join(txt)\n",
    "        add = add.replace('  ',' ').replace('\\n','; ').replace('  ','')\n",
    "        texto += f';  Tabla={titulo}: {add}'\n",
    "    return texto\n",
    "\n",
    "def extract_text_from_pdf(pdf_path: str) -> list:\n",
    "    '''\n",
    "    Función para extraer texto de un pdf y limpiarlo.\n",
    "    Devuelve una lista de str, cada una es una página del pdf.\n",
    "    '''\n",
    "    # Abrimos el pdf\n",
    "    with open(pdf_path, 'rb') as f:\n",
    "        pdf = pypdf.PdfReader(f)\n",
    "        # Obtenemos el número de páginas\n",
    "        num_pags = len(pdf.pages)\n",
    "        count = 0\n",
    "        text = []\n",
    "        # Iteramos sobre las páginas\n",
    "        for pag in pdf.pages:\n",
    "            count +=1\n",
    "            texto_pagina = pag.extract_text()\n",
    "            tablas = tabula.read_pdf(pdf_path, pages=count)\n",
    "            for tabla in tablas:\n",
    "                texto_pagina += f'; {tabla_a_texto(tabla=tabla)}; '\n",
    "            texto_pagina = limpieza_texto(texto_pagina)\n",
    "            text.append(texto_pagina)\n",
    "    return text"
   ]
  },
  {
   "cell_type": "code",
   "execution_count": 88,
   "metadata": {},
   "outputs": [],
   "source": [
    "# Test con un pdf\n",
    "resultado = extract_text_from_pdf('./data/rovi-sostenibilidad-2020.pdf')"
   ]
  },
  {
   "cell_type": "code",
   "execution_count": 89,
   "metadata": {},
   "outputs": [],
   "source": [
    "# Guardamos el resultado en un csv con 1 fila por página\n",
    "with open('lista_test.csv', 'w', newline='') as file:\n",
    "    \n",
    "    writer = csv.writer(file)\n",
    "    writer.writerows([[str(i)] for i in resultado])"
   ]
  },
  {
   "cell_type": "code",
   "execution_count": 90,
   "metadata": {},
   "outputs": [],
   "source": [
    "splitter = langchain.text_splitter.RecursiveCharacterTextSplitter(\n",
    "    chunk_size=500,\n",
    "    chunk_overlap=50,\n",
    "    length_function = len)\n",
    "\n",
    "x = splitter.create_documents(resultado, metadatas=[{'pag': i} for i in list(range(len(resultado)))])"
   ]
  },
  {
   "cell_type": "code",
   "execution_count": 69,
   "metadata": {},
   "outputs": [
    {
     "data": {
      "text/plain": [
       "'REPORT;20;20'"
      ]
     },
     "execution_count": 69,
     "metadata": {},
     "output_type": "execute_result"
    }
   ],
   "source": [
    "x[0].page_content"
   ]
  },
  {
   "cell_type": "code",
   "execution_count": 91,
   "metadata": {},
   "outputs": [],
   "source": [
    "loader = CSVLoader(file_path='lista_test.csv')\n",
    "#data = loader.load()"
   ]
  },
  {
   "cell_type": "code",
   "execution_count": 29,
   "metadata": {},
   "outputs": [
    {
     "data": {
      "text/plain": [
       "[Document(page_content='REPORT;20;20: CONTENTS;2', lookup_str='', metadata={'source': 'lista_test.csv', 'row': 0}, lookup_index=0),\n",
       " Document(page_content='REPORT;20;20: 1. ABOUT ROVI;2. RESPONSIBLE AND SUSTAINABLE MANAGEMENT;4. HUMAN RESOURCES;5. SUPPLIERS;6. SOCIETY;8. ENVIRONMENT;9. SUPPLEMENTARY INFORMATION7. SHAREHOLDERS3. CUSTOMERS, PATIENTS AND PROFESSIONALS1.1. Group profile;2.1. Statement by the Chief Executive Officer;4.1. Management principles;5.1. Management principles;6.1. Management principles;8.1. Management principles ;9.1. About this Report3.1. Management principles1.2. Business model;2.2. CSR strategy and objectives;4.2. Balance of the year and future challenges;5.2. Balance of the year and future challenges ;6.2. Balance of the year;8.2. Consumption and waste;9.2. GRI Content Index3.2. Balance of the year and future challenges1.3. 1.3. World presence;2.3. Our stakeholders;4.3. Equal opportunities and work-life balance3.3. Innovation2.4. Materiality analysis;4.4. Attracting talent and training3.4. Quality2.5. Ethics and integrity;4.5. Trade union information3.5. Pharmacovigilance and product safety2.6. Risk management;4.6. Occupational health and safety;91848173694636194;3', lookup_str='', metadata={'source': 'lista_test.csv', 'row': 1}, lookup_index=0),\n",
       " Document(page_content='REPORT;20;20: 1. ABOUT ;ROVI;4', lookup_str='', metadata={'source': 'lista_test.csv', 'row': 2}, lookup_index=0),\n",
       " Document(page_content='REPORT;20;20: 1.1. GROUP PROFILE;ROVI is a specialised, fully-integrated pharmaceutical company engaged in the research, ;development, toll manufacturing and marketing of small molecules and biological ;specialties, with three diversified growth engines: ;• Proprietary Division, which is a leader in the low-molecular-weight heparin (LMWH) field. ;In 2020, this represented 50% of total group sales.;• Pharmaceutical specialties division, with a diversified portfolio of innovative licensed ;products, protected by patents.;• Toll manufacturing operations at global-scale directed at high value-added products.;In addition, ROVI has a sound, low-risk R&D policy, where the patented ISM® platform opens ;up new channels of growth. ;All the companies that form the ROVI Group are aware that their activity is conducive to the ;health improvements provided by their products and wish to provide a response to certain ;social demands in relation to the impacts of their activities on society and the environment. ;For this reason, ROVI’s economic development must be compatible with its conduct with ;respect to ethics, society, employment, the environment and respect for human rights. ;CORPORATE INFORMATION;Name: Laboratorios Farmacéuticos ROVI, S.A.;Dirección: Julián Camarillo, 35. 28037 Madrid. España;Address: 0034 91 375 62 30;Website: www.ROVI.es;Share capital: 3,364,137.90 euros;Number of shares: 56,068,965;Par value: 0.06€ share;Activity: Manufacturing and marketing of pharmaceutical products and toll ;manufacturing services.;Markets: The ROVI Group has direct presence in Spain, Portugal, Germany, France, ;United Kingdom, Italy and Poland  and is listed on the Barcelona, Bilbao, ;Valencia and Madrid Stock Exchanges.102-1, 102-3, 102-5;5', lookup_str='', metadata={'source': 'lista_test.csv', 'row': 3}, lookup_index=0),\n",
       " Document(page_content='REPORT;20;20: GROUP STRUCTURE  ;;Corporate name Address Activity;Laboratorios Farmacéuticos Rovi, S.A. Madrid, C/Julián Camarillo, 35   A  ;Pan Química Farmacéutica, S.A. Madrid, C/Rufino González, 50   A  ;Gineladius, S.L. Madrid, C/Rufino González, 50   B  ;Bertex Pharma GmbH Inselstr.17. 14129 Berlín (Germany)   C  ;Rovi Pharma Industrial Services, S.A. Alcalá de Henares, Avenida Complutense, 140 Madrid (Spain)   A  ;Rovi Escúzar, S.L. Madrid, C/Julián Camarillo, 35   A  ;Rovi Biotech Limited 10-18 Union Street, London (United Kingdom)   A  ;Rovi Biotech, S.R.L. Via Monte Rosa 91, Milan (Italy)   A  ;Rovi GmbH Ruhlandstr. 5, Bad Tölz (Germany)    A  ;Rovi S.A.S. Rue du Drac, 24. 38180 Seyssins (France)   A  ;Rovi Biotech sp. z o.o. o Rovi Biotech spółka z o.o. Mokotów, ul. Rzymowskiego 53, 02-697 Warsaw, Poland   A  ;;Manufacturing, marketing and sale of pharmaceutical, healthcare and medicinal products.;Import, export, purchase, sale, distribution and marketing of articles related to comprehensive women’s ;healthcare.;Development, distribution and trading of pharmaceutical products related to microparticle technology.  A  ;  B  ;  C    Laboratorios Farmacéuticos ;Rovi, S.A.;Rovi Pharma;Industrial ;Services, S.A.100%;Pan Química ;Farmacéutica, ;S.A.100%;Gineladius,;S.L. 100%;Bertex;Pharma;GmbH 100%;Rovi;Biotech;Sp.z.o.o*100%;Rovi ;Escuzar,;S.L. 100%;Rovi;Biotech,;S.R.L. 100%;Rovi;Biotech;Limited100% 100%;Rovi ;GmbH100%;Rovi, ;S.A.S.;102-4, 102-45;6; ;  GROUP STRUCTURE: 1-Columna: Unnamed: 2 2-Datos: [Rovi Rovi Rovi RoviRovi,; Escuzar, Biotech Biotech, GmbHS.A.S.; Corporate name Address Activity; Laboratorios Farmacéuticos Rovi, S.A. Madrid, C/Julián Camarillo, 35A; Pan Química Farmacéutica, S.A. Madrid, C/Rufino González, 50A; Gineladius, S.L. Madrid, C/Rufino González, 50 B; Bertex Pharma GmbH Inselstr.17. 14129 Berlín (Germany) C; Rovi Pharma Industrial Services, S.A. Alcalá de Henares, Avenida Complutense, 140 Madrid (Spain)A; Rovi Escúzar, S.L. Madrid, C/Julián Camarillo, 35 A; Rovi Biotech Limited 10-18 Union Street, London (United Kingdom)A; Rovi Biotech, S.R.L. Via Monte Rosa 91, Milan (Italy) A; Rovi GmbH Ruhlandstr. 5, Bad Tölz (Germany)A; Rovi S.A.S. Rue du Drac, 24. 38180 Seyssins (France)A; Rovi Biotech sp. z o.o. o Rovi Biotech spółka z o.o. Mokotów, ul. Rzymowskiego 53, 02-697 Warsaw, PolandA; Name: Unnamed: 2, dtype: object];', lookup_str='', metadata={'source': 'lista_test.csv', 'row': 4}, lookup_index=0),\n",
       " Document(page_content='REPORT;20;20: SHAREHOLDER COMPOSITION;63.11%;Norbel Inversores, S.L.;5.57%;Indumenta Pueri, S.L.;3.043%;T.Rowe Price International Funds, Inc;3.005%;Wellington Management Group, LLP;25.275%;Other;7', lookup_str='', metadata={'source': 'lista_test.csv', 'row': 5}, lookup_index=0),\n",
       " Document(page_content='REPORT;20;20: HISTORY AND KEY MILESTONES;1946;1981;1998;2002;2003;2006;2009;2012;2013;2014;2015;2016;2017;2018;2019;2020Collaboration for the fill-finish manufacture of Moderna’s COVID-19 candidate vaccine ;outside the United StatesFoundation of the company;Start of research into low-molecular-weight heparins;Launch of Bemiparin on the Spanish market and start-up of operations in Portugal;Internationalization of ROVI following approval of Bemiparin outside Spain;Increased international coverage to 59 countries;Construction of the Granada R&D&i centre and plant;Strategic agreement with Merck Sharp & Dohme (MSD);FDA certification of the injectables plant;Agreements to market products from Novartis and Medice;Registration process for an enoxaparin biosimilar with the EMA and FDA;Acquisition of the new injectables plant in San Sebastián de Los Reyes, with which ;ROVI reinforced its toll manufacturing capacity and secured the growth of Bemiparin ;and the potential enoxaparin biosimilar;Successful completion of PRISMA-2 study of the clinical development of the new ;long-acting injectable Risperidone ISM®;Marketing agreement with Novartis for Neparvis®;Commencement of the marketing of an enoxaparin biosimilar in Germany;Beginning of Phase III clinical trial of Doria® (Risperidone ISM®);Launch of an enoxaparin biosimilar in Spain, France, United Kingdom, Italy, Austria, ;Estonia and Latvia under the trade mark “Enoxaparina Rovi”;Conclusion of the PRISMA-3 and BORIS studies and end of the Clinical Research ;Programme for Risperidone ISM - Doria® in patients with schizophrenia and ;marketing authorisation application;8', lookup_str='', metadata={'source': 'lista_test.csv', 'row': 6}, lookup_index=0),\n",
       " Document(page_content='REPORT;20;20: TRADEMARKS, SERVICES AND PRODUCTS ;ROVI focuses its activity on nine main therapeutic areas:;• Cardiovascular;• Osteoarticular/Women’s health;• Anaesthesia/ Pain;• Radiodiagnostics contrasting agents;• Central nervous system;• Urology;• Endocrinology;• Respiratory system;• Primary healthcare;ROVI’s main growth engines are its matchless knowledge of the low-molecular-weight ;heparin (LMWH) market based on in-house development of two proprietary products ;(Bemiparin and an enoxaparin biosimilar), its pharmaceutical specialty business -a leader in ;Spain-, and the toll manufacturing area. ;PHARMACEUTICAL SPECIALTIES;ROVI has a diversified portfolio comprising more than 18 of its own products and 18 licensed ;products. ;ROVI aspires to become one of the world leaders in low-molecular-weight heparins (LMWHs). ;To achieve this, it has two products from its own research: bemiparin Hibor® and the ;enoxaparin biosimilar. The low-molecular-weight heparin division accounts for 50% of total ;group sales.; –Hibor®;Hibor (Bemiparin) is a low-molecular-weight heparin (fast-acting anticoagulant) used to ;prevent and treat venous thromboembolic disease (VTD) in both surgical and medical ;patients for the acute and long-term treatment of patients who have suffered VTD. VTD is ;a serious and potentially fatal process, the main characteristic of which is the formation of ;a fibrin clot, thrombosis, inside the veins of the deep vein system, with the consequences ;that may result from the evolution of the venous thrombus, which may grow, progress and ;fragment. In the event of fragmentation, some of the fragments may reach the lung and ;cause pulmonary embolism. In Spain alone, it is estimated that close to 65,000 cases of deep ;vein thrombosis occur every year, as well as a further 25,000 cases of pulmonary embolism ;(data extrapolated from Thromb Haemost 2000, 2001 and 2005).102-2;9', lookup_str='', metadata={'source': 'lista_test.csv', 'row': 7}, lookup_index=0),\n",
       " Document(page_content='REPORT;20;20: Over recent years, Bemiparin has become one of the main treatments for this disease ;worldwide, having expanded its presence to 58 countries as the result of a strategic alliance ;network. Currently, Bemiparin is ROVI’s principal product and accounts for 24.14% of the ;group’s operating revenue.; –Enoxaparin ROVI;ROVI’s enoxaparin sodium biosimilar is an anticoagulant medicine that belongs to the ;low-molecular-weight heparin group. It is used to treat and prevent deep vein thrombosis ;and pulmonary embolism. Enoxaparin sales totalled 101.4 million euros in 2020 and already ;account for 24.14% of ROVI’s operating revenue.;In 2017, ROVI began the marketing of its Enoxaparin biosimilar (low-molecular-weight ;heparin) in Germany. In 2018, it was launched in Spain, United Kingdom, Italy, France Austria, ;Latvia and Estonia under the trade mark “Enoxaparin ROVI”, thus expanding its presence in ;Europe. Furthermore, also in 2018, ROVI signed an agreement with Biogaran SAS, the leading ;French pharmaceutical company in generics and biosimilars and a subsidiary of Laboratorios ;Servier, to market its enoxaparin biosimilar in France on a semi-exclusive basis. In 2019, ROVI ;extended the biosimilar to Portugal, Poland, Costa Rica, Finland and Sweden. Likewise, in ;the fourth quarter of 2020, it launched the product in Germany and Italy through TEVA and ;Caber, respectively. In the same year, the product reached South Africa, Israel, Peru, the ;Netherlands, Panama and the Dominican Republic.;ROVI has received approval of the respective national registrations of its enoxaparin biosimilar ;in all the EU countries where it was applied for. Overall, the Company has signed marketing ;agreements for its enoxaparin biosimilar in 98 countries.;The enoxaparin market totals more than 2,566 million euros worldwide (according to IQVIA ;MAT Q1 2020 estimates), with a European market share of 75% concentrated in Germany, ;France, Spain, United Kingdom, Portugal and Poland (QuintilesIMS-2015 figures), countries ;in which ROVI hopes to market its product directly through its subsidiaries. Outside Europe, ;in 2018, ROVI signed an agreement with Hikma Pharmaceuticals PLC, a listed multinational ;pharmaceutical group, for the exclusive distribution and marketing of its enoxaparin ;biosimilar in 17 countries in the Middle East and North Africa: Saudi Arabia, Jordan, Algeria, ;Egypt, Tunisia, Sudan, Syria, Yemen, Iraq, Oman, United Arab Emirates, Kuwait, Qatar, ;Bahrain, Libya, Palestine and Lebanon. Furthermore, ROVI signed an agreement with ;Sandoz, a division of Novartis AG, the world leader in generic and biosimilar medicines, for ;the distribution and marketing of its enoxaparin biosimilar in 14 countries/regions (Australia, ;New Zealand, Philippines, Hong Kong, Singapore, Vietnam, Malaysia, Canada, South Africa, ;Brazil, Colombia, Argentina, Mexico and Central America). Under this agreement, ROVI grants ;Sandoz an exclusive licence to market the product in three of these countries, Hong Kong, ;Singapore and Vietnam.;With the enoxaparin biosimilar, ROVI aspires to become one of the main European -and, in ;the medium- and long-term, world players, thanks to the competitive edge provided by the ;vertical integration of processes in the group, in a 1,300-million-euro market where there ;are only two other biosimilars, likewise increasing its presence in emerging markets with a ;potential of 687 million euros.;ROVI is firmly committed to reinforcing the industrial fabric in Spain with a business model ;that integrates all the production processes through four manufacturing plants (Alcalá de ;Henares, Granada, Madrid and San Sebastián de los Reyes). It is also building a fifth facility in ;Granada which, with an investment of 35.7 million euros and an estimated 38 employees, will ;enable the ROVI group’s low-molecular-weight heparin production capacity to double.;10', lookup_str='', metadata={'source': 'lista_test.csv', 'row': 8}, lookup_index=0),\n",
       " Document(page_content='REPORT;20;20: The following are the products marketed under licensing agreements that make the ;greatest contribution to the group’s EBITDA.; –Neparvis®;ROVI began to market Neparvis® (sacubitril/valsartan) of Novartis in December 2016. This ;product is indicated in adult patients for treatment of symptomatic chronic heart failure with ;reduced ejection (the proportion of blood leaving the heart) fraction.; –Hirobriz® Breezhaler® y Ulunar® Breezhaler®;In the last quarter of 2014, ROVI began the sale of Breezhaler (indacterol maleate), and ;Ulumar Breezhaler (indacaterol maleate and glycopyrronium bromide) in Spain. Both these ;active substances are long-acting bronchodilators indicated for the maintenance treatment ;of Chronic Obstructive Pulmonary Diseases (COPD) in adult patients and administered by ;inhalations through the Breezhaler device. ROVI markets the two products under licence ;from Novartis.; –Volutsa®;In the first quarter of 2015, ROVI launched the sale of Volutsa (solifenacin succinate and ;tamsulosin hydrochloride), an Astellas Pharma product indicated for the treatment of ;moderate to severe storage symptoms (urgency, increased micturition frequency) and ;voiding symptoms associated with benign prostatic hyperplasia (BPH) in men who are not ;responding adequately to monotherapy treatment.; –Vytorin®, Orvatez® y Absorcol®;Vytorin® (ezetimibe and simvastatin), Orvatez® (ezetimibe y atorvastatin) and ;Absorcol® (ezetimibe) are products used as adjunctive therapy to diet in patients with ;hypercholesterolemia and are the first of the five MSD marketing licences granted to ROVI. ;In the second quarter of 2018, the patent for the active substance ezetimibe expired and, ;therefore, the price of Absorcol® dropped. Likewise, generic medicines formulated with ;ezetimibe and simvastatin have recently started to be marketed and, therefore, the price of ;Vytorin® has been lowered in order to maintain its competitivity.; –Medikinet® y Medicebran®;Medikinet (methylphenidate hydrochloride with modified release) and Medicebran ;(methylphenidate hydrochloride with immediate release) are prescription products indicated ;for treatment of ADHD (Attention Deficit Hyperactivity Disorder) in children and adolescents. ;Both products are from the company Medice and ROVI has been distributing them on an ;exclusive basis in Spain since December 2013.;11', lookup_str='', metadata={'source': 'lista_test.csv', 'row': 9}, lookup_index=0),\n",
       " Document(page_content='REPORT;20;20: –Falithrom®;After the purchase of Falithrom® in 2019, a product that had belonged to Hexal AG, a ;company belonging to the Sandoz Division of Novartis, ROVI has been marketing this ;product in Germany since the administrative procedures to authorise the transfer of the ;market authorisations were completed with the German Federal Institute of Medicines and ;Medical Devices (BfArM).;This product is used for the prevention and treatment of thromboembolic disease, including ;venous thrombosis and pulmonary embolism, as well as the prevention of ischemic strokes in ;patients with atrial fibrillation.; –Polaramine® y Polaracrem TM;ROVI has reached an agreement with a subsidiary of Merck Sharp and Dohme (“MSD”) ;whereby it acquires certain rights for MSD’s dexchlorpheniramine maleate product line, ;allowing it to distribute this product directly in Spain in its different pharmaceutical forms ;(tablets, syrup and ampoules, marketed under the trademark POLARAMINE®, and cream, ;marketed under the trademark POLARACREM™), and in France in its injectable form ;(ampoules).;This product line belongs to a group of medicines known as antihistamines. They are ;indicated for the symptomatic treatment of seasonal and perennial allergic rhinitis, ;vasomotor rhinitis, allergic conjunctivitis, mild, uncomplicated allergic cutaneous ;manifestations of urticaria or angioedema; and reactions to blood or plasma. It is also ;indicated, together with adrenalin or other appropriate measures, for treatment of ;anaphylactic reactions after the acute manifestations have been controlled. These products ;often relieve cutaneous manifestations such as allergic eczema, atopic and contact ;dermatitis, insect bites, dermographisms and drug reactions.; –Contrast agents for diagnostic imaging and other hospital products;ROVI is one of the market leaders in the marketing of contrast agents, hospital products for ;imaging diagnosis (computed tomography, magnetic resonance imaging, ultrasound scan, ;etc.). This area, which accounts for approximately 7.3% of the company’s revenue, comprises ;a broad product portfolio, including those marketed under licence from Bracco: Iomeron® ;and Iopamiro® (for computed tomography and intervention),  Multihance® y Prohance® ;(for magnetic resonance imaging), Sonovue® (for ultrasounds), and Bracco Injeenering: ;EmpowerCTA+®, EmpowerMR® and CT Exprès (contrast injection systems and compatible ;disposable material).;The hospital product portfolio is completed by healthcare products for care and maintenance ;of intravenous catheters (Fibrilin® and Fibrilin Salino®).;12', lookup_str='', metadata={'source': 'lista_test.csv', 'row': 10}, lookup_index=0),\n",
       " Document(page_content='REPORT;20;20: TOLL MANUFACTURING;ROVI has been successful in positioning itself strategically to take advantage of the trend ;among multinational pharmaceutical companies to outsource their manufacturing ;processes. Thus, the company make use of the high degree of specialisation of its plants in ;differentiated niches to provide complete development, transfer and manufacturing services ;for high value-added products, with agreements with Moderna in 2020 for the fill-finish of its ;COVID-19 vaccine.;Over recent years, ROVI’s toll manufacturing business has been generated and expanded ;through the ROVI Madrid and ROVI San Sebastián de los Reyes plants in the injectables area, ;and the specialisation in oral solid forms at the ROVI Alcalá de Henares plant. Overall, they ;offer the entire range of pharmaceutical forms to the market, including prefilled syringes, ;vials, suppositories, tablets, coated tablets hard capsules and sachets.;The enoxaparin biosimilar has worked as a catalyst for the integration of ROVI’s industrial ;processes at all its manufacturing plants. This process culminated in 2019 with the integration ;of the different companies engaged in contract manufacturing into a single entity, ROVI ;Pharma Industrial Services, S. A. U. This integration has allowed operating synergies to ;develop and  the scope of the value-added manufacturing services for present and potential ;customers to be extended, as one of the company’s strategic goals.;The unification of the toll manufacturing structures allows us to optimise the resources ;available at our plants, which now work under a more efficient and connected model, ;offering a range of turnkey services that is unique in the market, running from the ;development of a project until the final release of the product in the market, including ;support for prior clinical trials, technology transfer and industrial scaling,  stability studies, ;physiochemical and microbiological analyses, among other items. ROVI Pharma Industrial ;Services allows us to offer our customers comprehensive solutions with the annual capacity ;to manufacture: ;• 300 million syringes ;• 80 million vials;• 3,000 million tablets ;• 300 million hard capsules;• 30 million sachets ;In addition to being one of the world leaders in prefilled syringe production, ROVI is now ;one of the main companies in the high-value-added toll manufacturing business sector, ;with exports to over 50 countries and international sales that account for more than 90%of ;the business and a high degree of technical specialisation in the manufacture of vaccines, ;biological products and biosimilars, all of which are products with a recognised therapeutic ;value.;At the Alcalá de Henares plant, ROVI has a new a centre of excellence for packaging, which ;has been in operation since 2019, with a total of 14 lines, seven of which are dedicated to ;injectables. These new injectables packaging activities in Alcalá are a result of the redirection ;of the toll manufacturing activities towards products with higher value-added, which has ;implied a greater degree of specialisation by the plants in differentiated niches. ;13', lookup_str='', metadata={'source': 'lista_test.csv', 'row': 11}, lookup_index=0),\n",
       " Document(page_content='REPORT;20;20: –Profarma;Each year, in the Plan Profarma, the Ministry of Industry, Tourism and Trade and the Ministry ;of Health, Social Services and Equality classify the pharmaceutical Companies in accordance ;with their contribution to the Spanish industrial fabric, taking their investment in technology, ;new manufacturing plants, research efforts, etc. as a reference. In February 2020, the results ;of Plan Profarma 2019 were issued and ROVI obtained the classification of Excellent for the ;fourteenth consecutive year. ;KEY FIGURES;(million euros) 2020 2019 2018 2017;Total revenue 421.1 382.5  304.8 277.4;EBITDA 94.2 60.9 29.5 29.9;Net financial debt 19.8 15.9 -62.8 1.1;Employees 1.419 1.310 1.224 1.191102-7;14; ;  KEY FIGURES: A-Contexto: (million euros) B-Contenido:1-Columna: 2020.0 2-Datos: [Total revenue 421.100; EBITDA 94.200; Net financial debt 19.800; Employees1.419; Name: 2020.0, dtype: float64];  KEY FIGURES: A-Contexto: (million euros) B-Contenido:1-Columna: 2019.0 2-Datos: [Total revenue 382.50; EBITDA 60.90; Net financial debt 15.90; Employees1.31; Name: 2019.0, dtype: float64];  KEY FIGURES: A-Contexto: (million euros) B-Contenido:1-Columna: 2018.0 2-Datos: [Total revenue 304.800; EBITDA 29.500; Net financial debt-62.800; Employees1.224; Name: 2018.0, dtype: float64];  KEY FIGURES: A-Contexto: (million euros) B-Contenido:1-Columna: 2017.0 2-Datos: [Total revenue 277.400; EBITDA 29.900; Net financial debt 1.100; Employees1.191; Name: 2017.0, dtype: float64];', lookup_str='', metadata={'source': 'lista_test.csv', 'row': 12}, lookup_index=0),\n",
       " Document(page_content='REPORT;20;20: 1.2. BUSINESS MODEL;ROVI is a pan-European pharmaceutical specialty company that enjoys great stability, with a ;total of 1,419 employees, sales of 420.0 million euros at the end of 2020, and three diversified ;growth engines:; –Own-product division, a leader in the low-molecular-weight heparin (LMWH) field ;ROVI has been engaged in the development of heparin-based drugs for more than 70 ;years and has a vertically-integrated and well-positioned structure, with its own LMWH ;manufacturing plant. In 2020, this division represented 50% of total group sales, showing ;growth of 14% in comparison with 2019.;The group has two of its own research products:;• Hibor® (Bemiparin). Low-molecular-weight heparin (fast-acting anticoagulant) indicated ;for the prevention and treatment of venous thromboembolic disease.;• Enoxaparin biosimilar Becat®. Enoxaparin is the principal LMWH in the world. It is used to ;prevent deep vein thrombosis and pulmonary embolism.; –Leading pharmaceutical specialties division in Spain;The company holds a solid leadership in the Spanish market and is the partner of choice for ;obtaining licences among the main pharmaceutical companies worldwide.;ROVI has a diversified portfolio of 18 innovative products of its own and 18 marketed under ;license, protected by patents, and a sales team of approximately 250 highly-qualified people. ;The most important products in terms of their contribution to the group’s EBITDA are: ;Neparvis®, Absorcol®, Vytorin®, Orvatez®, Hirobriz® Breezhaler®, Ulunar® Breezhaler® and ;Volutsa® (see the preceding section for further details of these products).;Additionally, it is one of the market leaders in the marketing of contrast agents, hospital ;products for diagnostic imaging. ; –Global-scale high-valued-added toll manufacturing operations with differentiated ;capabilities ;As one of the world leaders in the manufacture of prefilled injectables, ROVI now exports ;to more than 50 countries, with international sales accounting for around 90% of the toll ;manufacturing business. The group has been successful in positioning itself strategically to ;take advantage of the growing trend among multinational pharmaceutical companies to ;outsource their manufacturing processes, providing a very cost-competitive manufacturing ;position. Thus, it takes advantage of the manufacturing capacity available at its facilities by ;providing complete high-value-added development, transfer and manufacturing services for ;injectables and oral solid forms.;Through its production plants for injectables and solid forms, located in San Sebastián de ;los Reyes, Madrid and Alcalá de Henares, it provides toll manufacturing services for a wide ;range of pharmaceutical forms, including prefilled syringes, vials, suppositories, tablets, hard ;capsules and sachets. ;15', lookup_str='', metadata={'source': 'lista_test.csv', 'row': 13}, lookup_index=0),\n",
       " Document(page_content='REPORT;20;20: Within the framework of its toll manufacturing operations, in July 2020, ROVI announced its ;collaboration in the manufacturing of the fill-finish of Moderna’s COVID-19 vaccine outside ;the United States. ; –Sound, low-risk R&D ;In addition, ROVI has a sound, low-risk R&D policy, where the patented ISM® platform ;opens un new growth channels. In this respect, ROVI allocates a large part of its revenue to ;research, in order to remain in the vanguard in terms of both products and manufacturing ;and development systems. The company operates with a low-risk strategy, concentrating on ;chronic diseases with extensive medical requirements and setting up strategic international ;alliances to tackle the most arduous clinical programmes. Currently, the group’s portfolio ;contains numerous products in the research and development phase and mainly focuses on ;three areas: ;1. INNOVATIVE DRUG-RELEASE TECHNOLOGY, ISM®.;Developed in-house and patented, it allows the prolonged release of compounds ;administered by injection. At the date of this report, three candidates are being studied in ;association with this technology:;• Monthly Risperidone ISM®, indicated for the treatment of schizophrenia. In 2020, ;the registration dossier was filed with both the European authorities (EMA) and the ;United States authorities (FDA) and is currently under evaluation in both territories.;• Letrozole ISM®, indicated for the treatment of breast cancer. Development of this ;product is progressing as planned and it is currently in clinical development Phase I.;• Three-monthly Risperidone ISM®,\\xa0indicated for the treatment of schizophrenia. It is ;in the pre-clinical development phase.;2. GLYCOMICS AREA;The degree of specialisation and knowledge attained in this field through the in-house ;development of the low-molecular-weight heparins bemiparin and the enoxaparin ;biosimilar allows us to continue working to expand alternative applications, indications ;and action mechanisms for heparin-derived products and other glycosaminoglycans.;3. MEDICAL DEVICES;For a number of years, the company has been working on several lines to develop new ;devices focused on preventing urethral tract infections and treating ulcers. ; –Listed company ;ROVI is listed on the Barcelona, Bilbao, Valencia and Madrid Stock Exchanges. In 2018, the ;company carried out a capital increase and, since then, its share capital has been formed by ;56,068,965 shares with a par value of 0.06 euros each. As of 31 December, 2020, the share price ;was 37.90 euros, having risen by 55.3% in comparison with the end of the preceding year.;16', lookup_str='', metadata={'source': 'lista_test.csv', 'row': 14}, lookup_index=0),\n",
       " Document(page_content='REPORT;20;20: 1.3. WORLD PRESENCE;Laboratorios Farmacéuticos Rovi, S.A. currently has its registered office in Madrid (Calle Julián ;Camarillo, 35). In addition to these offices, in 2017, ROVI opened new offices in Pozuelo de ;Alarcón, Madrid (Calle José Isbert, 2), where the management team, the marketing and sales ;areas, and other central group services are located.;ROVI has three research centres and six manufacturing plants for its own products and toll ;manufacturing services, located at facilities in Madrid (production and R&D), San Sebastián ;de los Reyes (production), Alcalá de Henares (production and R&D) and Granada (production ;and R&D). Furthermore, in 2019, ROVI announced the start of construction of a second ;heparin plant in Granada.;At the end of 2020, the group was present in more than 75 countries with products marketed ;and had local offices in the following countries:;• Spain, where a large part of its marketing operations take place, as well as all its ;manufacturing services and Research & Development activities.;• Poland;• France;• Portugal;• Italy;• Germany;• United Kingdom;In the last five of these countries, ROVI has corporate structures through which it carries ;on direct pharmaceutical product marketing activities. In the case of the Polish subsidiary, ;product marketing had not commenced at 31 December, 2020.  ;Additionally, through strategic alliances with international partners for the LMWH division, ;ROVI is present in more than 75 countries, distributing its main product, bemiparin, in 58 ;countries, while it is pending registration in a further 14 countries. Furthermore, as of 31 ;December, 2020, it was marketing its enoxaparin biosimilar directly in Germany, United ;Kingdom, Italy, Spain, Poland and Portugal, and through strategic partners in France, ;Austria, Latvia, Estonia, Costa Rica, Sweden, Finland, the Netherlands, South Africa, Israel, ;Peru, Panama and the Dominican Republic. Likewise, all the EU countries where ROVI had ;applied for approval of national registration of its enoxaparin biosimilar have approved said ;registration and, in addition to the European countries, the company has signed marketing ;agreements for the product in a further 98 countries.;In addition, international sales account for around 90% of the toll manufacturing business, ;with exports to more than 50 countries.102-6;17', lookup_str='', metadata={'source': 'lista_test.csv', 'row': 15}, lookup_index=0),\n",
       " Document(page_content='REPORT;20;20: 10 countries;wher e ;authorisation is ;in pr ogress10 countries;wher e ;authorisation is ;pendin g+65 countries;wher e ;appr oval ha s been ;obtained58 countr ies;presen ce ;through s trategic ;alliancesROVI;Group;GLOBAL PRESENCE OF BEMIPARIN ;AFRICA                                                                     ;Marketed;Libya;Algeria;Morocco;South Africa;Sudan;Pending;Tunisia;Egypt;In progress;Botswana;Lesotho;Namibia;SwazilandLATIN AMERICA                     ;Marketed;Argentina;Belize;Costa Rica;Dominican Republic;El Salvador;Guatemala;Honduras;Nicaragua;Panama;Venezuela;Chile;Bolivia;Mexico;Brazil;Approved;Ecuador;Peru;ColombiaEUROPE;Marketed;Albania;Austria;Belarus;Bulgaria;Czech Republic;Georgia;Greece;Estonia;Hungary;Ireland;Italy;Latvia;Lithuania;Moldavia;Poland;Romania;Russia;Slovakia;Slovenia;Turkey;United Kingdom;UkraineApproved;Portugal;Pending;Bosnia & Herzegovina;Kazakhstan;Switzerland;Azerbaijan;In progress;Armenia;Kyrgyzstan;Croatia;Serbia & Montenegro;Tajikistan ;Turkmenistan;UzbekistanMIDDLE;EAST  ;Marketed;Jordan;Kuwait;Yemen;Bahrain;Syria;Oman;Iraq;Saudi Arabia;Lebanon;Qatar;United Arab ;Emirates;Pending;Iran;In progress;IsraelASIA;Marketed;Hong Kong;South Korea;India;China;Philippines;Thailand;Approved;Pakistan;Pending;Indonesia;Malaysia;Vietnam;In progress;Taiwan;Singapore;18; ;  ROVI: 1-Columna: 58 countries 2-Datos: [Group presence; NaN through strategic; NaN alliances; Name: 58 countries, dtype: object];  ROVI: 1-Columna: +65 countries 2-Datos: [Groupwhere; NaN approval has been; NaNobtained; Name: +65 countries, dtype: object];  ROVI: 1-Columna: 10 countries 2-Datos: [Groupwhere; NaN authorisation is; NaNpending; Name: 10 countries, dtype: object];  ROVI: 1-Columna: 10 countries.1 2-Datos: [Groupwhere; NaN authorisation is; NaNin progress; Name: 10 countries.1, dtype: object];', lookup_str='', metadata={'source': 'lista_test.csv', 'row': 16}, lookup_index=0),\n",
       " Document(page_content='REPORT;20;20: 10 countries;wher e ;authorisation is ;in pr ogress10 countries;wher e ;authorisation is ;pendin g+65 countries;wher e ;appr oval ha s been ;obtained58 countr ies;presen ce ;through s trategic ;alliancesROVI;Group;2. RESPONSIBLE ;AND SUSTAINABLE ;MANAGEMENT ;19; ;  ROVI: 1-Columna: 58 countries 2-Datos: [Group presence; NaN through strategic; NaN alliances; Name: 58 countries, dtype: object];  ROVI: 1-Columna: +65 countries 2-Datos: [Groupwhere; NaN approval has been; NaNobtained; Name: +65 countries, dtype: object];  ROVI: 1-Columna: 10 countries 2-Datos: [Groupwhere; NaN authorisation is; NaNpending; Name: 10 countries, dtype: object];  ROVI: 1-Columna: 10 countries.1 2-Datos: [Groupwhere; NaN authorisation is; NaNin progress; Name: 10 countries.1, dtype: object];', lookup_str='', metadata={'source': 'lista_test.csv', 'row': 17}, lookup_index=0),\n",
       " Document(page_content='REPORT;20;20: 2.1. STATEMENT BY THE CHIEF EXECUTIVE OFFICER;At ROVI, we work with the firm objective of enhancing the quality of people’s lives and promoting ;health. In 2020, the year in which COVID-19 invaded our lives, we confirmed this commitment by ;multiplying our efforts to guarantee that our medicines were available to patients and placing ;our experience and our injectables manufacturing capacity at the service of the fight against ;the pandemic. Since the outbreak of this health crisis, our priority has been to put in place all the ;measures necessary to, first, ensure the continuity of our essential activity and, second,  protect ;our employees’ health.;Fortunately, at ROVI we were prepared because the direction of our company is marked by ;a clear business plan that has helped us to make the decisions necessary to adapt ourselves ;to a changing environment like the one we have experienced, full of unforeseen events and ;unprecedented situations. As a result, we ended a year as complex as 2020 with 10% growth in ;operating revenue, which totalled 420 million euros, while the net profit rose to 61.1 million euros, ;a 55% increase.;The progress attained in R&D developments and the commercial agreements reached with ;other companies should also be highlighted and are a good example of our successful strategy, ;the professionalism of the people who form the company and ROVI’s capacity to adapt itself to ;the circumstances. The agreement reached with Moderna for the manufacture of its COVID-19 ;vaccine, which has placed ROVI in the vanguard of the fight against the pandemic, is an example ;of our resilience.;Furthermore, I would like to highlight the fact that we have continued with some of the main ;corporate social responsibility challenges that we had set ourselves. We have applied our policies, ;such as the Climate Change Policy, in which we reaffirm the group’s commitment to economic ;business growth respectful of the natural environment. And we have accepted the challenge to ;reduce our impact through the voluntary compensation of the ROVI group’s CO2 emissions, thus ;contributing to several sustainable development projects in developing countries. We have also ;strengthened our commitment to good governance, as shown in our new Environmental and ;Social Sustainability Policy, in which we renew our conviction through corporate management ;models based on transparency and respect for legality. As reinforcement, we have submitted ;ourselves to a voluntary rating of our sustainability by a world leader, Sustainalytics. The result was ;excellent, since ROVI obtained the second best rating among 360 pharmaceutical companies ;worldwide.;We continue to work to become more responsible. Therefore, in 2020, we decided to implement ;a system that allowed us to find out the degree of CSR commitment of our suppliers, since it is ;not only important to show commitment in our own work, but also to do so together with other ;companies that share the same values. At the same time, we continue to go forward with our ;contribution to attainment of the Sustainable Development Goals, particular the goals associated ;with health and safety, education, decent work, innovation and responsible production, where ;the impact of ROVI is seen in its environment and the group’s interaction with its stakeholders. ;Part of this progress is linked to the company’s social action to make a positive contribution to the ;local communities where it is present.;For the future, ROVI reaffirms its commitment to the basic principles of sustainable behaviour to ;meet our principal goal as a company, which is to help to enhance the health of the population. ;If we have learnt anything from 2020, it is that, without health, there is no possible future or ;development.;Juan López-Belmonte Encina;Chief Executive Officer of ROVI102-14;20', lookup_str='', metadata={'source': 'lista_test.csv', 'row': 18}, lookup_index=0),\n",
       " Document(page_content='REPORT;20;20: 2.2. CSR STRATEGY AND OBJECTIVES;ROVI’s mission, vision and values are the guidelines that govern all the decisions made in ;relation to both business development and the professional performance of its workers, ;guiding the group’s business strategy:;MISSION;“We work for the well-being of society and to improve the quality of life of patients and ;the attention they receive, promoting human health through researching, manufacturing, ;marketing and distributing medicines and healthcare products”.;VISION;“We aspire to be recognized as a benchmark for our work in the research and development ;of new products and to be perceived as a trusted supplier due to our commitment to the ;manufacture, marketing and distribution of medicines and healthcare products”. ;VALUES;Honesty, integrity  ;and ethics;Consistency;Self-criticism ;Equity;Justice;Honesty;Legality;Patient benefits  ;(Customer satisfaction);Commitment;Involvement;Empathy;Proximity;ProactivenessTeam, co-operation, ;involvement;Commitment;Cooperation;Empathy;Co-responsibility;Solidarity;Respect ;Consideration;Truthfulness;HonestyEfficiency ;Justice;Objectivity;Balance;Determination;Profitability;Innovation ;Proactiveness;Involvement;Creativity102-11, 102-16, 103-1, 103-2, 103-3;21', lookup_str='', metadata={'source': 'lista_test.csv', 'row': 19}, lookup_index=0),\n",
       " Document(page_content='REPORT;20;20: All these factors form the backbone of ROVI’s day-to-day management through the following ;action principles:;102-12;;Legality  ;Compliance with current legal regulations in the places where ROVI companies are located. ;Human rights  ;Support the principles of the United Nations Global Compact by adopting and transmitting ;them, as well as those of other international instruments, especially in the areas of human rights, ;workplace practices, the environment and the fight against corruption and human trafficking.;Ethics  ;Follow the guidelines of the Code of Ethics, which includes the company’s commitment to ;the principles of business ethics and transparency in all its spheres of action and regulates ;responsible conduct on the part of all group professionals in the course of their work. ;Honesty  ;Promote free market practices, rejecting any kind of illegal or fraudulent practice and ;implementing effective mechanisms to prevent, monitor and penalise irregularities. ;Communication  ;Encourage communication and dialogue channels, as well as promote the group’s relations ;with shareholders, investors, employees, customers, suppliers and, in general, all its stakeholders. ;Thus, the group contributes to harmonising business values and social expectations by adapting, ;as far as possible, the group’s policies and strategies to the interests, concerns and needs of ;stakeholders, using all the communication tools available, including direct contact and the ;group’s corporate website. ;Environment  ;Conservation and promotion of the environment. ROVI carries on its activity with the firm ;commitment of contributing to sustainability from an environmental standpoint, which ;materialises by integrating the environment into the different business areas, conserving ;biodiversity, preventing pollution, managing resources efficiently and adapting to and mitigating ;climate change, in accordance with the group’s Environmental Policy.;Contribution to society   ;The taxes ROVI pays in the places where it operates are the main contribution that the group ;companies make to sustaining public funds and, therefore, are one of its contributions to society.;Transparency  ;Commitment to transparency as a way to transmit confidence and credibility among ;stakeholders. This will entail:;a. Providing stakeholders with relevant and accurate information, complying with any public ;information requirements that may exist by law.;b. Preparing and publishing financial and non-financial information, using, in the latter case, ;an internationally-accepted methodology, and submitting the information to the appropriate ;internal and external review processes that guarantee the reliability of the information and ;encourage continuous improvement.;22', lookup_str='', metadata={'source': 'lista_test.csv', 'row': 20}, lookup_index=0),\n",
       " Document(page_content='REPORT;20;20: On the basis of these principles, the fact that ROVI’s economic development must be ;compatible with ethical conduct -socially, in the labour area, environmentally and in terms of ;respect for human rights- is accepted. The work carried out to transmit, provide knowledge ;of and implement these values, which are likewise used to guide the actions and decisions of ;the Board of Directors and other ROVI bodies in their relations with stakeholders, expresses ;the group’s commitment to business ethics and sustainability. ;In this respect, the following support tools have been developed: ;1. Environmental and Social Sustainability Policy;2. Integrated Management Policy (Environment and Occupational Health and Safety);3. Code of Ethics ;4. Annual CSR Report;Applying these tools and principles in ROVI’s day-to-day allows a constant direction and strategy ;to be maintained in order to attain the following sustainability goals:;GOALS;• Favour attainment of the group’s strategic objectives. ;• Improve the group’s competitiveness by implementing ;management practices based on innovation, equal ;opportunities, productivity, profitability and sustainability. ;• Manage risks and opportunities derived from the changing ;environment responsibly, maximizing the positive impacts ;of the group’s activities in the different territories where ;it operates and minimizing any adverse impacts as far as ;possible.;• Promote a culture of ethical conduct and increase business transparency, in order to ;generate credibility and confidence among stakeholders, including society as a whole.;• Promote trust relationships and value creation for all stakeholders, providing all of them ;with a balanced and integrating response. ;;The incorporation of CSR into the management of the ROVI group takes place through ;the Environmental and Social Sustainability Policy and it is the Management Committee’s ;responsibility to design, evaluate and make general reviews of it. Overseeing and ensuring ;that Management meet the goals that have been fixed and respect the company’s social ;interest objective is the task of the Board of Directors.;In 2017, a permanent internal body, called the Social Responsibility Committee/Social ;Performance Team, was created, with the capacity to inform, provide advice and make ;proposals. Within its sphere of action, as one of the duties assigned to it, this Committee ;reports annually to the Management Committee and the Nomination and Remuneration ;Commission on the degree of progress in implementing the CSR Policy and strategy. Since ;23', lookup_str='', metadata={'source': 'lista_test.csv', 'row': 21}, lookup_index=0),\n",
       " Document(page_content='REPORT;20;20: 2019, participation in this Social Performance Team has been extended to employees at other ;work centres that had not previously taken part, such as Granada, Panquímica, San Sebastián ;de los Reyes and Alcalá de Henares.;At the same time, the duties of the Audit Committee include reviewing the Environmental ;and Social Sustainability Policy, ensuring that it is oriented toward value creation, and ;monitoring CSR strategies and policies, assessing the degree of implementation thereof. This ;Committee also oversees and evaluates the processes concerning relations with the different ;stakeholder groups.;CONTRIBUTION  ;TO THE SDGS;ROVI is aligned with the goals of the United Nations Global Compact and, on the basis of ;its activity and the matters identified in its materiality analysis, undertakes to act in favour ;of the following Sustainable Development Goals:;TARGET: 3.8Contribution:;• Co-operation with Fundación Recover, an NGO that works to improve ;healthcare in Africa.;TARGETS: 4.3 ;AND 4.4Contribution:;• Co-operation with academic organisations and centres to promote access to ;education and employability.;TARGETS: 8 .2, 8.5,  ;8.6 AND 8.8Contribution:;• Performing the gender breach study.;• Agreements with employment organisations for people with disabilities.;•  Investment in R&D activities. ;• Execution of policies for prevention of occupational hazards.;TARGET: 9.5Contribution:;• Development of a new low-molecular-weight manufacturing plant in Granada.;TARGET: 12.4Contribution:;• Exhaustive control of the consumption indicators at each plant.;• Contracting a provider of energy from renewable sources.;24', lookup_str='', metadata={'source': 'lista_test.csv', 'row': 22}, lookup_index=0),\n",
       " Document(page_content='REPORT;20;20: 2.3. OUR STAKEHOLDERS ;CSR is a key factor in ROVI’s business strategy. The group considers it crucial in order to ;ensure the company’s long-term sustainability and reinforce the confidence of the different ;groups of stakeholders to which ROVI is related. ROVI considers CSR to be a commitment ;acquired with society, given the importance of its work and the impact of its products in ;improving people’s health and quality of life. Therefore, over recent years, it has carried on ;intensive activity to support research and foment the prevention and knowledge of certain ;diseases.;The company has identified six groups that contribute directly or indirectly to good business ;results. The goals it hopes to reach in its relationship with each one of them are:; –Means of communication with stakeholders and obtaining their feedback;ROVI is committed to fluid and constant dialogue and strives to maintain it in order to detect ;and respond to stakeholder interests, aware that this will consolidate the business’s long-;term viability. This is set out in the Policy on communication of economic-financial, non-;financial and corporate information and communication and contacts with shareholders, ;institutional investors and proxy advisors, approved in November 2020, where the principal of ;the transparency and accuracy of the information shared with ROVI’s stakeholders prevails.;In 2020, 18 press releases were published with specific information on the company ;concerning its financial results, commercial agreements or important new developments in ;the company.;The company appeared in the press -both general and specialised- 3,279 times in 2020, ;167% up on the number of appearances in 2019. ROVI also has corporate profiles in social Employees;to generate ;enthusiasm and ;provide training and ;motivation;Customers/Patients/;Professionals;to offer products ;based on quality and ;experienceSuppliers;to allow them to find ;in ROVI a partner to ;obtain mutual benefit;Society and environment ;to make an active ;contribution to ;social progress ;and environmental ;protectionShareholders ;to create constant ;value in a way that can ;be sustained in the ;long term;Public authorities ;transparency ;in relations and ;facilitation of channels ;for co-operation102-40, 102-42, 102-43;25; ;  Employees: 1-Columna: Suppliers 2-Datos: [to generate to allow them to find; enthusiasm andin ROVI a partner to; provide training andobtain mutual benefit; motivationNaN; Name: Suppliers, dtype: object];  Employees: 1-Columna: Shareholders 2-Datos: [to generate to create constant; enthusiasm and value in a way that can; provide training andbe sustained in the; motivationlong term; Name: Shareholders, dtype: object];', lookup_str='', metadata={'source': 'lista_test.csv', 'row': 23}, lookup_index=0),\n",
       " Document(page_content='REPORT;20;20: media (Twitter, LinkedIn and YouTube) from which it informs on new developments, as a ;supplementary channel for transmitting information of interest on the company.;In addition, the group strives to maintain fluid dialogue with its stakeholders and has a ;number of communication and consultation channels in place, in order to find out their ;needs and respond to their expectations:; –Workers ;• Suggestion boxes: these may be found throughout the facilities and are intended enable ;employees to submit anonymous communications concerning improvements.;• Confidential communication mechanisms for reporting irregularities considered illegal or ;a breach of the principles of ROVI’s Code of Ethics or internal rules and policies. ; –Suppliers ;• An obligatory document called “CSR Commitment” is sent to all the group’s suppliers and ;subcontractors. This document requests certifications and requires them, by contract, to ;adopt good practices.;• On-site audits which check that:;• Suppliers operate in accordance with national and local regulations.;• There are no significant breaches of workplace safety rules.;• No practices infringing workers’ rights exist. ;• Confidential communication mechanisms for reporting any irregularities considered ;illegal or a breach of ROVI’s Code of Ethics for Suppliers.; –Shareholders;Since the company was first listed on the stock markets, it has reported regularly on all its ;activities and applies its ‘Policy for Communication with Shareholders, Institutional Investors ;and Proxy Advisors’. ;DIRECT INVESTOR COMMUNICATION CHANNELS:;• ir@rovi.es ;• Web form at  www.rovi.es/contacto;26', lookup_str='', metadata={'source': 'lista_test.csv', 'row': 24}, lookup_index=0),\n",
       " Document(page_content='REPORT;20;20: Shareholders have the possibility of receiving ROVI’s financial information automatically ;through an e-mail alert system.  Furthermore, the group provides regular, prompt and ;relevant information on the company, such as presentations and legal documents on ;economic and financial aspects and corporate governance, which may be consulted in the ;Investors and Shareholders section of the corporate website www.rovi.es.;Coinciding with its General Shareholders’ Meeting, ROVI prepares an Integrated Report ;in which it summarises the strategic lines of its work and the activities carried out in ;the preceding year. This document forms part of the Informe Reporta, prepared by the ;consulting company Deva, which rates the reports published by the companies listed on the ;General Index of the Madrid Stock Exchange (IGBM) in accordance with the quality of the ;information they provide. In the 2020 edition of Informe Reporta, ROVI was in 22nd place of ;this ranking, which is formed by 120 companies, maintaining the same position as it held in ;2019.; –Customers;ROVI has a query channel for information requests from both international partners and ;direct customers, patients and professionals: www.bemimed.com.;In the event of a complaint, the company opens an enquiry immediately in order to identify ;the cause and prevent any repetition. Furthermore, there is a contact telephone number and ;the e-mail rovi@rovi.es where queries and complaints may be made.; –Society and environment;As a catalyst in its socioeconomic surroundings and aware of the impact of its activity on ;the environment, ROVI is committed, as an integral part of its day-to-day activity, to the ;protection of the environment, as well as to improving the situation of society in general and ;the different geographical areas  all over the world where it is present with its product or ;plants.;The company’s environmental policy is based on commitments to continuing improvement ;of products and processes, while, at the same time, complying with both legal requirements ;and additional voluntary requirements. In relation to environmental queries, ROVI has a ;corporate procedure through which it manages communications (queries, complaints, etc.) ;related to the environment and occupational health and safety. On the corporate website ;(www.rovi.es), the quality, environmental and occupational health and safety certifications ;held by group companies are available to the public. ;Over recent years, the company has carried out intensive activity to support research and ;promote prevention and knowledge of certain diseases. ROVI allocates part of its resources ;to driving medical and healthcare knowledge forward through contributions to different ;projects and co-operation with higher-education entities, with which it also works to help ;young professionals enter the workplace through scholarships and training. ;27', lookup_str='', metadata={'source': 'lista_test.csv', 'row': 25}, lookup_index=0),\n",
       " Document(page_content='REPORT;20;20: 2.4. MATERIALITY ANALYSIS;Identification of the issues that are most important to ROVI and its stakeholders was based ;on the internal and external consultation that took place in 2017. The result of this analysis ;showed 20 material issues, in terms of their influence on business success and importance ;to stakeholders, grouped into eight categories, shown below, related to the Sustainable ;Development Goals of the United Nations Global Compact. ;Good governance and ethical conduct;1. Responsible governance;2. Ethics and compliance;3. Risks and crisis management;Transparency and dialogue;4. Information transparency;5. Dialogue and relations with stakeholders;Product quality and safety;6. Product quality;7. Pharmacovigilance and product safety;Environment;8. Circular economy → SDG 12;9. Atmospheric emissions → SDG 12;10. Climate change;11. Drug pollution;Relations with customers, patients and health professionals;12. Attention to and relations with customers, patients and health professionals;Work environment;13. Safety and well-being → SDG 3;14. Training and development → SDG 4 and 8;15. Attracting and retaining talent → SDG 4 and 8;16. Internal dialogue and communication;Supply chain;17. Responsibility in the supply chain;Health and well-being of society;18. Access to medicines → SDG 3;19. Research & development → SDG 4;20. Contribution to the social and economic progress of the communities  ;in which ROVI operates →  SDG 8 and 9102-44, 102-47;28', lookup_str='', metadata={'source': 'lista_test.csv', 'row': 26}, lookup_index=0),\n",
       " Document(page_content='REPORT;20;20: The following materiality matrix shows the degree of influence of these matters on ROVI’s ;long-term objectives, this influence being understood on a double axis: the influence on the ;success of the business and the importance for the stakeholders.;MATERIALITY MATRIX;12;34;56;7;8;910;111213;14;151617;18;1920;inﬂuence on businessimportance to stakeholders;29', lookup_str='', metadata={'source': 'lista_test.csv', 'row': 27}, lookup_index=0),\n",
       " Document(page_content='REPORT;20;20: 2.5. ETHICS AND INTEGRITY ;The ROVI Group’s medicine marketing activity is subject to the Code of Good Practices of ;the Pharmaceutical Industry, which means that all interactions with health professionals ;are in line with the contents of said Code. The company has a Deontological Supervision ;Department that aims to oversee compliance with the Code. Likewise, the group is audited ;quarterly in this respect by an independent auditor.;In order to reaffirm the values and principles crucial to ROVI’s activities, the group also has its ;own Code of Ethics, approved by the Board of Directors, the objective of which is for all the ;group’s activities to be governed by ethical and responsible conduct. This Code of Ethics is ;binding on all employees and provides guidance in the course of their duties and in the event ;of conflicts of interest.;According to the Code, the company undertakes to apply the highest standards of ethics ;and transparency in its communications, information records and reports, in relation to ;both financial matters and its products and activities.  This expresses ROVI’s commitment ;to compliance with all legal requirements and the proper application of current accounting ;principles and, when preparing the group or individual accounting, financial statements, ;books, records and accounts, legal requirements must be met, in order to give an accurate ;picture of the company’s business activities and financial situation.;Likewise, ROVI  has a “Code of Ethics for Suppliers”, the main objective of which is to ensure ;that its suppliers and other components of the chain respect current legislation and the ;values and principles of ROVI while providing services to the group.;The body responsible for ensuring compliance within the ROVI group is the Compliance ;Function (formed by the Compliance Department and the Compliance Committee), to which ;this duty is assigned in the “Compliance Charter”, approved by the Audit Committee on 25 ;July, 2017. The Compliance Committee is a permanent internal collegial body that reports ;directly to the Audit Committee and is considered an advisory body to said Committee in ;compliance matters. The Compliance Department is the area responsible for performing ;the day-to-day activities, providing support to the Compliance Committee and reporting on ;relevant matters.;Likewise, ROVI has an Ethics Channel, through which it handled four consultations in 2020. ;This channel can and should be used by any company employee to inform the Ethics ;Channel Committee –the body responsible for managing the Channel– of any unlawful act ;or any breach of current legislation, the Code of Ethics, internal policies and/or the voluntary ;codes and standards to which ROVI has adhered, such as the Code of Good Practices of the ;Pharmaceutical Industry, as well as any financial or accounting irregularities. ROVI employees ;may communicate with the Ethics Channel at the e-mail address canaletico@rovi.es or by ;physical mail, as well as through the mobile application ROVI Rocks, which has a specific ;space for consultations related to the Ethics Channel.;Moreover, ROVI has a specific Ethics Channel for suppliers partners, external collaborators, ;etc. that allows them to report any irregularity or breach of the ROVI group’s Code of Ethics ;for Suppliers they may detect to the organisation. Various mechanisms have been put in ;place to enable suppliers to communicate with ROVI, among which the e-mail address ;canaleticoproveedores@rovi.es is included, as well as a physical mailbox at ROVI’s offices. ;The two channels are regulated by the “Regulations of the Ethics Channel for Employees and ;Suppliers”, the latest version of which was approved by the Audit Committee on 7 May, 2019, ;30', lookup_str='', metadata={'source': 'lista_test.csv', 'row': 28}, lookup_index=0),\n",
       " Document(page_content='REPORT;20;20: and are managed by the Ethics Committee, which is responsible for ensuring that all reports ;received are handled and managed appropriately, in full and confidentially, analysing cases of ;non-compliance and proposing corrective measures. Likewise, the Compliance Department ;reports regularly to the Audit Committee and the Board of Directors on the communications ;received through the Ethics Channel. Any possible penalties derived from non-compliance ;are the responsibility of the Human Resources Department.;The group has an Anti-Corruption Policy (the latest update of which was approved by the ;Board of Directors on 10 September, 2020), which prohibits any form of bribery, corruption ;between individuals and influence peddling, and sets out the action guidelines and ;precautions that all ROVI Group employees must follow in order to prevent or mitigate the ;risks related to corruption and bribery. Said policy also includes the rules on courtesies, gifts ;and hospitality.;205-2;ROVI is not subject to the provisions of article 2 of Law 10/2010 on the Prevention of Money-;Laundering and Terrorist Financing. Notwithstanding, ROVI has several procedures in place ;to combat money-laundering.;ROVI undertakes to actively support the Universal Declaration of Human Rights and requires ;its employees to comply with said principles in their day-to-day activity in the group. The ;company combats practices contrary to human dignity and workplace discrimination.;During 2020, ROVI personnel received training in the Code of Ethics. This training had the ;goal of making the principles contained therein known to the employees, as well as the ;possible applications and interpretations of these principles, likewise reinforcing the idea that ;all ROVI’s employees and the members of its governing bodies are subject to the Code, which ;is mandatory. ROVI also strives to monitor and verify the recommendations of the Unified ;Code of Good Governance of Listed Companies and, therefore: ;• On 25 July, 2017, the Board of Directors approved a new update of the Internal Code ;of Conduct in the Securities Markets, which adapts the actions of the company, its ;governing bodies, employees and other persons subject to the rules on conduct to ;securities market-related legislation.;• On 7 November, 2017, the Audit Committee approved the Regulations of the Audit ;Committee in line with the CNMV’s Technical Guide 3/2017 on Audit Committees. Thus, ;the company has mechanisms to prevent conduct that is damaging to its shareholders ;and stakeholders, such as a concentration of power, lack of transparency or lack of auditor ;independence.;31', lookup_str='', metadata={'source': 'lista_test.csv', 'row': 29}, lookup_index=0),\n",
       " Document(page_content='REPORT;20;20: 2.6. RISK MANAGEMENT ;ROVI has a Risk Management and Control System that allows any possible contingency that ;could prevent attainment of corporate objectives to be identified, classified, assessed and ;provided with a response.;ROVI follows a risk management and control model based on three lines of defence: ;• The first line of defence is formed by the group’s different operating areas, which, in the ;course of their day-to-day operations, must identify, classify, assess and monitor the risks, ;in accordance with the risk level accepted by ROVI. ;• The second line of defence comprises the risk control and management service. This ;service is responsible for the implementation of the risk control and management ;system, cooperating in initially establishing it and, once it is in place, contributing to its ;enhancement, monitoring its performance and coordinating its development.;• The third line of defence is Internal Audit, which supervises the internal control and risk ;management systems by auditing both the first and second lines of defence.;RESPONSIBILITY FOR RISK CONTROL,  ;MONITORING AND MANAGEMENT;According to the company’s Regulations of the Board of Directors, the Board of Directors, at ;a full Board meeting, is responsible for approving the Risk Management and Control Policy, ;as well as the regular monitoring of the internal reporting and control systems. In accordance ;with this responsibility, ROVI has a Risk Management and Control Policy, the latest version ;of which was approved by the Board of Directors in December 2020 and which includes the ;general mechanisms and principles for appropriate risk management at ROVI. According to ;this Policy, the bodies involved in said management are:;• The Audit Committee, in accordance with the above-mentioned Regulation, includes ;among its functions the oversight of the Risk Control and Management Policy for financial ;and non-financial risks that affect attainment of the corporate goals. ;• Management identifies, classifies, assesses and monitors the risks, taking the categories of ;risk and acceptable risk levels fixed by the Audit Committee into account, and applies the ;measures in place to mitigate the impact in the event that any risks materialise.;• The Department responsible for the Risk Control and Management System has the task of ;implementing a Risk Control and Management System, and, once it is in place, contributing ;to its enhancement, monitoring its performance and coordinating its development. Likewise, ;it reports to the Audit Committee at each of its meetings on the correct operation of the ;System and/or, if applicable, any risks that may have materialised.;32', lookup_str='', metadata={'source': 'lista_test.csv', 'row': 30}, lookup_index=0),\n",
       " Document(page_content='REPORT;20;20: RISK CONTROL AND MANAGEMENT PROCESS ;The steps that ROVI follows in risk management are as follows: ;Determination of the risk assessment scales. The risk level is established on the risk ;assessment scales for the variables of probability of occurrence and impact. These scales are ;approved annually by the Audit Committee in the process to update ROVI’s risk map.;Identification and classification of risk. The different areas of ROVI identify the internal and ;external risks that could affect attainment of their objectives. Once identified, the risks are ;classified as:;• Strategic risks: those that affect high-level objectives, directly related to ROVI’s strategic ;plan.;• Operational risks: those that affect objectives related to the efficiency and efficacy of the ;operations, including objectives concerning performance and profitability.;• Reporting risks: they affect objectives concerning the reliability of the information ;provided both internally and externally.;• Compliance risks: those that affect compliance with the applicable rules and legislation;Risk assessment. Each one of the risks identified is assessed in accordance with the ;probability of occurrence and impact on attainment of ROVI’s objectives in accordance ;with the assessment scales approved by the Audit Committee. The assessment obtained ;determines the position of each risk on the corporate risk map, which allows decisions to be ;made on the actions to be taken in relation thereto.  ;;As part of the process, the Audit Committee establishes for each of the key risks identified ;the risk appetite (level of risk that ROVI is willing to accept in order to achieve its strategic ;objectives) and the tolerance (level of variation accepted above the appetite in the ;achievement of the objectives), assessing whether the existing level of risk exceeds the level ;of risk it is willing to accept in the achievement of the strategic objectives, defining response ;plans if deemed necessary.;Determination of the response to a risk. Once the risk map has been prepared, measures ;are adopted to tackle the risks identified as efficiently and economically as possible, ;minimising exposure. At the same time, mechanisms and procedures are put in place to ;allow Management to supervise the implementation of actions to neutralise risks and check ;their effectiveness.;Risk management monitoring. All the departments have both periodic and continuous ;information systems capable of duly capturing any changes that have either already taken ;place or will be taking place in the future that might prevent attainment of objectives under ;the forecast conditions, as well as the viability, efficiency, efficacy and sufficiency of the ;responses established for the different risks.;Reporting to the Audit Committee. The Audit Committee is informed regularly on the ;following aspects of risk management:;• Whether the Risk Control and Management System is operating efficiently or not, ;taking possible changing conditions, both internal and external, into account.;• Whether Risk Management incidents are detected and solved swiftly.;• Whether the Map has been duly updated with the applicable changes (changes in the ;risks considered, any applicable new risks, etc.).;• Whether any of the risks included in the Catalogue or any other risk materialised in the ;preceding period.102-15;33', lookup_str='', metadata={'source': 'lista_test.csv', 'row': 31}, lookup_index=0),\n",
       " Document(page_content='REPORT;20;20: CONTROL AND RISK MANAGEMENT SYSTEMS IN RELATION TO THE ;PROCESS OF ISSUING FINANCIAL REPORTING (ICFR);The system for Internal Control over Financial Reporting (ICFR) aims to obtain reasonable ;certainty as to the reliability of the financial reporting.;Specific risks derived from the process of issuing financial information fall within the scope of ;the Risk Control and Management System and are covered in its Policy. ;For each one of the significant processes identified when drawing up and issuing the ;financial reporting, the risks that could be generated by errors in the information are ;identified, covering the objectives of existence and occurrence, completeness, assessment, ;presentation, breakdown and comparability, and rights and obligations. The processes ;identified are reviewed and updated annually and, if changes in the management of said ;processes or the applicable regulations so require, are documented.;The bodies responsible for ICFR are:;The Board of Directors, responsible for the existence and continuity of an appropriate ;and effective ICFR in accordance with the version of the Regulations of the Board of ;Directors approved on 26 April, 2016.;Senior Management performs the functions of implementing and designing the ICFR, ;as is likewise set out in the aforementioned Regulations.;The Audit Committee is the body responsible for overseeing ICFR, as stated in the ;company’s Bylaws, the Regulations of the Board of Directors and the Regulations of ;Audit Committee, which assigns the following responsibilities to it, among others:;• To oversee and evaluate the process of preparation and presentation, as well as the ;completeness, of the financial and non-financial information and the financial and non-;financial risk control and management systems of the company or, where applicable, ;the group.;• To handle, respond to and take into account, on a timely and appropriate basis, any ;requirements that the public supervisor of financial information may have sent in the ;present or previous years.;• To discuss with the account auditors or audit companies any significant weaknesses ;in the internal control system noted in the course of the audit, ensuring that their ;independence is not undermined.;• To regularly review and supervise the internal control and risk management systems ;and the efficacy thereof, to ensure that the principal risks are identified managed and ;made known appropriately.;• To review the clarity and completeness of all the financial and non-financial reporting ;that the entity makes public.;34', lookup_str='', metadata={'source': 'lista_test.csv', 'row': 32}, lookup_index=0),\n",
       " Document(page_content='REPORT;20;20: INCIDENT MANAGEMENT AND CRISIS RESOLUTION;ROVI also has an IMCR (Incident Management and Crisis Resolution) work team, which ;furnishes the company with a work procedure that favours an appropriate sizing and ;handling of incidents. The team is permanently composed of members of the group’s ;Industrial, Compliance and Communication Departments and, in addition, the heads of other ;areas whose presence is required to handle and solve any incidents detected may also take ;part in IMCR.;The procedure initiates when any of the following incidents are detected: ;• Reputational risk, in any of its categories, for the company.;• Natural disasters: floods and earthquakes.;• Extortion.;• Threats.;• Workplace or trade union-related incidents or strikes affecting the business.;• Significant environmental or workplace health and safety incidents.;• Serious pharmacovigilance or quality incidents when a product is being marketed.;If any of these situations is detected, an internal communication chain is activated, in order to ;gather information on the incident, its potential origin and its potential scope. The matter will ;be passed to the IMCR team so that, after analysing and assessing the incident, it will adopt ;the appropriate measures in accordance with the specific needs of each incident.;One of this group’s most important tasks in 2020 was to follow and monitor the impact of the ;COVID-19 pandemic on ROVI’s operations. In January 2020, a COVID-19 Committee was set ;up and carried out all the work necessary to protect the continuity of ROVI’s operations and ;create a safe work framework for its employees during the pandemic.;As a result, ROVI put a wide variety of measures in place, such as intensifying the disinfection ;of workstations, checking temperatures at the entrances to the premises, an investigation ;protocol regarding possible contagions due to close contacts at work, and the redistribution ;of workstations to respect the minimum distance, among others. ;35', lookup_str='', metadata={'source': 'lista_test.csv', 'row': 33}, lookup_index=0),\n",
       " Document(page_content='REPORT;20;20: 3. CUSTOMERS, ;PATIENTS AND ;PROFESSIONALS;36', lookup_str='', metadata={'source': 'lista_test.csv', 'row': 34}, lookup_index=0),\n",
       " Document(page_content='REPORT;20;20: 3.1. MANAGEMENT PRINCIPLES;The centre of ROVI’s day-to-day activity is the customers, patients and professionals and it ;has a triple commitment with these groups, which it seeks to provide with a high degree of ;satisfaction through sound and long-lasting relations of trust.;Permanent satisfaction of their needs and expectations is the main goal of all the group’s ;actions and its backbone is an offer of “a la carte” services in toll manufacturing and the best ;treatment options to enable health professionals to enhance their work, which consists of ;improving the lives of their patients, who can also benefit from the latest advances and the ;best medicines to treat their complaints.;A service based on quality and experience is the action principle of ROVI’s General CSR ;Policy in relation to these stakeholders. They are the basis of the company’s business and the ;company assumes the following commitments with them:;• To focus on innovative pharmaceuticals as a growth engine for ROVI.;• To pay special attention to protecting the health and safety of our customers and patients ;throughout the life cycle of our products through strict compliance with the applicable ;legislation.;• To maintain due confidentiality in data processing.;• To manage and solve their queries and complaints in the shortest time possible.;• To monitor customer experience via surveys that measure their satisfaction and other ;means and systems that allow permanent active listening to the customer in all those ;processes and operations in which the latter relates to the company.;• To operate appropriate and efficient communication channels, using the best-adapted ;means to do so.;• To observe and comply with the rules that regulate communication and marketing ;activities and assume the voluntary codes that endow such actions with transparency ;and veracity.;Part of ROVI’s activity consists of toll manufacturing and the distribution of products that ;are either manufactured at its plants or marketed under a license. Thus, the group has ;the possibility of offering other laboratories the chance to take advantage of its facilities to ;outsource their manufacturing processes for pharmaceutical forms ranging from prefilled ;syringes to vials, suppositories, tables, hard capsules or sachets.;As a derivative of this activity, ROVI has a differentiated group of customers that encompasses ;international subsidiaries and partners, pharmaceutical wholesalers, pharmacies and ;hospitals all over Spain, to which it distributes both its own products and those of other ;companies through its profile as a marketing partner for medicines and medical devices.;Proximity, a permanent focus on providing service, and trust are the pillars on which the ;long-lasting business relations that ROVI considers essential in relation to these groups are ;built. To do this, a number of consultation channels are available to direct customers, patients ;and professionals for requests for information, such as the exclusive portal for international ;partners (www.benimed.com), which has been active since 2008.;37', lookup_str='', metadata={'source': 'lista_test.csv', 'row': 35}, lookup_index=0),\n",
       " Document(page_content='REPORT;20;20: DATA PRIVACY;ROVI has the commitment of protecting and guaranteeing the privacy of personal ;information belonging to customers, patients and professionals. To do this, it has adopted ;different measures and procedures that ensure the integrity, confidentiality and availability of ;the data it processes, as well as safeguarding people’s rights and freedoms.;After a process of adaptation to the new European and national regulations, in order to ;comply with data processing principles and the new mandatory obligations, since 2018, ;ROVI has had a Data Processing Officer, whose functions include advising the group on ;compliance with the new regulatory framework.;DATA PRIVACY AT ROVI – PROCEDURES;Patients ;Personal data processing in both the pharmacovigilance area and the area of clinical ;procedures. It considers situations where the notifier is either a patient or a health ;professional or a person other than the patient, in order to ensure proper processing of the ;personal data of any data subject; and the data processing procedure for clinical procedures ;regulates not only the processing of the data of the patients participating in clinical trials, but ;also those of all data subjects, including the trial personnel. In both cases, the exercise of the ;rights of data subjects and the response thereto are also guaranteed.;Health professionals ;ROVI guarantees fair, transparent and lawful processing of the personal data of the health ;professionals with whom it interacts, providing clear and concise information on the bases ;for lawful processing of the personal data and adapting the mechanisms for obtaining the ;consent on which the data processing is based to the new legal requirements.;Employees ;The company keeps its employees promptly updated on personal data protection matters, in ;order to respond to the new legal requirements and internal procedures in this respect have ;been reinforced. ;Customers and suppliers ;The ROVI group applies current legislation to ensure the security of the third-party data it is ;necessary to process in order to perform the contractual relationship and avoid the alteration, ;loss or unauthorised processing thereof or access thereto.;38', lookup_str='', metadata={'source': 'lista_test.csv', 'row': 36}, lookup_index=0),\n",
       " Document(page_content='REPORT;20;20: 3.2. BALANCE OF THE YEAR AND FUTURE CHALLENGES;Although 2020 was an unexpectedly complicated year, it had new opportunities that ;ROVI had been preparing to take advantage of, due to factors such as the marketing of an ;enoxaparin biosimilar, the development of drugs with prospects of being widely used to treat ;complaints, the development of operating synergies and the extension of the scope of the ;value-added manufacturing services with current and potential customers; the launch of ;new products in the market and, particularly in 2020, the manufacturing agreement signed ;with Moderna to provide filling and packaging capacity for hundreds of millions of doses ;of its candidate vaccine outside the United States, acquiring a new production line and ;equipment for compounding, filling, automatic visual inspection and labelling.;Overall, all the foregoing led to an improvement in the company’s financial results: operating ;revenue rose by 10% to 420 million euros (increase of 6.5 percentage points in the EBITDA ;margin to 22.4%) and ROVI’s net profit increased by 55%, to 61.1 million euros.;By business line, prescription pharmaceutical sales rose by 6% to 297 million euros, showing ;growth 4 percentage points higher than the Spanish market in 2020, which, according to the ;consultant IQVIA, rose by 2%. ;The most outstanding products were Neparvis®, indicated for the treatment of adult ;patients with symptomatic chronic heart failure with reduced ejection  fraction, sales of ;which increased to 29.6 million euros, 34% up on 2019; and Volutsa®, a prescription product ;belonging to the company Astellas Pharma and distributed by ROVI, indicated for the ;treatment of moderate to severe storage and voiding symptoms associated with benign ;prostatic hyperplasia, which obtained a sales increase of 7%, rising to 14.2 million euros.;Heparin division sales (low-molecular-weight heparins (LMWH) and other heparins) rose by ;14% to 209.3 million euros. Sales of these products accounted for 50% of operating revenue ;in 2020, 2% higher than in 2019. Low-molecular-weight heparin (LMWH) sales increased by ;14% to 202.8 million euros. Specifically, the enoxaparin biosimilar showed a 25% sales increase, ;rising to 101.4 million euros, and bemiparin sales increased by 5%, also to 101.4 million euros.;In the case of bemiparin, the significant increase in international sales should be highlighted. ;They now represent 33%, due to the increase in transfer prices to some partners as a result ;of the increase in the price of the raw material. For 2021, international sales of bemiparin are ;expected to rise by a high-teen figure.;Lastly, toll manufacturing sales rose by 39% in comparison with the preceding year, ;totalling 91.6 million euros, mainly due to the redirection of the strategy for the activities of ;this business line towards products with higher value-added, where the agreement with ;Moderna for the manufacture of the large scale fill-finish of its candidate mRNA vaccine ;against COVID-19 (mRNA-1273) at ROVI’s Madrid facility was one of the year’s great milestones.;As part of the agreement, ROVI will provide fill-finish capacity for vials by acquiring a new ;production line and equipment for compounding, filling, automatic visual inspection and ;labelling, in order to provide support to the candidate vaccine, with which it was, in principle, ;planned to supply markets outside the United States as of the beginning of 2021, hiring the ;necessary additional personnel for the manufacturing and production operations.;39', lookup_str='', metadata={'source': 'lista_test.csv', 'row': 37}, lookup_index=0),\n",
       " Document(page_content='REPORT;20;20: FUTURE OUTLOOK;For 2021, ROVI expects the operating revenue to increase between 20% and 30%, including ;the production of the Moderna’s COVID-19 vaccine. Notwithstanding, given the uncertainties ;associated to the development of the COVID-19 pandemic (which ROVI will continue to ;monitor closely), it is not yet possible to make a precise assessment of the impact that the ;pandemic will have on this year.;Over recent years, especially in Spain, public spending on medicines has dropped, but ;the prospects for the next few years are more optimistic. As QuintilesIMS Institute says in ;its report “Outlook for Global Medicines through 2021”, spending on medicines will grow ;between 4% and 7% in the world, mainly driven by new medicines in developed markets ;and higher volumes in emerging markets. According to said document, the total volume of ;medicines consumed all over the world will rise by approximately 3% per year until 2021, a rate ;that is somewhat faster than the population growth rate and demographic changes, driven ;by different factors all over the world.;Globally, the U.S.A. is still the main market worldwide, although it is facing a decrease ;in growth, followed by China, which has been in second position since 2012. The first 20 ;places include nine emerging drug markets, which will continue to be driven by generics, ;which now account for 98% of the market and 78% of spending. The opposite is true of the ;developed markets, where the original brand names still have specific weight in comparison ;with generics.;But the difference between some companies and others will be marked by the capacity to ;provide the market with new and better products. New medicines, which accounted for 20% ;ten years ago, will occupy 35% of the market in 2021. This growth is due to the new scientific ;and R&D developments, such as ROVI’s ISM® technology, and also to their capacity to help ;improve costs and the value that the prescription of these products will contribute.;With all these factors, ROVI expects the growth rate in operating revenue to be in mid-single-;digit figures, excluding the production of Moderna’s COVID-19 candidate vaccine.;40', lookup_str='', metadata={'source': 'lista_test.csv', 'row': 38}, lookup_index=0),\n",
       " Document(page_content='REPORT;20;20: 3.3. INNOVATION;ROVI continued with its constant involvement in medical research in 2020, allocating a ;significant part of its resources to work of this kind. Research & Development (R&D) expenses ;were 23.8 million euros. These R&D expenses were mainly related to carrying out the activities ;necessary to prepare the dossier of Doria® to be filed with the United States authority, the ;U.S. Food and Drug Administration (FDA); the development of Phase I of Letrozole-ISM® ; and ;the development of the new formulation of Risperidone-ISM® to be administered every three ;months.;At the same time, the company remains firm in its support of collaborative research ;through co-operation agreements with other leading benchmark companies in the sector, ;biotechnological companies, universities and public research centres, in order  to combine ;efforts, which results in an increase in scientific, technological, educational and knowledge-;sharing activities. This is a need and requirement of the “knowledge society” and, even at ;times when the economic circumstances are especially difficult, it is necessary to prioritise ;research and development in order to provide an answer to the great challenges in the health ;area and create a dynamic ecosystem of knowledge excellence at national, inter-institutional ;and multidisciplinary levels.;As a result of this commitment, as an agent at the service of society’s needs for the ;prevention and knowledge of certain diseases, in order to improve the health and quality ;of life of patients, ROVI placed its innovation capabilities at the service of the fight against ;COVID-19 in 2020. In this respect, it reached a collaboration agreement with the HM ;Hospitales group to fund a clinical trial that analyses the efficacy and safety of bemiparin ;patients who are in hospital with pneumonia due to COVID-19 and D-dimer higher than 500 ;ng/m, as well as another collaboration agreement with the University of Navarra to carry out ;the randomised, open-label clinical trial to evaluate the effect of prophylactic or therapeutic ;doses of bemiparin in patients with COVID-19 (BEMICOP).;Therefore, this study focuses on an exploratory analysis and evaluation of the safety and ;efficacy of the use of bemiparin, hoping for the results to provide sufficient clinical evidence ;to improve the selection of patients who can receive antithrombotic therapies to improve ;their prognosis and reduce the mortality associated to COVID-19. ;SOLID PATENT PORTFOLIO;At 31 December, 2020, ROVI had an invention portfolio composed of more than 613 dossiers, ;452 of which related to granted patent applications, while 161 were in the examination and ;evaluation phase. The developments of ROVI’s research are addressed mainly at three areas:;• Drug release technologies;• Glycomics;• Multi-layer technologies for use in urethral catheters.;The portfolio of products that the company has under development is mainly focused ;on heparin derivatives and other glycosaminoglycans, as well as the development of new ;controlled-release systems based on the ISM® technology patented by ROVI. This technology is ;intended to obtain new pharmaceutical products that replace the administration of drugs that ;require daily doses in chronic or prolonged treatments, as many be the case of pathologies like ;schizophrenia or certain types of cancer, by controlled-administration systems.;41', lookup_str='', metadata={'source': 'lista_test.csv', 'row': 39}, lookup_index=0),\n",
       " Document(page_content='REPORT;20;20: All the group’s pharmaceutical product research, development and manufacturing activity ;is coordinated from Spain and divided among the Madrid and Granada centres. In 2020, it ;continued to be focused on authorisation of the marketing of Risperidone ISM® (Doria) in the ;EU and U.S.A. and the Phase I de Letrozole ISM®.;At the end of January, the application for marketing authorisation of Doria® using the ;Centralised Procedure was admitted for evaluation by the European health authority, the ;European Medicines Agency (EMA). This process is expected to conclude in 2021.;Meanwhile, in November, the journal npj Schizophrenia published of the results of the pivotal ;study PRISMA-3 on the efficacy and safety of Doria® in schizophrenic patients.;The results obtained in this study show that both doses (75 mg and 100 mg once a month) ;have achieved the prespecified primary and secondary efficacy endpoints for treatment of ;patients with acute exacerbation of schizophrenia. The primary efficacy endpoint, the PANSS ;total score (mean difference, CI: 95%), improved significantly with Risperidone ISM® 75 mg ;and 100 mg from the beginning until day 85, with adjusted differences of -13.0 (-17.3 to -8-8); ;(p 0.0001) and -13.3 (-17.6 to -8.9 p<0.0001), respectively. Significantly improved mean changes ;for the secondary endpoint, the CGI-S score, were also obtained for Risperidone ISM® in ;comparison with the placebo: from -0.7 (-1.0 to -0.5; p<0.0001), for both doses. The significant ;statistical improvement for both efficacy results could already be observed 8 days after ;the first injection. The adverse events notified with the greatest frequency were increased ;prolactin in the blood (7.8%), headaches (7.3%), hyperprolactinemia (5%) and weight increase ;(4.8%). No important new or unexpected safety information was reported.;According to the authors of the article, Risperidone ISM® represents an efficient therapeutic ;strategy in schizophrenic patients who are admitted to hospital with an acute episode with ;serious or moderate psychotic symptoms.;On the basis of these positive results and the other details of the product, at its Investor ;Meeting, ROVI also announced the filing of an NDA (New Drug Application) with the United ;States authority FDA (Food and Drug Administration), i.e. a registration dossier to obtain ;marketing authorisation for Doria® in the U.S.A.;In November 2018, ROVI began research in humans with Letrozole ISM®, which is the second ;candidate under clinical development to use ROVI’s ISM® technological platform. This new ;research medicine is, according to the information available, the first long-acting injectable ;aromatase inhibitor for the treatment of hormone-dependent breast cancer.;The aromatase inhibitors (AI) letrozole and anastrozole are used to treat HR+ breast cancer ;because they detain oestrogen production in post-menopausal women and oral letrozole is ;the treatment of choice for this type of pathology. The potential of Letrozole ISM® to provide ;treatment through a long-acting injection has potential to significantly change the market ;and improve patients’ results and, at present, there is no long-acting injectable approved for ;letrozole in the market.;Currently, ROVI is conducting the first phase 1 clinical trial (the LISA-1 study) for Letrozole ;ISM® and, due to the design of the study (“dose escalation”) and its exploratory nature, the ;date of finalisation cannot be forecast. It is intended to analyse the following steps with the ;authorities in the first quarter of 2021.;Preliminary results indicate that long-term hormone-blocking therapy (HT) may obtain ;better clinical results than daily oral treatment in breast cancer. Early interruption and non-;42', lookup_str='', metadata={'source': 'lista_test.csv', 'row': 40}, lookup_index=0),\n",
       " Document(page_content='REPORT;20;20: adherence to HT are frequent and are associated with higher mortality: improved adherence ;to the treatment with Letrozole ISM® may enhance the treatment’s results. Furthermore, ;sustained lower effective doses (in comparison with the oral treatment) may reduce adverse ;secondary effects (loss of bone mass, bone/articular/muscular pain, dyslipidaemia) due to ;lower exposure to the medicine, which may have a positive effect on treatment adherence ;in a pathology that requires strict adherence to a treatment of at least three years to prevent ;relapses.;These projects, in addition to the important financial effort made by the company, are ;backed by important national entities, such as the Industrial Technological Development ;Centre and the Technological Corporation of Andalusia, which made several visits to evaluate ;and monitor projects during 2020.;43', lookup_str='', metadata={'source': 'lista_test.csv', 'row': 41}, lookup_index=0),\n",
       " Document(page_content='REPORT;20;20: 3.4. QUALITY;The main goal of ROVI and all the people who form it is to guarantee the quality, safety and ;efficacy of the products that the company places on the market. In this respect, all group ;companies have procedures established that describe the checks performed in all phases of ;the processes, including product research and development, the reception of raw materials, ;packaging materials, production, storage and distribution, until the products are consumed ;by customers.;The standards fixed fully comply with the company’s internal requirements but also with ;the external standards imposed by the bodies that regulate the different products on ROVI’s ;portfolio.;To assess compliance with these procedures, regular internal audits are performed at all the ;group’s facilities and Management also performs annual reviews in which the main points ;that require improvement in the organisations are analysed.;In addition, the quality audits performed by external entities show the commitment to ;continuing improvement and maintaining high standards of quality.;Furthermore, with the frequency established in the legislation applicable to the products, ;all group companies are inspected by both the Spanish health authorities and those of ;the countries to which the products are exported. The exceptional situation caused by the ;pandemic has forced new formulas to be adopted for conducting both internal and external ;audits, as well as the inspections by the health authorities in 2020. In many cases, remote ;audits were elected (held by teleconferencing), limiting physical presence at ROVI’s work ;centres to the indispensable minimum and providing maximum guarantees of safety and ;protection against contagion by COVID-19.;3.5. PHARMACOVIGILANCE AND PRODUCT SAFETY;ROVI has a Pharmacovigilance System in place, which allows any possible adverse reactions ;(any harmful and unintended response to a medicine) that arise to its medicines and ;healthcare products to be detected and assessed. This system means that, whenever an ;adverse reaction to a medicine for which ROVI holds the authorisation is notified, the ;Pharmacovigilance Department assesses the causality in the relationship between taking ;the medicine and the reaction, thus triggering the sign detection process that is in place, ;which allows any change in the benefit/risk balance of the medicines that the company ;manufactures or markets to be detected.;This Pharmacovigilance System allows continuous monitoring of the safety of its medicines, ;assessing the safety information received through different channels, such as, for example, ;spontaneous notifications from patients and health professionals, health authorities, or ;scientific studies or publications.;ROVI’s Pharmacovigilance Department has a communication channel in place by e-mail ;(farmacovigilancia@rovi.es) or telephone [(+34) 91 021 30 00], both of which may be accessed ;through the Company’s website (www.rovi.es).;44', lookup_str='', metadata={'source': 'lista_test.csv', 'row': 42}, lookup_index=0),\n",
       " Document(page_content='REPORT;20;20: When any customer or health professional contacts ROVI to notify a claim or complaint, ;the company opens an enquiry in order to identify the cause and prevent any repetition. ;These enquiries may involve several departments and may also include suppliers and/or ;subcontractors. The efficacy of these actions is analysed annually in the review that ROVI ;management conducts of the system.;Any request for information made by a customer/health professional and/or patient is ;considered a query. The department that handles it depends on its content (Quality, ;Pharmacovigilance or Medical Science Liaison) in both Spain and the subsidiaries. In ;the event that, while a claim is being handled, a possible risk for a patient and/or health ;professional is noted, the Quality Department informs Pharmacovigilance so that the case ;can be managed properly.;The following table shows details of complaints and queries from customers to ROVI ;companies in 2020.  ;QUALITY DATA 2020 ;CUSTOMERS ;COMPLAINTSCUSTOMER QUERIES: QUALITY ;& THERAPEUTIC;Nº customers ;complaintsComplaints / ;million units.Nº customer ;queriesQueries / ;million units;Laboratorios Farmacéuticos ;Rovi, S.A. 117 5.68 75 3.64;Rovi Pharma Industrial ;Services, S.A.Madrid 249 2.42 0 0.00;SS de los Reyes 28 0.58 0 0.00;Alcalá de Henares 860 13.98 0 0.00;Pan Química ;Farmacéutica, S.A. 0 0.00 0 0.00;Laboratorios Farmacéuticos ;Rovi, S.A. est. Pte. Portugal 12 15.41 4 5.14;Rovi Biotech, GmbH ;(Germany) 125 136.26 243 264.89;Rovi Biotech, Limited ;(United Kingdom) 3 30.29 17 171.62;Rovi Biotech, S.R.L (Italy) 7 4.10 0 0.00;Rovi S.A.S (France) 1 3.46 23 79.47;TOTAL DISTRIBUTION 1,402 5.92 362 1.53;(*) Quality queries are those where the patient or health professional asks about storage conditions, allergens, ;composition of the compound, or similar. Therapeutic queries are defined as those concerning any scientific ;information and/or the uses of a product.;45; ;  Unnamed: 0: 1-Columna: No customers 2-Datos: [NaNcomplaints; Rovi, S.A.117; Name: No customers, dtype: object];  Unnamed: 0: 1-Columna: Complaints / 2-Datos: [NaNmillion units.; Rovi, S.A. 5.68; Name: Complaints /, dtype: object];  Unnamed: 0: 1-Columna: No customer 2-Datos: [NaNqueries; Rovi, S.A. 75; Name: No customer, dtype: object];  Unnamed: 0: 1-Columna: Queries / 2-Datos: [NaNmillion units; Rovi, S.A. 3.64; Name: Queries /, dtype: object];', lookup_str='', metadata={'source': 'lista_test.csv', 'row': 43}, lookup_index=0),\n",
       " Document(page_content='REPORT;20;20: 4. HUMAN ;RESOURCES;46', lookup_str='', metadata={'source': 'lista_test.csv', 'row': 44}, lookup_index=0),\n",
       " Document(page_content='REPORT;20;20: 4.1. MANAGEMENT PRINCIPLES;One of the pillars upon which ROVI’s actions are based is to be a place where an appropriate, ;safe and comfortable working environment is ensured, promoting good relations, good ;treatment and tolerance among all its employees and external collaborators. This favours the ;development of a workforce with a team of first-class professionals, which increased in 2020, ;continuing with the company’s growth strategy in preceding years and the need to adapt its ;human resources to the needs defined by business strategy. ;In spite of the increase in the number of employees, ROVI continues to focus on the ;creation of high-quality and mostly permanent employment, in order to furnish its workers ;with stability. A balanced use is made of permanent and temporary contracts, the first of ;which cover the activity’s structural needs, while the second are for specific or seasonal ;requirements. This is reflected in a workforce distribution by contract type where permanent ;employees prevail.;At the same time, the company strives to promote the highest degree of inclusion and access ;for differently-abled candidates under equitable conditions, as well as an effective balance ;and equality in the conditions of men and women, a hallmark of its business culture that ;continued to develop in 2020 and will continue to develop in the future.;Finally, for the company’s strategy, it is of vital importance to capture the talent of new, young ;professionals while, at the same time, making use of the experience of veterans. This is shown ;by the balanced distribution of the workforce by age brackets and the encouragement of ;mutual learning between the new professionals, with a new and renewed vision, and the ;most veteran ones, who provide values based on a long career. ;DISTRIBUTION OF EMPLOYEES BY AGE / GENDER ;2020 2019;Men Women TOTAL Men Women TOTALTotal  ;Variation;18-30 years 101 137 238 88 222 310 -23%;31-40 years 198 216 414 179 187 366 13%;41-50 years 225 238 463 210 176 386 20%;51-60 years 125 127 252 116 93 209 21%;>60 years 23 29 52 21 18 39 33%;TOTAL 672 747 1.419 614 696 1.310 8%;47; ;  MenWomenTOTAL: 1-Columna: MenWomenTOTAL.1 2-Datos: [1.011372e+088.822231e+07; 1.982164e+081.791874e+08; 2.252385e+082.101764e+08; 1.251273e+081.169321e+07; 2.329520e+052.118390e+05; 6.727471e+066.146961e+06; Name: MenWomenTOTAL.1, dtype: float64];', lookup_str='', metadata={'source': 'lista_test.csv', 'row': 45}, lookup_index=0),\n",
       " Document(page_content='REPORT;20;20: At ROVI, the most experienced workers are encouraged to mentor, in order to guide and ;develop the technical skills of the younger workers. This generates a current that transfers ;the important knowledge and experience of the senior stratum of the company towards the ;new generation of professionals, one of the keys to both ROVI’s development to date and its ;continued growth in the future.;The Human Talent Development Policies are the cornerstone that ROVI uses for managing ;its workforce and enabling it to grow. Aligned with its goals, the personnel needs, plans ;and talent management programmes are established through these Policies. Thus, full ;integration is achieved among the organisation’s priorities, management, and human ;resource practices. ;;4.2.  BALANCE OF THE YEAR AND FUTURE CHALLENGES;The continuing development and growth of ROVI’s business maintained the upward trend ;in the company’s workforce in 2020. The group’s human team had a total of 1,419 employees, ;representing an 8% increase in the workforce. A balance between the presence of male ;and female employees was maintained, with a higher percentage of women, showing ;the consolidation of a business culture which prioritises a bet on diversity and equal ;opportunities in all the professional groups and in all the countries where ROVI is present. ;DISTRIBUTION OF  ;EMPLOYEES BY GENDER;2020 2019 Total Variation;Men 672 614 9%;Women 747 696 7%;TOTAL 1,419 1,310 8%;48; ;', lookup_str='', metadata={'source': 'lista_test.csv', 'row': 46}, lookup_index=0),\n",
       " Document(page_content='REPORT;20;20: DISTRIBUTION OF EMPLOYEES BY  ;PROFESSIONAL GROUP* / GENDER;2020 2019;Men Women TOTAL Men Women TOTALTotal  ;Variation;1 1 5 6 1 6 7 -14%;2 42 31 73 26 20 46 59%;3 85 113 198 79 92 171 16%;4 138 111 249 130 105 235 6%;5 229 215 444 225 218 443 0%;6 84 120 204 68 103 171 19%;7 62 126 188 62 135 197 -5%;8 3 1 4 3 1 4 0%;0 12 5 17 12 5 17 0%;Filiales 16 20 36 8 11 19 89%;TOTAL 672 747 1.419 614 696 1.310 8%;;(*) Professional group in accordance with the XIX Collective Agreement of the Chemical Industry.;DISTRIBUTION OF EMPLOYEES BY COUNTRY / GENDER;2020 2019;Men Women TOTAL Men Women TOTALTotal  ;Variation;Spain 656 727 1,383 606 685 1,291 7%;UK 0 1 1 - 1 1 0%;German 11 9 20 3 2 5 300%;Italy 1 4 5 1 3 4 25%;France 3 1 4 3 - 3 33%;Poland\\xa0 0 1 1 - 1 1 0%;Portugal 1 4 5 1 4 5 0%;TOTAL 672 747 1,419 614 696 1,310 8%;49; ;  MenWomenTOTAL: 1-Columna: MenWomenTOTAL.1 2-Datos: [1.560000e+021.670000e+02; 4.231730e+052.620460e+05; 8.511320e+077.992171e+06; 1.381112e+081.301052e+08; 2.292154e+082.252184e+08; 8.412020e+076.810317e+07; 6.212619e+076.213520e+07; 3.140000e+023.140000e+02; 1.251700e+041.251700e+04; 1.620360e+058.111900e+04; 6.727471e+066.146961e+06; Name: MenWomenTOTAL.1, dtype: float64]; ; ;  MenWomenTOTAL: 1-Columna: MenWomenTOTAL.1 2-Datos: [6567271,3836066851,291; 011-11; 11920 325; 145134; 3143-3; 011-11; 145145; 6727471,4196146961,310; Name: MenWomenTOTAL.1, dtype: object];', lookup_str='', metadata={'source': 'lista_test.csv', 'row': 47}, lookup_index=0),\n",
       " Document(page_content='REPORT;20;20: RECRUITMENT;ROVI’s recruitment policy continues to focus, as mentioned previously, on the creation of ;high-quality employment and opportunities, especially for professionals who are beginning ;their career or would like to consolidate it. At the same time, capturing experienced talent ;among workers with long experience in the sector is not neglected. This allows a balanced ;workforce to be formed, with best young and veteran talent, ready to tackle ROVI’s challenges ;as a company and sector leader.;DISTRIBUTION EMPLOYEES  ;BY CONTRACT TYPE/GENDER;2020 2019;Men Women TOTAL Men Women TOTALTotal  ;Variation;Permanent full-time 544 589 1,133 496 526 1,022 11%;Permanent part-time 1 7 8 - 8 8 0%;Permanent reduced working hours - - 0 4 35 - -;Total permanent 545 596 1,141 500 569 1,069 7%;Temporary specific project or service 4 10 14 2 1 3 367%;Temporary due to work backlog 74 74 148 61 48 109 36%;Temporary substitution contract 5 - 5 6 8 14 -64%;Training/Apprenticeship 34 47 81 31 51 82 -1%;Temporary part-time 10 20 30 14 19 33 -9%;Total temporary 127 151 278 114 127 241 15%;TOTAL 672 747 1,419 614 696 1,310 8%;DISTRIBUTION EMPLOYEES BY  ;CONTRACT TYPE /AGE;18-30 31-40 41-50 51-60 >60 TOTAL;Permanent 118 350 411 243 19 1,141;Temporary specific project or service 2 5 5 2 - 14;Temporary due to work backlog 47 46 46 6 3 148;Temporary substitution contract 2 3 - - - 5;Training/Apprenticeship 69 10 1 1 - 81;Temporary part-time - - - - 30 30;TOTAL 238 414 463 252 52 1,419;50; ;  MenWomenTOTAL: 1-Columna: MenWomenTOTAL.1 2-Datos: [5445891,1334965261,022; 178-88; --0435-; 5455961,1415005691,069; 41014 213; 74741486148109; 5-56814; 344781 315182; 102030 141933; 127151278114127241; 6727471,4196146961,310; Name: MenWomenTOTAL.1, dtype: object];', lookup_str='', metadata={'source': 'lista_test.csv', 'row': 48}, lookup_index=0),\n",
       " Document(page_content='REPORT;20;20: DISTRIBUTION EMPLOYEES BY  ;CONTRACT TYPE / PROFESSIONAL GROUP*;1 2 3 4 5 6 7 8 0 Subsidiaries TOTAL;Permanent 6 19 135 211 370 168 186 4 17 25 1,141;Temporary specific project or ;service - 2 6 2 2 2 - - - - 14;Temporary due to work backlog - 51 44 11 21 9 1 - - 11 148;Temporary substitution contract - 1 - 1 2 1 - - - - 5;Training/Apprenticeship - - 5 11 41 24 - - - - 81;Temporary part-time - - 8 13 8 - 1 - - - 30;TOTAL 6 73 198 249 444 204 188 4 17 36 1,419;;* Professional group in accordance with the XIX Collective Agreement of the Chemical Industry.;TURNOVER;In a complicated 2020, ROVI’s turnover was not affected by any temporary redundancy ;proceedings (ERTE) or similar, continuing along a similar path to other years, with a ;percentage turnover of employees, both voluntarily and due to business needs. In this ;respect, the company guarantees the greatest diligence in safeguarding the employee’s ;rights and achieving a transition with all the legal guarantees while, at the same time, ;always maintaining the intention of re-employing the professionals involved if business ;circumstances so permit. ;DISTRIBUTION  ;DISMISSALS BY GENDER;2020 2019 Total Variation;Men 13 22 -41%;Women 5 17 -71%;TOTAL 18 39 -54%;51; ;  DISTRIBUTION EMPLOYEES BY: 1-Columna: Unnamed: 0 2-Datos: [1 2 3 4 5 6 7 80; Permanent 6 19 135 211 370 168 186 4 17; service - 2 6 2 2 2 - --; Temporary due to work backlog - 51 44 11 21 9 1 - -; Temporary substitution contract - 1 - 1 2 1 - --; Training/Apprenticeship - - 5 11 41 24 - --; Temporary part-time - - 8 13 8 - 1 - -; TOTAL 6 73 198 249 444 204 188 4 17; Name: Unnamed: 0, dtype: object];  DISTRIBUTION EMPLOYEES BY: 1-Columna: Unnamed: 1 2-Datos: [1 2 3 4 5 6 7 8 Subsidiaries TOTAL; Permanent 6 19 135 211 370 168 186 425 1,141; service - 2 6 2 2 2 - -- 14; Temporary due to work backlog - 51 44 11 21 9 1 -11 148; Temporary substitution contract - 1 - 1 2 1 - - - 5; Training/Apprenticeship - - 5 11 41 24 - - - 81; Temporary part-time - - 8 13 8 - 1 -- 30; TOTAL 6 73 198 249 444 204 188 436 1,419; Name: Unnamed: 1, dtype: object]; ; ;', lookup_str='', metadata={'source': 'lista_test.csv', 'row': 49}, lookup_index=0),\n",
       " Document(page_content='REPORT;20;20: DISTRIBUTION DISMISSALS BY AGE / GENDER ;2020 2019;Men Women TOTAL Men Women TOTALTotal  ;Variation;18-30 years 1 - 1 1 2 3 -67%;31-40 years 3 - 3 5 10 15 -80%;41-50 years 8 3 11 8 5 13 -15%;51-60 years 1 2 3 8 - 8 -63%;>60 years - - - - - - -;TOTAL 13 5 18 22 17 39 -54%;DISTRIBUTION DISMISSALS BY  ;PROFESSIONAL GROUP*/GENDER ;2020 2019;Men Women TOTAL Men Women TOTALTotal  ;Variation;1 - - - - - - -;2 - 1 1 4 3 7 -86%;3 5 1 6 4 3 7 -14%;4 2 1 3 - 1 1 200%;5 4 - 4 10 7 17 -76%;6 1 - 1 3 2 5 -80%;7 1 2 3 1 1 2 50%;8 - - - - - - -;0 - - - - - - -;TOTAL 13 5 18 22 17 39 -54%;;* Professional group in accordance with the XIX Collective Agreement of the Chemical Industry.;52; ;  Unnamed: 0: 1-Columna: Unnamed: 1 2-Datos: [NaNNaN; NaNMen; 18-30 years 1; 31-40 years 3; 41-50 years 8; 51-60 years 1; >60 years-; TOTAL13; Name: Unnamed: 1, dtype: object];  Unnamed: 0: 1-Columna: 2020 2-Datos: [NaN NaN; NaNWomen; 18-30 years-; 31-40 years-; 41-50 years3; 51-60 years2; >60 years -; TOTAL 5; Name: 2020, dtype: object];  Unnamed: 0: 1-Columna: Unnamed: 2 2-Datos: [NaN NaN; NaNTOTAL; 18-30 years1; 31-40 years3; 41-50 years11; 51-60 years3; >60 years -; TOTAL 18; Name: Unnamed: 2, dtype: object];  Unnamed: 0: 1-Columna: Unnamed: 3 2-Datos: [NaNNaN; NaNMen; 18-30 years 1; 31-40 years 5; 41-50 years 8; 51-60 years 8; >60 years-; TOTAL22; Name: Unnamed: 3, dtype: object];  Unnamed: 0: 1-Columna: 2019 2-Datos: [NaN NaN; NaNWomen; 18-30 years2; 31-40 years10; 41-50 years5; 51-60 years-; >60 years -; TOTAL 17; Name: 2019, dtype: object];  Unnamed: 0: 1-Columna: Unnamed: 4 2-Datos: [NaN NaN; NaNTOTAL; 18-30 years3; 31-40 years15; 41-50 years13; 51-60 years8; >60 years -; TOTAL 39; Name: Unnamed: 4, dtype: object];  Unnamed: 0: 1-Columna: Unnamed: 5 2-Datos: [NaNTotal; NaNVariation; 18-30 years -67%; 31-40 years -80%; 41-50 years -15%; 51-60 years -63%; >60 years -; TOTAL-54%; Name: Unnamed: 5, dtype: object]; ; ;  Unnamed: 0: 1-Columna: Unnamed: 1 2-Datos: [NaN NaN; NaN Men; 1 -; 2 -; 3 5; 4 2; 5 4; 6 1; 7 1; 8 -; 0 -; TOTAL 13; Name: Unnamed: 1, dtype: object];  Unnamed: 0: 1-Columna: 2020 2-Datos: [NaNNaN; NaN Women; 1-; 21; 31; 41; 5-; 6-; 72; 8-; 0-; TOTAL5; Name: 2020, dtype: object];  Unnamed: 0: 1-Columna: Unnamed: 2 2-Datos: [NaNNaN; NaN TOTAL; 1-; 21; 36; 43; 54; 61; 73; 8-; 0-; TOTAL18; Name: Unnamed: 2, dtype: object];  Unnamed: 0: 1-Columna: Unnamed: 3 2-Datos: [NaN NaN; NaN Men; 1 -; 2 4; 3 4; 4 -; 5 10; 6 3; 7 1; 8 -; 0 -; TOTAL 22; Name: Unnamed: 3, dtype: object];  Unnamed: 0: 1-Columna: 2019 2-Datos: [NaNNaN; NaN Women; 1-; 23; 33; 41; 57; 62; 71; 8-; 0-; TOTAL17; Name: 2019, dtype: object];  Unnamed: 0: 1-Columna: Unnamed: 4 2-Datos: [NaNNaN; NaN TOTAL; 1-; 27; 37; 41; 517; 65; 72; 8-; 0-; TOTAL39; Name: Unnamed: 4, dtype: object];  Unnamed: 0: 1-Columna: Unnamed: 5 2-Datos: [NaN Total; NaN Variation; 1-; 2 -86%; 3 -14%; 4 200%; 5 -76%; 6 -80%; 7 50%; 8-; 0-; TOTAL -54%; Name: Unnamed: 5, dtype: object];', lookup_str='', metadata={'source': 'lista_test.csv', 'row': 50}, lookup_index=0),\n",
       " Document(page_content='REPORT;20;20: 4.3.  EQUAL OPPORTUNITIES AND WORK-LIFE BALANCE;ROVI is convinced of the need to promote real equality in the treatment and opportunities ;of men and women. This is a vital factor to optimise all the company’s talent, eliminating all ;the barriers that conceal or hinder it or prevent it from being fully expressed.;The group is committed to developing and implementing policies that include equal ;treatment and opportunities for women and men, with no direct or indirect gender ;discrimination, and to promote and encourage measures to achieve real equality within ;the organisation, establishing equal opportunities as a strategic principle of its human ;resources policy.;This bet on equality and non-discrimination extends to any other personal characteristic ;(race, beliefs, situation, etc) in all selection, promotion, personal development or ;compensation processes.;In 2020, the first full year of the Equal Opportunities Commission was completed. This ;Commission has the mission of making a diagnosis and monitoring the measures ;implemented to ensure equal opportunities and non-discrimination, as well as fostering ;the inclusion of new actions in these respects.;ROVI carries out an integral activity in this sphere, reflected in the following mechanisms:  ;Equality Plan;In 2020, the ROVI group worked on implementation of an Equality Plan in line with the ;legal framework established by Royal Decree-Law 6/2019. The consultancy firm PwC ;(PricewaterhouseCoopers) and an Equality Commission formed by the Company’s ;main interlocutors took part in preparing said Equality Plan.;However, the publication of Royal Decree 901/2020 of 13 October, which regulated ;equality plans and the registration thereof and amended Royal Decree 713/2010, led to ;substantial changes in the methodology for preparing the plan and in the Company’s ;obligations. Therefore, the Equality Plan has been updated within the framework of the ;new legislation and is expected to be published during the first few months of 2021. ;Code of Ethics;ROVI’s commitment to equality and non-discrimination is also set out in the company’s ;Code of Ethics and the principles that govern training programmes and actions.;Protocol for the Prevention and Handling of Moral and Sexual Harassment.;All employees are obliged to know and respect this Protocol. Rovi does not tolerate ;harassment and rejects any kind of violence, physical, sexual, psychological or moral ;harassment, abuse of authority in the workplace or any other form of harassment or ;conduct that generates an atmosphere that is intimidatory or offensive in respect of ;workers’ rights.;53', lookup_str='', metadata={'source': 'lista_test.csv', 'row': 51}, lookup_index=0),\n",
       " Document(page_content='REPORT;20;20: Ethics Channel;To ensure that any reports that may be received informing of a violation of the ;aforementioned Protocol, the Code of Ethics or, in general, of any approved policy or ;procedure are handled properly and receive an appropriate response, ROVI has made ;an Ethics Channel available to its employees, suppliers, trading partners, agents and ;external collaborators. The Regulations of the Ethics Channel govern the procedure to ;follow when handling or processing any reports or notifications received and ensures ;that, when faced with an action that potentially contravenes the Company’s principles ;and values, the latter is able to react strictly, efficiently and diligently;AdiciAdditionally, the company has a Director Selection Policy intended to ensure that the ;proposals for the appointment and re-election of directors of the company are based on ;a prior analysis of the needs of the Board of Directors; and favour diversity of knowledge, ;experience and gender, in such a way that decision-making is enriched and plural viewpoints ;are contributed to the debates on the matters that fall within its competencies.;When selecting candidates for the position of director, the starting point will be an analysis of ;the needs of the company and its group, which must be made by the Board of Directors with ;advice and reports from the Nomination and Remuneration Commission (N&RC). The N&RC ;will assess the skills, knowledge and experience required of the Board candidates. In this ;respect, the N&RC will define the functions and abilities required of the candidates to fill each ;vacancy and will also assess the time and dedication needed to perform their tasks properly.;In the candidate selection process, any kind of implicit bias that might suggest ;discrimination and, in particular, that hinders the selection of persons of either gender will ;be avoided. In this respect, if there is an obvious imbalance in the composition of the Board ;of Directors, women who meet the necessary requisites and have the profile sought will be ;included among the potential candidates. Furthermore, the Policy on the composition of the ;Board of Directors states that, before the end of 2020, the number of female directors must ;represent at least 40% of total Board members and that, prior to that time, it may not be ;lower than 30%.;When selecting Board candidates, the N&RC will ensure that the people proposed are ;honest and apt for the position, with recognised professional prestige, competence, ;experience, qualifications, education, availability and commitment to their duties, and that ;the composition of the Board is suitably balanced. Regarding professional qualifications, ;the Policy requires candidates to have a university degree or at least five years’ experience ;in administration, management, control or advisory functions in public or private entities ;with a similar size and requirements to the company. Furthermore, as guidance, the Board ;considers that, in general, directors should not be aged over 80..;54', lookup_str='', metadata={'source': 'lista_test.csv', 'row': 52}, lookup_index=0),\n",
       " Document(page_content='REPORT;20;20: WORK-LIFE BALANCE AND SUPPORT OF THE CO-RESPONSIBLE ;EXERCISE THEREOF;For ROVI, it is of equal importance for its professionals to able to develop their career in the ;company and for them to have the possibility of making this compatible with their personal ;life. To this end, a set of measures to reconcile work and family are in place, adapted to the ;different personal situations that may exist during the life of any employee.;ROVI employees may enjoy the work-life balance measures included in the legislation, the ;enhancements applied through the Collective Agreement of the Chemical Industry and ;others developed by the company itself.;The company is aware that it carries on its activity in different environments (industrial ;production, the marketing area and the industrial structure/office area) with different ;dynamics in working hours and ways of organising working time. In general, ROVI foments ;criteria for organising working time and time off to facilitate the best work-life balance ;possible, as well as allowing parenthood to be exercised responsibly.;In this respect, the following practices are applied:;• Working hours and time off: ROVI has flexible working hours at the beginning and end ;of the working day for office personnel and structural employees in the industrial area. It ;allows changes of shift or day between workers in the industrial area and reductions in ;working hours adapted to the needs of each specific person. Likewise, it offers flexibility in ;the holiday calendars provided that the activity of the employee’s area is compatible.;• Remuneration: ROVI ensures that forming a family is not influenced by factors like loss of ;the normal income for the most vulnerable groups, such as pregnant women. Therefore, ;the company pays a wage supplement that completes the benefit received from the ;Social Security to 100% of the employee’s salary. It also offers salary options, with the ;availability of nursery school vouchers, restaurant vouchers and health insurance within ;its “a la carte” salary proposal. Furthermore, ROVI offers all its permanent employees cover ;by the life insurance policy paid by the company.;• Travel : in order to prevent avoidable travel and trips, the group provides all the personnel ;who so require with a laptop computer, with connectivity to the company’s intranet,  ;and encourages the use of videoconferences and on-line meetings. Likewise, if the work ;performed so permits, the possibility of teleworking is organised for pregnant employees. ;Additionally, at work centres where street parking is difficult, the company makes a series ;of parking spaces available to pregnant women to make it easier for them to get to the ;work centre.;• Disconnection from work: in order for employees to be able to enjoy their time off ;effectively and conserve their personal and family privacy, the company encourages ;practices such as avoiding communication with employees through any channel ;(telephone, e-mail or any other) outside working hours unless there is an urgent, ;unforeseen need that cannot be met otherwise. Likewise, meetings in the later part ;of the working day are avoided, in order to prevent overstepping working hours at ;the end of the day and thus affecting the workers’ ability to attend to their family ;obligationssiempre que la actividad del área del empleado sea compatible.401-2;55', lookup_str='', metadata={'source': 'lista_test.csv', 'row': 53}, lookup_index=0),\n",
       " Document(page_content='REPORT;20;20: Adicionalmente, se establecen estas medidas específicas para las diferentes áreas de ;actividad:; –Industrial production;• The least arduous shift dynamics possible: aware that the work in this area is carried out ;in shifts as required by the production processes and is, therefore, more demanding, the ;least arduous shifts possible are fixed for the workers.;• Holiday periods: although they are subject to the volume of activity and it is necessary ;to arrange fixed dates for them, the company undertakes that at least half the holidays ;may be taken in summer. Furthermore, the time off scheduled for these employees is ;arranged to coincide with school holidays, so that they can be enjoyed with the rest of the ;family.; –Marketing area and industrial structure/office area;• Working time organised with flexible working hours, with a margin of choice for ;employees to fix both the start and the finish of the working day, depending on their ;needs or preferences.;• Holidays preferably in summer and time off in school holidays.; –Actions taken regarding the new laws on recording the working day and disconnection ;from work in 2020;As a result of Royal Decree-Law 8/2019 of 8 March on Urgent Measures for Social Protection ;and the Fight against Job Insecurity in the Workplace, which amended article 34.9 of ;the Workers’ Statute, the company adapted the working day register system to the new ;requirements of the Royal Degree, developing rules on time checks that are a continuation ;of the policy that was already implemented in the company and that likewise include the ;specific features of certain jobs for which these checks are more complicated, putting ;guidelines in place to ensure legal certainty and the rights of both the workers and the ;organisation.;Mention should be made of the fact that the working day register has never been the cause ;of any conflict in the organisation, since it was introduced into the Company decades ago. ;Likewise, office workers and those holding positions of responsibility have always worked on a ;flexible basis in an environment of mutual trust.;Furthermore, ROVI shares the spirit of the regulations and, in fact, had already been ;recording measures that ensured compliance with the limits on working hours, a framework ;of legal certainty, protection of workers against abuse of their working time, the avoidance of ;fraud in providing and paying social security contributions on overtime and the reconciliation ;of personal and professional life.;In addition, before the new legislation was passed, ROVI already had the objective of enabling ;its employees to enjoy their time off effectively and preserving their personal and family ;privacy, as mentioned above.;However, the opportunity provided by the new legislation has been used to take a further ;step in ROVI’s work-life balance policies by including a Digital Disconnection Protocol in its ;agreements with the workers’ representatives and its Working Hours Register Policies. This ;Protocol regulates the company’s commitment not to require employees to connect to the ;56', lookup_str='', metadata={'source': 'lista_test.csv', 'row': 54}, lookup_index=0),\n",
       " Document(page_content='REPORT;20;20: company’s digital systems, e-mail or telephone after the working day fixed for each worker ;has concluded.;REMUNERATION POLICIES;ROVI holds convinced that the principal of equal pay for equal work should be effectively ;applied. This is the idea behind its wage policy, which is applied from the time when the ;employee is hired and in the subsequent wage reviews throughout his or her working life. In ;2020, average employee remuneration rose by 3% to 37,044 euros. ;AVERAGE REMUNERATION  ;BY GENDER;2020 2019 Total variation;Men 38,677 € 36,782 € 5%;Women 35,410 € 35,244 € 0%;AVERAGE 37,044 € 36,013 € 3%;;AVERAGE REMUNERATION BY AGE / GENDER ;2020 2019;Men Women Men Women Total variation;18-30 years 24,737 € 25,705 € 22,813 € 28,091 € -1%;31-40 years 30,216 € 34,177 € 29,893 € 34,909 € -1%;41-50 years 42,890 € 38,655 € 44,772 € 41,400 € -5%;51-60 years 51,676 € 42,276 € 48,836 € 40,914 € 5%;>60 years 60,862 € 33,752 € 51,672 € 36,987 € 7%;57; ;  Unnamed: 0: 1-Columna: Unnamed: 1 2-Datos: [NaN Men; 18-30 years24,737 €; 31-40 years30,216 €; 41-50 years42,890 €; 51-60 years51,676 €; >60 years 60,862 €; Name: Unnamed: 1, dtype: object];  Unnamed: 0: 1-Columna: Unnamed: 2 2-Datos: [NaNWomen; 18-30 years25,705 €; 31-40 years34,177 €; 41-50 years38,655 €; 51-60 years42,276 €; >60 years 33,752 €; Name: Unnamed: 2, dtype: object];  Unnamed: 0: 1-Columna: Unnamed: 3 2-Datos: [NaN Men; 18-30 years22,813 €; 31-40 years29,893 €; 41-50 years44,772 €; 51-60 years48,836 €; >60 years 51,672 €; Name: Unnamed: 3, dtype: object];  Unnamed: 0: 1-Columna: Unnamed: 4 2-Datos: [NaNWomen; 18-30 years28,091 €; 31-40 years34,909 €; 41-50 years41,400 €; 51-60 years40,914 €; >60 years 36,987 €; Name: Unnamed: 4, dtype: object];  Unnamed: 0: 1-Columna: Unnamed: 5 2-Datos: [NaNTotal variation; 18-30 years-1%; 31-40 years-1%; 41-50 years-5%; 51-60 years 5%; >60 years7%; Name: Unnamed: 5, dtype: object]; ; ;', lookup_str='', metadata={'source': 'lista_test.csv', 'row': 55}, lookup_index=0),\n",
       " Document(page_content='REPORT;20;20: AVERAGE REMUNERATION*  ;BY PROFESSIONAL GROUP** / GENDER;2020 2019;Men Women Men WomenTotal  ;variation;1 16,447 € 18,304 € 16,000 € 17,262 € 4%;2 17,467 € 18,235 € 17,117 € 18,095 € 1%;3 19,408 € 20,901 € 19,137 € 21,510 € -1%;4 26,734 € 26,299 € 26,350 € 25,951 € 1%;5 36,683 € 34,342 € 36,492 € 33,925 € 1%;6 43,441 € 36,584 € 43,960 € 34,910 € 1%;7 57,045 € 53,880 € 53,905 € 50,705 € 6%;8 113,338 € 105,013 € 104,044 € 102,851 € 6%;0 223,139 € 135,803 € 226,024 € 132,203 € 0%;Subsidiaries 81,134 € 58,366 € 71,545 € 66,091 € 1%;;* Scholarship remuneration is not included, since scholarship-holders do not have a Professional Group.;** Professional Group in accordance with the XIX Collective Agreement of the Chemical Industry.;Furthermore, ROVI has a Policy for the Reimbursement of Expenses and Payment of Per ;Diem Allowances which stipulates a series of items, in order to prevent items related to ;the employees’ work from representing an extra expense for them. The reimbursement of ;expenses in preceded by the pertinent expense note, which must be accompanied by the ;documentary support of the expenses (invoices, etc.). To prevent fraud, employees must ;settle the expenses incurred in providing their services preferably with the corporate credit ;card and must minimise cash payments.;As an additional measure in 2020, due to the special situation that existed throughout the ;year, the company wished to acknowledge the commitment and responsibility shown by ;those of its employees who, every day, were physically present at work at the manufacturing ;plants. To this end, it approved a bonus of 20% of the salary corresponding to the duration of ;the State of Alarm decreed by the Spanish government for these employees. Likewise in order ;to work with the greatest safety and maintain the continuity of the production activities, ROVI ;recommended avoiding the use of public transport for travelling to the plants and assumed ;the cost of private transport and parking spaces for those employees who so required.;AVERAGE REMUNERATION OF MANAGEMENT;At December 31, 2020, the Management Committee had 12 members, three of whom formed ;part of the Board of Directors. Their average remuneration, including fixed and variable ;remuneration and remuneration in kind, was 264,615 euros for men and 153,713 euros for ;women. The difference is because, in the case of men, three of them are also executive ;directors and their salaries reflect the additional responsibilities they hold.;58; ;  Unnamed: 0: 1-Columna: Unnamed: 1 2-Datos: [NaNNaN; NaNMen; 116,447 €; 217,467 €; 319,408 €; 426,734 €; 536,683 €; 643,441 €; 757,045 €; 8113,338 €; 0223,139 €; Subsidiaries 81,134 €; Name: Unnamed: 1, dtype: object];  Unnamed: 0: 1-Columna: Unnamed: 2 2-Datos: [NaNNaN; NaN Women; 118,304 €; 218,235 €; 320,901 €; 426,299 €; 534,342 €; 636,584 €; 753,880 €; 8105,013 €; 0135,803 €; Subsidiaries 58,366 €; Name: Unnamed: 2, dtype: object];  Unnamed: 0: 1-Columna: Unnamed: 3 2-Datos: [NaNNaN; NaNMen; 116,000 €; 217,117 €; 319,137 €; 426,350 €; 536,492 €; 643,960 €; 753,905 €; 8104,044 €; 0226,024 €; Subsidiaries 71,545 €; Name: Unnamed: 3, dtype: object];  Unnamed: 0: 1-Columna: Unnamed: 4 2-Datos: [NaNNaN; NaN Women; 117,262 €; 218,095 €; 321,510 €; 425,951 €; 533,925 €; 634,910 €; 750,705 €; 8102,851 €; 0132,203 €; Subsidiaries 66,091 €; Name: Unnamed: 4, dtype: object];  Unnamed: 0: 1-Columna: Unnamed: 5 2-Datos: [NaN Total; NaN variation; 1 4%; 2 1%; 3 -1%; 4 1%; 5 1%; 6 1%; 7 6%; 8 6%; 0 0%; Subsidiaries1%; Name: Unnamed: 5, dtype: object];', lookup_str='', metadata={'source': 'lista_test.csv', 'row': 56}, lookup_index=0),\n",
       " Document(page_content='REPORT;20;20: AVERAGE REMUNERATION OF  ;MANAGEMENT COMMITTEE / GENDER ;2020 2019;Men Women AVERAGE Men Women AVERAGETotal  ;variation;Fixed remuneration 188,677 € 116,229 € 152,453 € 179,399 € 113,333 € 146,366 € 4%;Variable remuneration 63,667 € 28,333 € 46,000 € 61,444 € 28,333 € 44,889 € 2%;Remuneration in kind 12,272 € 9,151 € 10,712 € 10,944 € 6,977 € 8,961 € 20%;AVERAGE TOTAL 264,615 € 153,713 € 209,164 € 251,787 € 148,643 € 200,215 € 4%;WAGE GAP;To ensure application of the principle of wage equality, the company regularly monitors ;the gender wage gap by evaluating the indicators that refer to wage differences by job and ;gender. The objective is to identify possible deviations, examine any differences that may exist ;and reduce them as far as possible.;To this end, in 2018, the audit firm PricewaterhouseCoopers Auditores, S.L. was engaged ;to perform a limited assurance review of the wage gap indicators by professional group in ;group companies. The indicators were drawn up on the basis of the methodology published ;in January 2015 by the Ministry of the Presidency, Parliamentary Relations and Equality in ;relation to calculating the gender pay gap.;The indicators of this study are those that ROVI uses each year to update the figures and, ;in 2020, as in the preceding years in which this criterion had been applied, the absence of ;gender-based wage discrimination continued, with no differences in remuneration that ;were not based on personal factors (qualifications, work experience, length of service, etc.) or ;position (duties, degree of responsibility, working hours, etc.).;Taking a further step forward in continuing with the commitment to equality and the ;regular monitoring of the wage gap, in 2019, ROVI began to prepare a new Equality Plan, ;based on the requirements of Royal Decree Law 6/2019 on Urgent Measures for Equal ;Treatment and Opportunities for Men and Women in Employment and Occupation. The ;Plan included a regular review of wages by gender in order to detect any possible pay ;gap and, if required, take the measures necessary to correct it. The consultancy firm PwC ;(PricewaterhouseCoopers) and an Equality Commission including the Company’s principal ;interlocutors took part in preparing said Equality Plan.;However, the surprising publication of Royal Decrees 901/2020 and 902/2020 of 13 October, ;which regulated equality plans and the registration thereof and amended Royal Decree ;713/2010, and Royal Decrees 901/2020 and 902/2020 of 13 October on equal remuneration ;for men and women led to substantial changes in the methodology for preparing the plan ;and in the Company’s obligations. Therefore, the Equality Plan has been updated within ;the framework of the new legislation and is expected to be published during the first few ;months of 2021.;59; ;  Unnamed: 0: 1-Columna: Unnamed: 1 2-Datos: [NaNNaN; NaNMen; Fixed remuneration188,677 €; Variable remuneration 63,667 €; Remuneration in kind 12,272 €; AVERAGE TOTAL264,615 €; Name: Unnamed: 1, dtype: object];  Unnamed: 0: 1-Columna: 2020 2-Datos: [NaNNaN; NaN Women; Fixed remuneration116,229 €; Variable remuneration 28,333 €; Remuneration in kind9,151 €; AVERAGE TOTAL153,713 €; Name: 2020, dtype: object];  Unnamed: 0: 1-Columna: Unnamed: 2 2-Datos: [NaNNaN; NaNAVERAGE; Fixed remuneration152,453 €; Variable remuneration 46,000 €; Remuneration in kind 10,712 €; AVERAGE TOTAL209,164 €; Name: Unnamed: 2, dtype: object];  Unnamed: 0: 1-Columna: Unnamed: 3 2-Datos: [NaNNaN; NaNMen; Fixed remuneration179,399 €; Variable remuneration 61,444 €; Remuneration in kind 10,944 €; AVERAGE TOTAL251,787 €; Name: Unnamed: 3, dtype: object];  Unnamed: 0: 1-Columna: 2019 2-Datos: [NaNNaN; NaN Women; Fixed remuneration113,333 €; Variable remuneration 28,333 €; Remuneration in kind6,977 €; AVERAGE TOTAL148,643 €; Name: 2019, dtype: object];  Unnamed: 0: 1-Columna: Unnamed: 4 2-Datos: [NaNNaN; NaNAVERAGE; Fixed remuneration146,366 €; Variable remuneration 44,889 €; Remuneration in kind8,961 €; AVERAGE TOTAL200,215 €; Name: Unnamed: 4, dtype: object];  Unnamed: 0: 1-Columna: Unnamed: 5 2-Datos: [NaN Total; NaN variation; Fixed remuneration 4%; Variable remuneration2%; Remuneration in kind20%; AVERAGE TOTAL4%; Name: Unnamed: 5, dtype: object];', lookup_str='', metadata={'source': 'lista_test.csv', 'row': 57}, lookup_index=0),\n",
       " Document(page_content='REPORT;20;20: 4.4.  ATTRACTING TALENT AND TRAINING;Attracting the best professionals and helping them to reach their greatest potential is ;the basis of ROVI’s talent management and is the pillar that supports business growth. ;The design and management of policies for training, attracting and retaining the best ;professionals are the responsibility of the Human Resources Department, which, at the same ;time, applies the Recruitment Selection Policy based on sound principles such as:;• Equal opportunities.;• Objectivity and impartiality. Selection processes are based on merits and capabilities.;• Confidentiality of the process.;• Favouring the recruitment of young people, people from disadvantaged groups and ;differently-abled people.;• Fostering and reinforcing internal candidatures.;Training, the basis for ROVI’s business development;ROVI prioritises the training of its professionals in the conviction that it is a long-term ;investment that allows the company to attain its goals by having a well-prepared human ;team capable of developing its potential to the highest level.;The company works to make the training necessary to meet the needs of their jobs, both ;present and future, available to employees, placing special attention of the needs derived ;from the use of new technologies, equipment, instruments, etc. Furthermore, focus is placed ;on preparing employees who take on greater responsibilities or join new projects, so that they ;can tackle them with the highest guarantees of success.;The Human Resources Department, in collaboration with group management and middle ;management, draws up the annual training plans, detecting the training needs in each area ;and aligning them with the strategic and business objectives. Furthermore, to favour the ;career plans of specific employees, ROVI has individual development plans.;TRAINING INVESTMENT ;PER EMPLOYEE;AVERAGE HOURS ;OF TRAINING2020258,3 €;202016,6;404-1;60', lookup_str='', metadata={'source': 'lista_test.csv', 'row': 58}, lookup_index=0),\n",
       " Document(page_content='REPORT;20;20: TOTAL HOURS OF TRAINING PER  ;PROFESSIONAL GROUP* ;1 2 3 4 5 6 7 8 0TOTAL ;2020TOTAL ;2019Total ;var.;HOURS 0.0 1,182.0  4,339.0 5,844.0  10,611.0 4,590.0 4,098.0 56.4 103.6 30,824.0  28,163.9 9%;;* Professional group in accordance with the XIX Collective Agreement of the Chemical Industry.;ROVI works with a training model that encourages self-responsibility and commitment. ;Thus, 10% of training and learning takes place through training actions face to face or in ;virtual format or e-learning, and 20% through feed-back, observation or with the support of ;mentors, coaches, professional associations, spaces for reflection, conversations with other ;people, leaders, etc. Lastly, 70% of development and learning materialises through practical ;job experience, applying new knowledge to real situations, solving problems, taking part in ;projects and new challenges, rotating through different departments, etc., always taking the ;professional profile and the needs of each area into account. ;;BASIC PRINCIPLES OF ROVI GROUP’S  ;TRAINING PROGRAMMES/ACTIONS;;Training programmes will contain aspects related to respect for human rights and will foster ;an ethical culture. ;No discrimination on the grounds of gender, age or origin. Professionals with equal positions ;and professional development have the same training opportunities. ;Training actions will respect the current regulatory framework and the demands of the work ;and business environment. ROVI will provide training in new legislation, so that workers know ;and comply with current laws. ;The use of different training tools is favoured (face-to-face, on-line, platforms, etc.). ;Sharing the knowledge that exists in the Company, continuing learning and cultural ;exchange will be encouraged.404-1;61', lookup_str='', metadata={'source': 'lista_test.csv', 'row': 59}, lookup_index=0),\n",
       " Document(page_content='REPORT;20;20: SCHOLARSHIPS AND TRAINING PROGRAMMES AND  ;CO-OPERATION WITH EDUCATIONAL INSTITUTIONS;In 2020, ROVI continued to co-operate with universities and professional training centres in ;order to include young talent in its teams and, at the same time, provide students with access ;to the workplace through the opportunity to improve their skills, knowledge and experience.;The company holds co-operation agreements with 85 educational centres, including ;universities, secondary schools, professional and official training centres and business schools ;all over Spain.;Approximately 85% of the people who obtain a scholarship with ROVI finally join the ;workforce, since the group invests in this kind of training as an important source of talent and ;a reserve of professionals ready for the future. This is why 90% of the scholarships with ROVI ;are remunerated, full time and have a duration of six months, which may be extended for a ;further six months, in order to serve as a bridge to enable students to begin their working ;lives in a professional work environment.;In 2020, there were a total of 81 training contracts at ROVI and an average of 57 scholarships. ;89% of the scholarship-holders have obtained a contract in the ROVI group.;4.5.  TRADE UNION INFORMATION;ROVI has a transparent relations with the workers’ representatives, with respect, permanent ;dialogue and trust, in which the strictest compliance with the law is always observed. They ;are based on an environment that allows a constructive relationship of trust and materialise ;in smooth communication using all the means available, with a calendar of both regular and ;extraordinary meetings, at the request of either the company or the workers’ representatives. ;This allows the status of agreements to be monitored and any incidents that may arise in the ;day-to-day to be solved swiftly.;All ROVI employees in Spain work under the employment conditions regulated in the ;Collective Agreement of the Chemical Industry, signed in 2018. Employees of the subsidiaries ;in the rest of Europe are also governed by the pertinent collective labour agreement, except ;in cases where local legislation states they are subject to general labour legislation, given ;the low number of employees at the subsidiary. 100% of the employees are covered by this ;collective agreement or those applicable in each specific area of work (offices, sales, etc.). ;The company not only observes the law, but also implements some enhancements, such as ;payment of a supplement to Social Security benefits in the event of sick leave. ;102-41;ROVI’s works councils are highly representative and participate in the Safety and ;Occupational Health Committees, thus furnishing employees with a voice at the highest ;level in these respects. These Committees debate and propose the actions the company ;should take in relation to these matters, as well as discussing any incidents that take place ;and proposals for corrective measures in matters like the evaluation and assessment of ;occupational hazards, the provision of individual protection material, and information and ;training on occupational hazards, among other subjects.;62', lookup_str='', metadata={'source': 'lista_test.csv', 'row': 60}, lookup_index=0),\n",
       " Document(page_content='REPORT;20;20: As usual, in 2019, the labour relations between ROVI and its workforce ran normally, ;with no conflictive incidents. Numerous meetings took place for either negotiations or ;information and consultation on different topics, such as the preventive measures applied ;by ROVI against the pandemic, the prolongation of working hours in critical areas of the ;manufacturing process, also due to the pandemic, the application of allergen tests to ;employees in the industrial area, the work calendar or the application of measures aimed to ;improve the shift cycles.;COMMUNICATION CHANNELS BETWEEN EMPLOYEES AND THE COMPANY;ROVI strives for its employees to be kept informed of all aspects that are important to the ;company. To do this, it uses different channels that it has implemented and made available ;to all the workforce to communicate matters of general interest, company milestones, ;agreements or organisational changes, using the best technological advances to reach both ;the employees who have access to computer media in the course of their work and those ;who do not use them.;This is why media such as the internal television channel, the notice boards and e-mail are ;used but, since it was implemented in 2019, use of the mobile app. RoviRocks has been ;promoted and, in 2020, with the whole situation provoked by COVID, was found to be ;one of the most efficient channels. This application, for internal use by ROVI employees, ;allows workers to keep updated on the new developments in the company, in addition to ;containing very useful information, such as a directory of employees with their telephone ;numbers, the confidential consultation channel Ethics Channel, or the Ideas ROVI section, ;from which employees may submit proposals to improve the company. Additionally, the ;application gives access to an area of exclusive discounts and groups for ROVI employees ;and also includes a virtual library section (called Roviteca), where they can access a catalogue ;of more than 2,000 titles of all kinds: novels, educational publications, magazines, children’s ;books, classics, etc.;4.6.   HEALTH AND SAFETY ;If there has ever been a year in which the Health and Safety of the workforce was one of ;ROVI’s greatest concerns, it was 2020. The situation provoked by COVID-19 showed the ;company’s capacity to respond to the need to execute the contingency measures necessary ;to ensure the health and safety of its employees and external collaborators, as well as ;ensuring the continuity of the business and fulfilling its responsibility to supply medicines to ;the hospitals of Spain and Europe at a time when they were critical.;The company adopted a number of initiatives in line with the recommendations made by ;the authorities. Among them, we highlight the fact that ROVI reduced the processes to be ;performed in person at its facilities to a minimum, particularly in the most critical months ;of the pandemic in the second quarter of the year. Thus, a significant part of the workforce ;started to work remotely but, in the cases where working from home was not possible, ;particularly at the manufacturing plants, ROVI kept its activities at a relatively normal level, ;with the relevant safety measures, in order to ensure that its medicines continued to be ;available to patients during the health crisis.;403-1;63', lookup_str='', metadata={'source': 'lista_test.csv', 'row': 61}, lookup_index=0),\n",
       " Document(page_content='REPORT;20;20: Furthermore, during 2020, all the protocols necessary for early detection of cases in the ;company, as well as the evaluation of close contacts, were established, and multiple safety ;measures were introduced to prevent contagions in the work environment, such as checking ;temperatures at the accesses to all our plants, the obligatory use of masks, the determination ;of safety distances, revision of workstations, encouragement of teleworking, increase in ;disinfections, etc.;This reaction was in line with ROVI’s permanent dual commitment to reducing occupational ;hazards at its facilities to a minimum, at the same time as it promotes healthy conduct in the ;workplace.;The management of personnel-related health and safety risks is the duty of the Health ;and Environment Department, which holds exclusive responsibility for aspects related to ;environmental management. ROVI has an Integrated Environmental and Occupational ;Hazard Prevention Management Policy, applicable to the whole group, the objective of which ;to protect the life, physical integrity and health of all the workers, including both the group’s ;own workers and those of the companies who work with it. This Policy is based on a series of ;corporate procedures, as well as local procedures or instructions specific to each centre.;All ROVI’s industrial plants hold OSHAS 18001:2007 Occupational Health and Safety ;Management Certifications, published on ROVI’s website, and it is planned for all the systems ;to migrate to the standard ISO 45001:15, an international standard on occupational health and ;safety management systems;PRINCIPAL OCCUPATIONAL HAZARDS IDENTIFIED;The principal occupational hazards identified by ROVI, following the corporate procedure ;for identifying hazards, assessing risks and determining controls, are mainly those inherent ;to a production plant: contact with and exposure to chemical products, noise exposure, ;overexertion, etc.;These risks are managed through planning the preventive activity (existence of specific ;procedures compliance with which minimizes the probability that these risks will materialize) ;and training (there are occupational hazard training plans and refresher courses). ;Furthermore, the risks identified are managed in accordance with the specific procedures ;created to control and regularly monitor the actions taken, such as those concerning work ;permits, safety inspections and the identification and evaluation of legal requirements.;RESULTS IN 2020;The ROVI Group set a goal of an accident rate (No. of accidents / No. of workers * 100) of 1.3% ;with sick leave and 3% without sick leave. In addition, each plant, individually, defines specific ;prevention objectives. In 2020, examples of these were:;• Reduction in the number of incidents related to energy- and fluid-control in comparison ;with the previous two years.;• Elimination of the operation of manually loading solid chemical products into several ;production tanks.;• Continuation of the lockout/tagout assessments.;64', lookup_str='', metadata={'source': 'lista_test.csv', 'row': 62}, lookup_index=0),\n",
       " Document(page_content='REPORT;20;20: PROMOTION OF HEALTHY LIFESTYLE CONDUCT;Since 2015, ROVI has been actively committed to promoting a healthy lifestyle among its ;employees with initiatives such as encouraging healthy breakfasts, a selection of products for ;an appropriate healthy nutrition in its vending machines or the promotion of practising sports ;through agreements with sports centres close to the ROVI facilities with discounts for employees, ;and taking part in charity races, organised by ROVI’s Corporate Social Responsibility Area.;However, in 2020, all in-person activities organised by the company that implied a risk of ;contagion among the participants were postponed. Nevertheless, those held digitally were ;maintained, such as the campaign “Every Superhero has his protection equipment”, initiated in ;2019 to raise awareness regarding the responsible use of Personal Protection Equipment (PPE).;Something that, although it was already in place before 2020, was vital in the year, not only to ;maintain the company’s activity, but also to reduce the health risk to a minimum, was ROVI’s ;policy of avoiding unnecessary travel, allowing a reduction of both accidents on the way to work ;and, in 2020, the possibility of contagion. To this end, initiatives have been taken such as providing ;all the personnel who so require with laptops with the tools necessary, connected to the ROVI ;systems. The use of videoconferencing and online meetings is actively encouraged and became ;essential in 2020, as well as, especially for pregnant women, teleworking and access to parking ;spaces to facilitate their mobility.;ACCIDENT RATE ;Throughout its history, ROVI has managed occupational hazards actively, aware that this ;has a direct effect of the health and safety of the workforce. It helps to improve the accident ;and absence rates, in addition to being a key factor in productivity, the company’s financial ;performance and the attainment of its strategic objectives.;The exceptional situation in 2020 and the generalisation of teleworking among the workforce ;were key factors in the marked decrease in all accident rate indicators regarding both the ;number of accidents and the severity thereof.;FREQUENCY RATE FOR WORK-RELATED  ;ACCIDENTS (*) BY GENDER ;2020 2019 Total variation;Men 2.143 7.678 -72%;Women 6.769 11.540 -41%;TOTAL 4.574 9.652 -53%;;* Rate calculated as No. accidents / No. of hours worked * 1000000.;65; ;', lookup_str='', metadata={'source': 'lista_test.csv', 'row': 63}, lookup_index=0),\n",
       " Document(page_content='REPORT;20;20: WORK-RELATED ACCIDENT  ;SEVERITY RATE (*) BY GENDER ;2020 2019 Total variation;Men 0,039 0,604 -94%;Women 0,290 0,405 -28%;TOTAL 0,171 0,503 -66%;;* Rate calculated as No. of working days lost / No. of hours worked * 1000. ;WORK-RELATED ACCIDENT  ;INCIDENCE RATE (*) BY GENDER ;2020 2019 Total variation;Men 0,039 0,604 -94%;Women 0,290 0,405 -28%;TOTAL 0,171 0,503 -66%;;* Rate calculated as No. accidents / No. workers * 100. ;NO. OF WORK-RELATED  ;ACCIDENTS BY GENDER ;2020 2019 Total variation;Men 4 14 -71%;Women 14 22 -36%;TOTAL 18 36 -50%;;Note: accidents on the way to work and data of ROVI group employees are included. Information on personnel hired ;through temporary employment companies is excluded. In addition, a working day of 8 hours has been used to ;calculate the number of working days lost.;66; ;', lookup_str='', metadata={'source': 'lista_test.csv', 'row': 64}, lookup_index=0),\n",
       " Document(page_content='REPORT;20;20: ABSENCE RATE;ROVI prepares and monitors, on a monthly basis, a series of indicators to regularly monitor ;absences, distinguishing between different types depending on the reasons for them. The ;indicators are analysed to determine possible areas in which the Company might act in order ;to reduce absences and they are compared with the preceding annual period to observe how ;they evolve over time.;In spite of the situation in 2020, the indicators show that the level of absences in ROVI in ;terms of work-related accidents, occupational diseases and common contingencies was ;below those of the sector in which it operates in the year.;From the figures shown below on work-related accidents, occupational diseases and ;common contingencies, it may be seen that the number of days of absence was 16,656, ;equivalent to 133,248 working hours lost and an absence rate of 3.34%. There were no ;occupational diseases among ROVI employees in 2020. ;ABSENCE RATE ;;2020 2019;Days’ sick ;leaveDays ;worked.Absence ;rateSector ;absence ;rateDays’ sick ;leaveDays ;workedAbsence ;rateSector ;absence ;rate;TOTALES 16,656 499,355 3.34% 4.39% 12,000 476,347 2.52% 3.43%;Days sick leave: days sick leave for AW+OD+CC+COVID-19 recorded.;Notional days worked: days worked by each worker in companies with professional and common cover with a ;mutual society that collaborates with the Social Security. In the file of movements sent by the General Treasury of the ;Social Security, the days worked in the company by each worker are calculated and the days of all the workers are ;added together.;Total absolute absence rate: percentage ratio between the days of sick leave (AW+OD+CC+COVID-19) and the ;notional days worked by each worker in companies with professional and common cover with a mutual society that ;collaborates with the Social Security (Days sick leave AW+OD+CC+COVID-19 / notional days) * 100.;Sector: Data relating to the group protected by the mutual society that collaborates with the Social Security in the ;sector and/or region selected.;Source: Mutua de Accidentes de Trabajo FREMAP. Informe Anual de Absentismo Global GRUPO ROVI.;However, the impact of COVID-19 in 2020 was a differentiating factor and it has been included ;in the rates of ROVI to monitor its effect on the activity and the company’s accident and ;absence rate indicators. Attention should be drawn to the fact that the data on sick leave due ;to coronavirus, which are better than the sector average, were possible due to the various ;prevention measures that ROVI implemented at the start of the crisis, described at the ;beginning of this report.;67; ;', lookup_str='', metadata={'source': 'lista_test.csv', 'row': 65}, lookup_index=0),\n",
       " Document(page_content='REPORT;20;20: ECONOMIC GROUP: 28/12/51 – ROVI GROUP    ;PERIOD: JANUARY TO DECEMBER    ;COMP. SECTOR   CNAE21 – MANUFACTURE OF PHARMACEUTICAL PRODUCTS;;SUMMARY OF SICK LEAVE  ;RATES IN THE PERIOD ;;2020 2019;ECONOMIC  ;GROUP COMP. SECTORECONOMIC  ;GROUP COMP. SECTOR;Total SL rate 3.34% 4.39% 2.52% 3.43%;SL rate: AW & OD 0.14% 0.16% 0.26% 0.20%;SL rate: CC 2.42% 3.39% 2.26% 3.23%;SL rate: COVID-19 0.77% 0.83% 0.00% 0.00%;SL: Sick leave;AW: Accident at work;OD: Occupational diseases;CC: Common contingencies;Source: Mutua de Accidentes de Trabajo FREMAP. Informe Anual de Absentismo Global GRUPO ROVI.;68; ;  Unnamed: 0: 1-Columna: Unnamed: 1 2-Datos: [NaN ECONOMIC; NaN GROUP; Total SL rate3.34%; SL rate: AW & OD0.14%; SL rate: CC 2.42%; SL rate: COVID-190.77%; Name: Unnamed: 1, dtype: object];  Unnamed: 0: 1-Columna: 2020 2-Datos: [NaNNaN; NaN COMP. SECTOR; Total SL rate4.39%; SL rate: AW & OD0.16%; SL rate: CC 3.39%; SL rate: COVID-190.83%; Name: 2020, dtype: object];  Unnamed: 0: 1-Columna: Unnamed: 2 2-Datos: [NaN ECONOMIC; NaN GROUP; Total SL rate2.52%; SL rate: AW & OD0.26%; SL rate: CC 2.26%; SL rate: COVID-190.00%; Name: Unnamed: 2, dtype: object];  Unnamed: 0: 1-Columna: 2019 2-Datos: [NaNNaN; NaN COMP. SECTOR; Total SL rate3.43%; SL rate: AW & OD0.20%; SL rate: CC 3.23%; SL rate: COVID-190.00%; Name: 2019, dtype: object];', lookup_str='', metadata={'source': 'lista_test.csv', 'row': 66}, lookup_index=0),\n",
       " Document(page_content='REPORT;20;20: 5. SUPPLIERS;69', lookup_str='', metadata={'source': 'lista_test.csv', 'row': 67}, lookup_index=0),\n",
       " Document(page_content='REPORT;20;20: 5.1. MANAGEMENT PRINCIPLES ;PAs stated in its Environmental and Social Sustainability Policy, the principle that guides ;ROVI’s actions in relation to its suppliers is to be a strategic ally for mutual benefit. Suppliers ;are a strategic stakeholder group for the company’s activity and, therefore, additionally, a ;series of specific action principles are in place, aligned with the company’s principles and ;values and aimed to reinforce the sustainability and competitive edge of the value chain.;The company maintains a constant focus on equal opportunities, occupational safety or care ;of the environment and invites all its suppliers to guarantee these factors and to declare their ;commitment to basic principles of ethics and professional conduct. To this end, at the same ;time as ROVI develops them internally, it tries to involve suppliers and subcontractors in the ;adoption of the best corporate social responsibility practices to regulate their activities, in ;accordance with the standards included in the certifications SA-8000, SGE-21 or similar.;In order to ensure and promote all these principles, the company has two mechanisms that ;encourage the adoption of good corporate responsibility practices in its supply chain:;• An obligatory document, “CSR Commitment” is periodically sent to all the group’s ;suppliers and subcontractors, requesting certifications such as the SA-8000 and the ;adoption of good practices. ;• On-site audits, which check that suppliers operate in accordance with national and local ;regulations, there are no important breaches in respect of workplace safety and there are ;no practices that violate the workers’ rights. Among other aspects, the auditors ensure ;that a safe working environment is provided, environmental legislation is respected and ;employees are not subject to abuse or discrimination.;In this respect, in 2020, ROVI adhered to the EcoVadis platform, a tool that allows assessments ;of the corporate social responsibility of Group suppliers to be conducted and areas for ;improvement and corrective actions to be identified. At the time of preparation of this report, ;ROVI and EcoVadis are compiling the first assessment questionnaires and inviting other ;suppliers who are not assessed by this platform to join.;Additionally, an aspect to highlight in supplier evaluations is that, in 2020, the on-site ;audits were replaced by remote (on-line) audits to check that suppliers were operating in ;accordance with the national and local regulations that affect ROVI products.;CSR IN SUPPLIER SELECTION AND RELATIONS;The group has a supplier selection and monitoring policy that includes a list of the criteria ;used to select each type of supplier. The procedure provides for an initial evaluation and ;another periodic evaluation. It is used to draw up a list of approved suppliers, kept by the ;Quality Department.;Moreover, in order to establish a framework for relations with suppliers and creditors that is ;shared by the whole organisation, the Supplier Engagement and Payment Policy requires ;that suppliers with an annual volume of over 100,000 euros must always have a duly signed ;contract, regulates how invoices should be sent and recorded, and sets out the means of ;payment accepted.102-9, 102-10;70', lookup_str='', metadata={'source': 'lista_test.csv', 'row': 68}, lookup_index=0),\n",
       " Document(page_content='REPORT;20;20: Moreover, the Code of Ethics for Suppliers is the document that establishes that all ;suppliers must respect the protection of fundamental human and labour rights recognised ;internationally. For ROVI it is indispensable to ensure a supply chain that respect the ;corporate social responsibility principles assumed by the group. Thus, one of its main ;commitments is to promote CSR-related values among suppliers and subcontractors of ;goods and services and require the following of them, among other items:;• Abolition of forced labour.;• Abolition of child labour.;• Respect for the right of association and collective bargaining.;• Equal opportunities and non-discrimination.;• The supplier must provide a fair work environment, free of any kind of violence.;• Respect for current legislation on working hours and remuneration.;Over 94% of the ROVI Group’s suppliers operate in countries belonging to the European ;Union and those that carry on their activity outside the European Union enjoy recognised ;prestige in the international community, meaning that supplier non-compliance in respect of ;human rights is considered limited and controlled.;Lastly, regarding the environment, ROVI undertakes to make a joint effort with its suppliers ;and contractors to minimise the impact of their activities on the environment and the risks ;derived for both their own safety and health and those of their workers.;COMMUNICATION WITH SUPPLIERS;In 2020, ROVI continued with its constant effort to maintain adequate communication ;with both new and existing suppliers, in line with its Communication and Transparency ;Policy. In this respect, over the last year, they were informed of the procedures for continual ;improvement implemented to optimise and ensure the process of accounting for invoices, ;placing special emphasis on the management of digital and electronic invoices, in order to ;optimise and accelerate both accounting for and paying the invoices.;In line with the new processes implemented, in 2020, a communication was sent informing ;and/or reminding suppliers of the procedure for sending invoices, giving details of the ;requirements, the incident management process and the procedures aimed to optimise and ;accelerate the process for accounting for the invoices and the process for paying them. This ;communication was sent to all new suppliers and to the existing suppliers where deemed ;appropriate.;In line with Rovi’s Communication and Transparency Policy, which requires suppliers to follow ;the process implemented for digital or electronic invoice management, it was found that, ;in 2020, Rovi’s suppliers continued to use this process, sending their invoices electronically ;to be recorded in the accounts and paid. In comparison with the preceding year, it can be ;confirmed that, although it is only a slight increase, the percentage of supplier adherence to ;the process rose by almost 2% and, therefore, it may be seen to have been well received and ;followed. As an illustration of this, the total volume of electronic invoices managed per year is ;around 34,100.;71', lookup_str='', metadata={'source': 'lista_test.csv', 'row': 69}, lookup_index=0),\n",
       " Document(page_content='REPORT;20;20: In addition, due to the continual revision and improvement of the company’s tax policies ;regarding tax evasion and the prevention of money laundering, the internal procedure ;concerning double taxation continues to be updated and distributed. In 2020, internal ;training was given to company employees who deal with local and foreign suppliers, in order ;to inform them on the importance of a current residency certificate in relation to the Double ;Taxation Treaty and avoiding any tax risks.;FIGHT AGAINST CORRUPTION AND BRIBERY;ROVI has a zero tolerance policy, as reflected in its Code of Ethics, towards any activity or ;practice involving bribery or corruption as a way to obtain a decision favourable to the ;company’s interests and, therefore, practices intended to do business using undue means ;will in no case be tolerated. This is complemented by the company’s Anti-corruption Policy, ;which regulates both giving and accepting gifts and must be known and observed by all the ;professionals who work for the ROVI group, as well as the suppliers with whom the group has ;relations. In no case may the acceptance or giving of gifts be used as a subterfuge for bribery ;or the concealment of an unlawful action.;No ROVI employee may offer a third party any type of benefit that is able or intended ;to unlawfully influence the third party’s capacity to adopt objective and lawful business ;decisions. Likewise, ROVI employees are expressly prohibited from accepting any kind ;of corruption or bribery offered by a third party. All interaction with health professionals, ;health organisations, health systems, pharmacies, stores, purchasers, distributors, suppliers, ;commercial partners, public employees or any other third parties in general must be ;governed by lawfulness and ethics and in line with ROVI’s values, company policies, the ;applicable laws and industry standards. ;5.2.  BALANCE OF THE YEAR;In 2020, ROVI worked with approximately 3,030 suppliers from 33 countries. The weight of ;Spanish suppliers for the company should be highlighted, since they account for 80% of the ;total, while more than 94% operate in countries belonging to the European Union.;Over recent years, the opening of new subsidiaries in the main European markets has ;stimulated the engagement of local suppliers to provide services. ROVI now has, therefore, a ;large number of service providers in Germany, Portugal, France, United Kingdom, Italy and ;Poland.;The average payment period to suppliers in 2020 was 52.52 days, in accordance with the ;maximum legal periods established in Law 17/2010, amended by Law 11/2013.;72', lookup_str='', metadata={'source': 'lista_test.csv', 'row': 70}, lookup_index=0),\n",
       " Document(page_content='REPORT;20;20: 6. SOCIETY;73', lookup_str='', metadata={'source': 'lista_test.csv', 'row': 71}, lookup_index=0),\n",
       " Document(page_content='REPORT;20;20: 6.1.  MANAGEMENT PRINCIPLES;ROVI is aware of the need for it, as a company, to develop in order to support the economic ;and social development of its environment. At the same time, it strives for the industrial ;activity of its plants, its role in stimulating employment and the intrinsic effects of its products ;to have a positive impact on people’s lives and society as a whole. ;The group’s CSR Policy states that actively contributing to social progress and social and ;economic development in the areas where it is present is one of the action principles in ;relation to society.;By assessing and managing the non-financial, ethical, reputational, social and environmental ;risks and commitment to those social initiatives or activities that benefit society, the group ;has defined the priority spheres of social action on which to focus its activity in order to ;actively contribute to social progress:;• Improvement in the quality of life of people with disabilities and the social integration of ;these people;• Stimulation of research;• Commitment to training;• Promotion of health;• Corporate volunteering;• Protection of the natural environment ;6.2.  BALANCE OF THE YEAR ;;As a sample of ROVI’s commitment to transparency, the Group voluntarily submitted itself to ;a rating by Sustainalytics, a leading global company in rating corporate social responsibility.;On the basis of analysing criteria such as corporate governance, business ethics, product ;handling and access to services, bribery and corruption, and human capital, a classification ;of companies is established based on their ESG (Environment, Social and Governance) ;rating. ROVI obtained a rating of 21.8 points, which places the Company in a medium-low risk ;position in respect of suffering material financial impacts. This rating is the second highest ;from among the 360 international pharmaceutical companies assessed by Sustainalytics and ;the 30th of the 750 sector companies that took part (biotechnology companies, healthcare ;equipment companies and pharmaceutical laboratories). ;74', lookup_str='', metadata={'source': 'lista_test.csv', 'row': 72}, lookup_index=0),\n",
       " Document(page_content='REPORT;20;20: RESPONSE TO THE SOCIAL  ;SITUATION PROVOKED BY COVID-19;As of March 2020, the COVID-19 pandemic unexpectedly changed ROVI’s planning of its ;social and charity activity but, far from detaining it, 2020 was a year in which it became even ;more necessary.;During the first wave of the pandemic in Spain, in March 2020, at the time when the ;health services were in a state of collapse and were having huge difficulties in accessing ;basic protection material, ROVI made a donation of a million masks and more than 1,000 ;protection suits to the National Health Management Institute (INGESA), which reports to the ;Ministry of Health.;Additionally, for the rest of the year, ROVI continued to make donations by contributing ;healthcare equipment considered especially useful for healthcare workers during the ;pandemic. Specifically, the following were donated:;• 241,000 surgical masks to 154 hospitals.;• 48 portable ultrasound machines to 41 hospitals.;• 2,345 stethoscopes to 90 hospitals. ;• 2,710 pulse oximeters to 106 hospitals.;Furthermore, as described in the section “Occupational health and safety”, when the ;pandemic began, the measures necessary to avoid the risk of contagion among employees ;were implemented, with different supporting initiates to contribute to the de-escalation in ;the company in all the waves of the pandemic.;COMMITMENT TO TRAINING;ROVI focuses its training commitment on students  with a view to their entering the job ;market with guarantees. To this end, it co-operates with different higher-educational bodies ;and holds 85 agreements with educational centres, including universities, secondary schools, ;professional and official training centres and business schools all over Spain.;At the same time, it supports the continuous development of its own professional, favouring ;and fostering their continuing education to learn new skills or assume responsibilities, ;making them grow in their professional career within the company itself.;All the details of both internal training and the company’s work with scholarship-holders and ;its co-operation with educational centres may be consulted in the Human Resources section ;of this report.;75', lookup_str='', metadata={'source': 'lista_test.csv', 'row': 73}, lookup_index=0),\n",
       " Document(page_content='REPORT;20;20: COMMITMENT TO RESEARCH  ;AND KNOWLEDGE-SHARING;In spite of the difficult economic circumstances in 2020, the situation caused by the pandemic ;only served to reinforce ROVI’s conviction and commitment in relation to the responsibility of ;society as a whole to prioritise the research and development necessary to provide a response to ;the great challenges in the health area. For this reason, over recent years, it has been carrying on ;intensive research activity with the goal of fomenting the prevention and knowledge of certain ;diseases, in order to improve patients’ health and quality of life.;COVID-19 has shown the importance of this effort, since it has been necessary to get down to ;work and, against the clock, generate information and scientific evidence regarding the diseases, ;its effects and possible therapeutic approaches. In this respect, ROVI reached a collaboration ;agreement with the HM Hospitales group to fund a clinical trial to analyse the efficacy and safety ;of bemiparin in patients who are in hospital with pneumonia due to COVID-19 and D-dimer ;higher than 500 ng/m. Attention should also be drawn to another collaboration agreement, with ;the University of Navarra, to carry out a randomised, open-label clinical trial to evaluate the effect ;of prophylactic or therapeutic doses of bemiparin in patients with COVID-19 (BEMICOP).;Something that has also been found to be essential is an idea that ROVI had been defending ;for some time: support to collaborative research. The formation of research consortiums is a ;need and requirement of the “knowledge society” and, therefore, for many years, ROVI has been ;striving to maintain collaboration agreements with other leading benchmark companies in the ;sector, biotechnology companies, spin-offs, universities and public research centre, thus showing ;its commitment to the creation of a dynamic ecosystem of knowledge excellence at national, ;inter-institutional and multidisciplinary levels.;Sharing knowledge is another important pillar of research and ROVI considers it essential to ;share scientific advances with the rest of society. Due to the pandemic, numerous events, ;conferences and congresses were cancelled, limiting the group’s activity in this respect, although ;it has continued to sponsor some initiatives of this nature. ;ECONOMIC VALUE GENERATED AND DISTRIBUTED ;(million euros) 2020 2019 2018 2017 2016;Economic value generated 421.1 382.5 304.8 277.4 270.8;Economic value distributed  ;Shareholders 21.4 9.8 4.5 6.0 9.1;Suppliers 228.6 219.2 172.7 154.7 153.5;Society 11.5 2.6 -1.2 0.3 1.8;R&D 23.8 29.3 32.4 28.3 17.5;Employees 74.4 72.5 70.2 64.0 60.5;Providers of capital 2.1 0.8 0.8 0.9 0.5;Amortisation & depreciation 19.6 18.6 12.0 11.5 11   201-1;76; ;  Unnamed: 0: A-Contexto: (million euros) 2020 2019 2018 2017 B-Contenido:1-Columna: 2016.0 2-Datos: [Economic value generated 421.1 382.5 304.8 277.4270.8; Shareholders 21.4 9.8 4.5 6.0 9.1; Suppliers 228.6 219.2 172.7 154.7153.5; Society 11.5 2.6 -1.2 0.3 1.8; R&D 23.8 29.3 32.4 28.3 17.5; Employees 74.4 72.5 70.2 64.060.5; Providers of capital 2.1 0.8 0.8 0.9 0.5; Amortisation & depreciation 19.6 18.6 12.0 11.5 11.0; Name: 2016.0, dtype: float64];', lookup_str='', metadata={'source': 'lista_test.csv', 'row': 74}, lookup_index=0),\n",
       " Document(page_content='REPORT;20;20: ELIMINATION OF ALL BARRIERS  ;IN THE WORKPLACE AND SOCIETY;ROVI believes that full and complete integration requires all kinds of architectural and work-;related barriers to be overcome.;This is why it undertakes to be a 100% accessible company and, to this end, it strives for all ;its work centres to be fully, safely, comfortably and independently accessible. It also invests ;in adapting tools, objects and products so that they can be used regardless of technical, ;cognitive or physical skills.;In addition, in relation to its commitment to reducing the barriers that patients encounter ;with its products, it labels them in Braille for the visually impaired, so that the latter can use ;them independently and the products thus fully attain the objectives for which they were ;designed.;Finally, ROVI is also convinced that it is important for its employees to be aware of the ;difficulties faced by persons with disabilities. Therefore, ROVI fosters awareness as the primary ;tool to combat the barriers that exist for people with disabilities, carrying out corporate ;volunteering activities with non-profit entities engaged in the social mainstreaming of ;persons with mental and intellectual disabilities, as described below.;Through them, employees have first-hand contact with the main barriers that people with ;disabilities have to overcome in their everyday life. These activities are broadcast on the ;organisation’s internal television channel and included in the periodic internal publications. ;Thus, ROVI’s commitment to accessibility and inclusion is shared with the employees, in order ;to raise disability awareness and combat the discrimination suffered by this group of people.;COMMITMENT TO SOLIDARITY AND RESPONSIBILITY;In spite of the necessary and essential limitations imposed by the restrictions on movement ;and meetings in the health alert in 2020, ROVI and its professionals again showed their ;great spirit of solidarity by adapting themselves to the situation and making a great effort to ;provide support to those who most needed it.;Some of the initiatives and associations with which the company continued to be involved in ;2020 were:;• Fundación Manantial, with which ROVI has an employment programme for people with ;mental illnesses. It began in 2019 when the first people joined the Alcalá de Henares ;production plant, and was extended to the Julián Camarillo plant (Madrid) in 2020.;• Down Granada works helping young people in Granada with Down’s Syndrome to enter ;the labour market in local companies and has co-operated with ROVI in training one of ;its young women to perform administrative tasks at the plant in the Health Technology ;Park (Granada).;• Fundación Prodis, with which ROVI has an employment program for young people with ;intellectual disabilities at the Pozuelo and Julián Camarillo offices (Madrid).;77', lookup_str='', metadata={'source': 'lista_test.csv', 'row': 75}, lookup_index=0),\n",
       " Document(page_content='REPORT;20;20: • ISS Facility Services (Gelim), which provides cleaning services at ROVI’s offices. With the ;outbreak of the pandemic, ROVI intensified the usual cleaning services, including new ;daily routines with virucides at the work centres (office workstations, changing rooms, ;common areas, etc).;• Ilunion, which provides laundry services for plant clothing.;• Fundación A la par, engaged in the social and workplace integration of people with ;intellectual disabilities, which cleans the pallets used at the plants of Rovi Pharma ;Industrial Services.;• Fundación Deporte y Desafío, a non-profit organisation dedicated to mainstreaming ;disability sport. In 2020, ROVI strengthened the co-operation agreement with this ;association to conduct adaptive skiing courses at the Madrid Xanadú shopping centre.;• Fundación También. This non-profit organisation works to include people with disabilities ;in sport. As it does each year, ROVI collaborated in acquiring adaptive skiing material for ;the association.;• Cruz Roja Granada, with which ROVI collaborated in its assistance programme for ;disadvantaged families in Granada especially affected by coronavirus.;• Sponsorship of the V OCARE Prizes (Observatory of Corporate Responsibility ;Communication and Action), which recognized the best communication campaigns by ;companies in the CSR area.;The COVID-19 pandemic and the restrictions on in-person group activities affected the ;volunteering activities organised by the group for its employees. Before the State of Alarm ;was declared, ROVI organised the adaptive skiing campus in Sierra Nevada (Granada) in ;collaboration with Fundación También. In addition, on February 16, the IX Charity Race for ;Mental Health, organised by Fundación Manantial, took place. It was sponsored by ROVI and ;a group of 40 employees and members of their families took part in this race, which aims to ;raise awareness of mental illnesses..;From March onwards, we had to adapt and seek new formulas to channel the spirit of ;solidarity of ROVI’s employees. The solution was virtual charity races:;• 100 Km Race for Africa, of Fundación Recover. In June, a group of 66 employees and ;members of their families took part in the challenge of completing 100 Km of this charity ;race, the funds from which were used to combat COVID-19 in Africa.;• 9th Madrid También Solidario Race of Fundación También. In this case, around a hundred ;employees and members of their families took part in one of the three versions of this ;competition (1, 5 and 10 kilometres).;In the final part of the year, ROVI collaborated with the individual charity race Muévete por ;la salud, organised by Fundación Cofares (and held between 5 and 8 December), the funds ;from which were used to cover basic needs of hygiene and food items for groups that were ;vulnerable due to the COVID-19 pandemic.;78', lookup_str='', metadata={'source': 'lista_test.csv', 'row': 76}, lookup_index=0),\n",
       " Document(page_content='REPORT;20;20: DONATIONS TO SOLIDARITY PROJECTS;For a further year, in addition to different solidarity initiatives, ROVI’s Donations Committee ;approved the company’s contributions to different healthcare and social or humanitarian ;entities and organisations.;In 2020, contributions to the following entities, engaged in both international co-operation ;and social protection, may be highlighted:;• Fundación Recover, cooperating with its programmes to improve healthcare in Africa.;•  Fundación para el Desarrollo Integral de los Pueblos, with which ROVI co-operates in ;the acquisition of teaching and educational material for schools in Callao (Peru).;•  Fundación La Sal de la Tierra (Alcalá de Henares), by donating industrial kitchen ;material that has been reused for the soup kitchens they have in Alcalá de Henares, ;Alicante and Vigo.;•  Fundación Alentia, a private non-profit organisation whose purpose is to help minors ;who have suffered traumatic or unfavourable life experiences by donating laptops and ;tablets for the Children’s Homes of the Madrid Region, to enable the minors who live ;there to continue their studies online during the confinement.;Given ROVI’s interest in involving the employees in the company’s social action, an ;option was provided for the employees themselves to propose charitable associations, ;which the Donations Committee assesses on the basis of their relationship to the group’s ;Environmental and Social Sustainability Policy, approving different contributions to help ;them with their activities. In 2020, on the basis of employee proposals, contributions were ;made to the following entities:;From among the suggestions received, choosing on the basis of the relationship to the ;Group’s Environmental and Social Sustainability Policy, the Donations Committee approved ;financial contributions to the following entities:;•  Alcer Granada. This is an association that fights against kidney disease and defends the ;rights of kidney-disease patients in Granada.;•  Ambulancia del Último Deseo. A foundation that tries to grant the wishes of terminal ;and/or paralysed patients.;•  Somos NUPA. An association that helps children and adults with multivisceral ;transplants and those affected by intestinal failure and parenteral nutrition in the ;Intestinal Rehabilitation Unit at the La Paz Children’s Hospital in Madrid.;•  Asperger Madrid. An association that works to educate and integrate people on the ;autism spectrum in Madrid.;•  Asociación Uniendo Sonrisas para el Bierzo. Association created by a group of mothers ;of children in hospital that collaborates with the El Bierzo Hospital (León) to improve ;the experience of children in hospital by organising leisure and educational workshops, ;etc.;79', lookup_str='', metadata={'source': 'lista_test.csv', 'row': 77}, lookup_index=0),\n",
       " Document(page_content='REPORT;20;20: COMMITMENT TO TRANSPARENCY,  ;THE PUBLIC AUTHORITIES AND RESPONSIBILITY AS A TAXPAYER;ROVI maintains a constant, effective and transparent relationship with the health agencies and ;authorities in all the countries where it is present, either through its manufacturing plants or ;through the marketing of its products, with an attitude of full co-operation with governments, in ;order to avoid any material risks or unnecessary conflicts.;Aware of its role as a manufacturer and distributor of medicines and healthcare products, all the ;requirements of said bodies are scrupulously observed in all the group’s operations, including ;industrial development, manufacturing and the supply of products or units for clinical trials, ;strictly ensuring that all its activities are always performed in an environment that scrupulously ;complies with all the legal requirements and authorisations granted that are applicable to them.;At the same time, the Corporate Tax Policy sets out ROVI’s commitment to comply with all tax ;requirements and apply the best tax practices, always communicating its activity transparently ;and paying its taxes responsibly and efficiently on a timely basis. This activity receives support ;from an external tax advisor, who always keeps the group and its management team updated ;on new tax developments and provides advice if any doubts arise. The advisor also reviews the ;preparation and filing of the different taxes, as well as tax-related decision making.;TAXES AND GOVERNMENT GRANTS ;Thousand eurosProfit  ;before taxIncome  ;tax paidGovernment ;grants received;Laboratorios Farmacéuticos Rovi, S.A. 72,119 (3,877) 1,146 ;Laboratorios Farmacéuticos Rovi, S.A. permanent establishment Portugal 707 (202) -;Laboratorios Farmacéuticos Rovi, S.A. permanent establishment Poland (154) - -;Laboratorios Farmacéuticos Rovi, S.A. permanent establishment Germany 2,544 - -;Rovi Pharma Industrial Services, S.A. (*) 33,374 (8,701) -;Pan Química Farmacéutica, S.A. (*) 387 (97) -;Gineladius, S.L. (*) (37) 9 -;Rovi Escúzar, S.L. (74) 23 -;Bertex Pharma GmbH - - -;Rovi Biotech, Limited 9 - 11;Rovi Biotech, S.R.L. 409 (112) -;Rovi Biotech, GmbH 623 (164) -;Rovi S.A.S. 9 - -;Rovi Biotech spółka z o.o (4) (2) -;TOTAL 109,913 (13,123) 1,157;80; ;  TAXES AND GOVERNMENT GRANTS: 1-Columna: Unnamed: 1 2-Datos: [ProfitIncome; Thousand euros before tax tax paid; Laboratorios Farmacéuticos Rovi, S.A. 72,119(3,877); Laboratorios Farmacéuticos Rovi, S.A. permanent establishment Portugal 707(202); Laboratorios Farmacéuticos Rovi, S.A. permanent establishment Poland (154)-; Laboratorios Farmacéuticos Rovi, S.A. permanent establishment Germany 2,544-; Rovi Pharma Industrial Services, S.A. (*) 33,374(8,701); Pan Química Farmacéutica, S.A. (*) 387 (97); Gineladius, S.L. (*) (37) 9; Rovi Escúzar, S.L. (74) 23; Bertex Pharma GmbH - -; Rovi Biotech, Limited 9-; Rovi Biotech, S.R.L. 409 (112); Rovi Biotech, GmbH 623(164); Rovi S.A.S. 9 -; Rovi Biotech spółka z o.o (4)(2); TOTAL 109,913 (13,123); Name: Unnamed: 1, dtype: object];  TAXES AND GOVERNMENT GRANTS: 1-Columna: Unnamed: 2 2-Datos: [Profit Government; Thousand euros before tax grants received; Laboratorios Farmacéuticos Rovi, S.A. 72,119 1,146; Laboratorios Farmacéuticos Rovi, S.A. permanent establishment Portugal 707-; Laboratorios Farmacéuticos Rovi, S.A. permanent establishment Poland (154)-; Laboratorios Farmacéuticos Rovi, S.A. permanent establishment Germany 2,544 -; Rovi Pharma Industrial Services, S.A. (*) 33,374 -; Pan Química Farmacéutica, S.A. (*) 387-; Gineladius, S.L. (*) (37)-; Rovi Escúzar, S.L. (74) -; Bertex Pharma GmbH - -; Rovi Biotech, Limited 9 11; Rovi Biotech, S.R.L. 409 -; Rovi Biotech, GmbH 623-; Rovi S.A.S. 9-; Rovi Biotech spółka z o.o (4)-; TOTAL 109,9131,157; Name: Unnamed: 2, dtype: object];', lookup_str='', metadata={'source': 'lista_test.csv', 'row': 78}, lookup_index=0),\n",
       " Document(page_content='REPORT;20;20: 7. SHAREHOLDERS;81', lookup_str='', metadata={'source': 'lista_test.csv', 'row': 79}, lookup_index=0),\n",
       " Document(page_content='REPORT;20;20: Transparency and value creation are the two commitments that ROVI holds with its ;shareholders  In this respect, it has a Policy for Communication with Shareholders, ;Institutional Investors and Proxy Advisors and carries on intensive shareholder relations ;activity, informing them regularly on all its actions.;The company has and fosters different channels for direct communication with investors, ;such as e-mail alerts and the corporate website, media that offer the possibility of receiving ;regular, prompt and relevant financial information on ROVI, such as presentations and legal, ;economic/financial and corporate governance documents, price-sensitive information, and ;other items.;INVESTOR RELATIONS ACTIVITY;In spite of the problems derived from the situation and the measures to restrict movement ;and meetings between people, ROVI maintained its usual activity of meetings with investors, ;although, on this occasion, it used technological means, such as video-calls, in order to hold ;them with the highest guarantees of safety from contagion. ;In 2020, ROVI held 10 roadshows, participated in 62 events with investors (conference calls) ;and held 13 videoconferences, which represented attention to a total of more than 180 ;investors.;In addition, the Twitter, LinkedIn and YouTube profiles created in 2019 became pillars of the ;company’s external communication in 2020, since the group’s new developments were ;published through them, sharing relevant events, such as press releases and other activities ;related to corporate social responsibility.;ANALYST COVER;As at 31 December, 2020, ROVI was covered by 14 analysts. In 2020, the consensus of the ;analysts was a buy recommendation for ROVI, with an average target price of 45.92 euros, ;21.2% higher than the closing price of the share at 31 December, 2020, which was 37.90 euros. ;CAPITAL STRUCTURE;At 31 December, 2020, significant shareholders with an interest of more than 3% were those ;shown below.;82', lookup_str='', metadata={'source': 'lista_test.csv', 'row': 80}, lookup_index=0),\n",
       " Document(page_content='REPORT;20;20: SIGNIFICANT SHAREHOLDERS;PERCENTAGE OF VOTING RIGHTS DIRECT INDIRECT TOTAL ;Norbel Inversiones, S.L. 63.107% - 63.107% ;Indumenta Pueri, S.L. - 5.057% 5.057% ;Wellington Management Group, LLP - 3.03% 3.03% ;T. Rowe Price Associates, Inc - 3.005% 3.005% ;TOTAL 63.107% 11.092% 74.199% ;BEHAVIOUR OF THE SHARE ;In 2020, the ROVI share rose by 55.3%, from 24.4 euros to 37.90 euros. In the same period, ;the Ibex 35 dropped by 15.5% to 8,154.40 points. ROVI’s stock market capitalisation at 31 ;December, 2020 was 2,125 million euros.;The average daily volume traded from January to December 2020 was 54,783 shares, ;including the volume traded on the block market. If we consider only the volume traded on ;the stock market, it was 47,866 shares (in comparison with 9,509 in 2019). The average daily ;volume (without blocks) increased by 403% in 2020 in comparison with 2019.;83; ;  SIGNIFICANT SHAREHOLDERS: 1-Columna: Unnamed: 0 2-Datos: [PERCENTAGE OF VOTING RIGHTS DIRECTINDIRECT; Norbel Inversiones, S.L. 63.107% -; Indumenta Pueri, S.L. - 5.057%; Wellington Management Group, LLP -3.03%; T. Rowe Price Associates, Inc - 3.005%; TOTAL 63.107% 11.092%; Name: Unnamed: 0, dtype: object];  SIGNIFICANT SHAREHOLDERS: 1-Columna: Unnamed: 1 2-Datos: [PERCENTAGE OF VOTING RIGHTS DIRECT TOTAL; Norbel Inversiones, S.L. 63.107% 63.107%; Indumenta Pueri, S.L. -5.057%; Wellington Management Group, LLP - 3.03%; T. Rowe Price Associates, Inc -3.005%; TOTAL 63.107% 74.199%; Name: Unnamed: 1, dtype: object];', lookup_str='', metadata={'source': 'lista_test.csv', 'row': 81}, lookup_index=0),\n",
       " Document(page_content='REPORT;20;20: 8. ENVIRONMENT;84', lookup_str='', metadata={'source': 'lista_test.csv', 'row': 82}, lookup_index=0),\n",
       " Document(page_content='REPORT;20;20: 8.1.  ENVIRONMENTAL MANAGEMENT PRINCIPLES;ROVI is called to be an environmentally sustainable project committed to the prevention ;of any damage and/or deterioration in people’s health. Therefore, care of the environment ;is an essential factor in the group’s day-to-day activity, both in its industrial facet and in the ;materials and processes it handles, as factors for both the quality and the health and safety of ;the jobs of its employees, and due to the impact its plants may have on their surroundings.;ROVI carries on its activity under a firm commitment to contribute to environmental ;sustainability, which materialises through the prevention of pollution, efficient resource ;management and the promotion of environmental responsibility in accordance with the ;terms of the group Environment Policy, which defines the following goals: ;• Attaining efficient energy management, rationalising the use of natural resources;• Promoting the best guidelines for hazard and waste management, including the ;principles of hazard prevention, waste minimization and, whenever possible, recycling in ;its activities;• Obtaining certifications of the environmental management systems.;The company also has an Integrated Environmental Management and Occupational Hazard ;Prevention Policy, last updated in January 2021, which guides the sustainable management ;of all the company’s activity and defines the lines of action of the department that holds ;exclusive responsibility for aspects related to environmental impact, in addition to workplace ;health and safety aspects and legal and regulatory requirements.;The Safety and Environment Department is formed by nine people and it managed  a ;budget of 1.5 million euros in 2020, used for different actions to maintain, among other ;things, the work and commitment regarding continuing improvement, compliance with ;legal requirements and other additional voluntary environmental requirements, such ;as the implementation of energy efficiency solutions at the plants, responsible natural ;resource management and the recycling of the waste generated, as well as tasks to promote ;the best practices in the area among suppliers and contractors, in order to minimise the ;environmental impact of their activities and the risks derived for both their own safety and ;health and those of their workers.;In 2020, ROVI decided to take a further step in its environmental initiatives, assuming a ;more active position against global warming and adding the development of a new Climate ;Change Policy to all the foregoing.;ENVIRONMENTAL CERTIFICATIONS;As its main tool for environmental management, ROVI has implemented a system based ;on the criteria of international standard ISO 14001:2015. These certifications recognise the ;quality of ROVI’s environmental management system and support its commitment to the ;environment beyond the requirements current national legislation. All the environmental ;certifications held by the ROVI companies are available to interested parties on the corporate ;website (www.rovi.es);85', lookup_str='', metadata={'source': 'lista_test.csv', 'row': 83}, lookup_index=0),\n",
       " Document(page_content='REPORT;20;20: ENVIRONMENTAL CONSULTATION SYSTEM;ROVI has information systems that keep employees updated on environmental matters ;and, furthermore, it communicates smoothly and collaborates with the different Public ;Administrations, allowing constant updates of the changes in legislation applicable to the ;company.;Moreover, the group has implemented a corporate communication, participation and query ;procedure, through which queries, complaints, suggestions, etc. related to the environment ;and workplace health and safety are managed.;ENVIRONMENTAL RISK MANAGEMENT;ROVI has a Corporate Risk and Opportunity Management Procedure, which defines the work ;method that allows environmental hazards and opportunities to be identified, with an action ;plan to tackle them.;Additionally, a Corporate Procedure for Identification and Assessment of Environmental ;Aspects has been put in place and is applicable in identifying, communicating and ;quantifying the main environmental hazards related to the company’s activity, as well as ;those concerning access to and verification of regulations and possible administrative ;restrictions in different locations. Furthermore, there is the Procedure for Identification ;and Assessment of Legal Aspects and the Management Procedure for Non-conformities, ;Preventive and Corrective Actions, which establishes the mechanisms for identifying ;deviations (in quality or work procedures), the implementation of actions to correct any such ;deviations and the procedures to prevent them (preventive actions).;Specific control of environmental hazards is determined by, among other mechanisms, the ;Environmental Management System that the aforementioned group companies possess, ;certified under the standard ISO14001:2015, and all the tools that form it. It has specific ;operating procedures to manage waste, noise and effluents, which are intended to establish ;the methodology to be followed to control waste, external noise and effluents generated at ;the ROVI’s production plants. ;In addition, ROVI manages indirect environmental aspects resulting from trading relations, ;products or services that may have adverse effects in the environmental area. For each ;production plant, an analysis is made of the life cycle of the process or product, where all ;direct and indirect aspects involved (coming from suppliers) are identified bidirectionally. ;Once identified, following the Corporate Procedure for Identification and Assessment of ;Environmental Aspects, control is exercised over those indirect aspects where there is the ;capacity to act. Likewise, ROVI holds environmental liability insurance, which is renewed ;annually.;86', lookup_str='', metadata={'source': 'lista_test.csv', 'row': 84}, lookup_index=0),\n",
       " Document(page_content='REPORT;20;20: ROVI’S ENVIRONMENTAL RISKS;Non-compliance with legal requirements due to deficient ;identification of either legal requirements concerning the ;environment or environmental aspects or of emergencies, ;when this may lead to possible sanctions or stakeholder ;dissatisfaction.;Possible administrative ;restrictions in force in ;particular locations.;Non-compliance with noise ;regulations that leads to ;contingencies or disciplinary ;sanctions.;Deficiencies in personnel ;training on environmental ;matters.;Mixture of different kinds ;of waste and generation of ;hazardous waste.Impact on material and ;human assets due to an ;environmental incident ;concerning neighbours or ;employees;Pollution due to exceeding ;the pollutant emission limits ;on boilers or discharges ;to groundwater that may ;lead to an administrative ;sanction.;Releasing emissions into ;the atmosphere due to the ;absence of mechanisms to ;prevent the product leaking ;from the equipment.;Absence of energy efficiency ;certification.Failure to adapt to a change ;in the trend in legislation ;or any applicable new ;legislation on a timely basis.;Bad environmental practices ;on the part of external ;companies providing ;services on a permanent ;basis or the group personnel ;supervising them.;Incidents in transporting ;hazardous waste that may ;lead to a sanction.;Failure to check invoices ;that show consumption of ;an inappropriate amount of ;water or energy.;Failure to file the annual ;waste report and ;minimisation plan on a ;timely basis.;87; ;  Non-compliance with legal requirements due to deficient: 1-Columna: Failure to adapt to a change 2-Datos: [identification of either legal requirements concerning thein the trend in legislation; environment or environmental aspects or of emergencies,or any applicable new; when this may lead to possible sanctions or stakeholderlegislation on a timely basis.; Possible administrative Impact on material andBad environmental practices; restrictions in force in human assets due to an on the part of external; particular locations. environmental incident companies providing; concerning neighbours or services on a permanent; employeesbasis or the group personnel; NaNsupervising them.; Non-compliance with noise Pollution due to exceedingIncidents in transporting; regulations that leads to the pollutant emission limits hazardous waste that may; contingencies or disciplinary on boilers or dischargeslead to a sanction.; Deficiencies in personnel Releasing emissions into Failure to check invoices; training on environmental the atmosphere due to the that show consumption of; matters. absence of mechanisms to an inappropriate amount of; prevent the product leaking water or energy.; Mixture of different kinds Absence of energy efficiencyFailure to file the annual; of waste and generation of certification.waste report and; hazardous waste. minimisation plan on a; NaNtimely basis.; Name: Failure to adapt to a change, dtype: object];', lookup_str='', metadata={'source': 'lista_test.csv', 'row': 85}, lookup_index=0),\n",
       " Document(page_content='REPORT;20;20: 8.2.  CONSUMPTION AND WASTE;Waste generation is an inherent part of ROVI’s activity. Treating, reducing and managing ;it correctly are, therefore, together with use and/or recycling where possible. an essential ;need in the company’s commitment to its responsibility to minimise its impact on the ;environment.;When reporting the main environmental indicators, the data are divided among the different ;companies or businesses to allow them to be compared with each other, since the units ;produced are measured in different units for each one of the companies/businesses.;• Manufacturing plant belonging to ROVI, S.A. in Granada: this is the plant where ;bemiparin and enoxaparin, the active substances of ROVI’s principal own research ;products are produced. In this case, the units produced are measured in MUI, the activity ;of the active substance produced.;• Distribution business of Laboratorios Farmacéuticos ROVI, S.A. and subsidiaries: in this ;case, units distributed are used.;• Injectables production plants San Sebastián de los Reyes and Madrid: in this case, the ;units produced are expressed in individual units packed. Solid forms production plant ;in Alcalá de Henares: here, the pack of solid forms is used as the unit produced (tablets, ;coated tablets, hard capsules and sachets).;WASTE;2020 2019 Total variation ;WASTE (*) Granada Madrid  ;& SSRR Alcalá de ;Henares Distr.  Granada Madrid  ;& SSRR Alcalá de ;Henares Distr.  Gr Mad  ;y SSRR AH Distr. ;Tonnes of ;hazardous waste ;generated 2,054.3 344.8 12.5 8.9 1,910 236.1\\xa0 \\xa0 120.0\\xa0 \\xa0 15\\xa0 \\xa0 8% 46% -90% -41% ;Tonnes of non-;hazardous waste ;generated 2,335.4 2,434.3 565.0 0.3 2,282 657.6\\xa0 \\xa0 439.9\\xa0 \\xa0 0.5\\xa0 \\xa0 2% 270% 28% -48% ;TOTAL WASTE 4,389.7 2,779.1 577.5 9.2 4,192 893.7\\xa0 \\xa0 559.9\\xa0 \\xa0 15.5\\xa0 \\xa0 5% 211% 3% -41% ;Tonnes hazardous ;waste/ million ;units 0.004 2.11 0.23 0.36 0.004 1.78\\xa0 \\xa0 3.53\\xa0 \\xa0 0.74\\xa0 \\xa0 17% 18% -93% -51% ;Tonnes non-;hazardous waste/ ;million units. 0.005 14.89 10.46 0.01 0.004 4.97\\xa0 \\xa0 12.94\\xa0 \\xa0 0.02\\xa0 \\xa0 11% 200% -19% -57% ;Tonnes waste/ ;million units 0.009 17 10.69 0.37 0.008 6.76\\xa0 16.47 0.77\\xa0 \\xa0 14% 152% -35% -51% 301-1;88; ;  Unnamed: 0: 1-Columna: Unnamed: 1 2-Datos: [WASTE (*) Granada; generated 2,054.3; generated 2,335.4; TOTAL WASTE4,389.7; units0.004; million units. 0.005; million units0.009; Name: Unnamed: 1, dtype: object];  Unnamed: 0: 1-Columna: Madrid 2-Datos: [WASTE (*) & SSRR; generated344.8; generated 2,434.3; TOTAL WASTE2,779.1; units2.11; million units. 14.89; million units 17; Name: Madrid, dtype: object];  Unnamed: 0: 1-Columna: Alcalá de 2-Datos: [WASTE (*) Henares; generated12.5; generated565.0; TOTAL WASTE 577.5; units0.23; million units. 10.46; million units10.69; Name: Alcalá de, dtype: object];  Unnamed: 0: 1-Columna: Unnamed: 2 2-Datos: [WASTE (*) Distr.; generated8.9; generated0.3; TOTAL WASTE 9.2; units0.36; million units. 0.01; million units0.37; Name: Unnamed: 2, dtype: object];  Unnamed: 0: 1-Columna: Unnamed: 3 2-Datos: [WASTE (*) Granada; generated1,910; generated2,282; TOTAL WASTE 4,192; units0.004; million units. 0.004; million units0.008; Name: Unnamed: 3, dtype: object];  Unnamed: 0: 1-Columna: Madrid.1 2-Datos: [WASTE (*) & SSRR; generated 236.1; generated 657.6; TOTAL WASTE893.7; units1.78; million units. 4.97; million units6.76; Name: Madrid.1, dtype: object];  Unnamed: 0: 1-Columna: Alcalá de.1 2-Datos: [WASTE (*) Henares; generated120.0; generated439.9; TOTAL WASTE 559.9; units3.53; million units. 12.94; million units16.47; Name: Alcalá de.1, dtype: object];  Unnamed: 0: 1-Columna: Unnamed: 4 2-Datos: [WASTE (*) Distr.; generated 15; generated0.5; TOTAL WASTE 15.5; units0.74; million units. 0.02; million units0.77; Name: Unnamed: 4, dtype: object];  Unnamed: 0: 1-Columna: Unnamed: 5 2-Datos: [WASTE (*) Gr; generated 8%; generated 2%; TOTAL WASTE5%; units 17%; million units.11%; million units 14%; Name: Unnamed: 5, dtype: object];  Unnamed: 0: 1-Columna: Mad 2-Datos: [WASTE (*) y SSRR; generated46%; generated270%; TOTAL WASTE 211%; units18%; million units. 200%; million units152%; Name: Mad, dtype: object];  Unnamed: 0: 1-Columna: Unnamed: 6 2-Datos: [WASTE (*)AH; generated -90%; generated 28%; TOTAL WASTE 3%; units -93%; million units.-19%; million units -35%; Name: Unnamed: 6, dtype: object];  Unnamed: 0: 1-Columna: Unnamed: 7 2-Datos: [WASTE (*) Distr.; generated-41%; generated-48%; TOTAL WASTE -41%; units-51%; million units. -57%; million units-51%; Name: Unnamed: 7, dtype: object];', lookup_str='', metadata={'source': 'lista_test.csv', 'row': 86}, lookup_index=0),\n",
       " Document(page_content='REPORT;20;20: Regarding energy and natural resource consumption, water, electricity and gas indicators ;are checked and reported on a monthly basis, analysing any deviations. Likewise, in the ;Distribution business, a provider of 100% renewable energy is used.;ENERGY CONSUMPTION ;2020 2019 Total variation ;(*) ENERGY ;CONSUMPTION Granada Madrid  ;& SSRR Alcalá de ;Henares Distr.  Granada Madrid  ;& SSRR Alcalá de ;Henares Distr.  Gr Mad  ;y SSRR AH Distr. ;kWh electricity ;consumed 3,848,018 7,091,109 9,673,660 637,543 3,822,809 7,795,638 8,906,808 623,206 1% -9% 9 2 ;kWh electricity ;/ million units ;produced 8 43,365 179,142 26,089 7 58,924 225,489 30,889  9% -26% -21% -16% ;kWh natural gas ;consumed 4,405,540 7,570,552 14,549,428 0 2,285,101 6,836,948 14,048,975 0 93% 11% 4% - ;kWh natural gas ;/ million units ;produced 9 46,297 269,434 0 4 51,678 355,670 0 109% -10% -24% - ;Litres vehicle fuel 1,000 40,498 5,231 291,520 300 0 2,175 485,185 233% - 140% -40%;Due to a change in the calculation of the kWh of electricity consumed in the Distribution ;area, the 2019 Distribution figures shown above have been changed slightly from those ;reported in the 2019 Statement of Non-financial Information, in order to allow a comparison ;of this indicator.;The increase in the indicator of natural gas consumed at the Granada plant in 2020 in ;comparison with 2019 was due to the fact that, in June 2020, new facilities that required ;natural gas were put into operation. In addition, several incidents were detected that, to ;a lesser extent, led to an increase in gas consumption unrelated to the consumption in ;production. These incidents were duly solved.302-1;89; ;  (*) ENERGY: 1-Columna: Unnamed: 0 2-Datos: [CONSUMPTION Granada; consumed3,848,018; produced8; consumed4,405,540; produced9; Litres vehicle fuel1,000; Name: Unnamed: 0, dtype: object];  (*) ENERGY: 1-Columna: Madrid 2-Datos: [CONSUMPTION& SSRR; consumed7,091,109; produced 43,365; consumed7,570,552; produced 46,297; Litres vehicle fuel40,498; Name: Madrid, dtype: object];  (*) ENERGY: 1-Columna: Alcalá de 2-Datos: [CONSUMPTIONHenares; consumed9,673,660; produced 179,142; consumed14,549,428; produced 269,434; Litres vehicle fuel 5,231; Name: Alcalá de, dtype: object];  (*) ENERGY: 1-Columna: Unnamed: 1 2-Datos: [CONSUMPTION Distr.; consumed637,543; produced26,089; consumed 0; produced 0; Litres vehicle fuel291,520; Name: Unnamed: 1, dtype: object];  (*) ENERGY: 1-Columna: Unnamed: 2 2-Datos: [CONSUMPTION Granada; consumed3,822,809; produced7; consumed2,285,101; produced4; Litres vehicle fuel 300; Name: Unnamed: 2, dtype: object];  (*) ENERGY: 1-Columna: Madrid.1 2-Datos: [CONSUMPTION& SSRR; consumed7,795,638; produced 58,924; consumed6,836,948; produced 51,678; Litres vehicle fuel0; Name: Madrid.1, dtype: object];  (*) ENERGY: 1-Columna: Alcalá de.1 2-Datos: [CONSUMPTIONHenares; consumed8,906,808; produced 225,489; consumed14,048,975; produced 355,670; Litres vehicle fuel 2,175; Name: Alcalá de.1, dtype: object];  (*) ENERGY: 1-Columna: Unnamed: 3 2-Datos: [CONSUMPTION Distr.; consumed623,206; produced30,889; consumed 0; produced 0; Litres vehicle fuel485,185; Name: Unnamed: 3, dtype: object];  (*) ENERGY: 1-Columna: Unnamed: 4 2-Datos: [CONSUMPTION Gr; consumed 1%; produced 9%; consumed93%; produced109%; Litres vehicle fuel233%; Name: Unnamed: 4, dtype: object];  (*) ENERGY: 1-Columna: Mad 2-Datos: [CONSUMPTIONy SSRR; consumed -9%; produced -26%; consumed 11%; produced -10%; Litres vehicle fuel -; Name: Mad, dtype: object];  (*) ENERGY: 1-Columna: Unnamed: 5 2-Datos: [CONSUMPTION AH; consumed 9; produced-21%; consumed 4%; produced-24%; Litres vehicle fuel140%; Name: Unnamed: 5, dtype: object];  (*) ENERGY: 1-Columna: Unnamed: 6 2-Datos: [CONSUMPTIONDistr.; consumed2; produced -16%; consumed-; produced-; Litres vehicle fuel -40%; Name: Unnamed: 6, dtype: object];', lookup_str='', metadata={'source': 'lista_test.csv', 'row': 87}, lookup_index=0),\n",
       " Document(page_content='REPORT;20;20: NATURAL RESOURCE CONSUMPTION  ;2020 2019 Total variation ;NATURAL ;RESOURCE ;CONSUMPTION ;(*) Granada Madrid  ;& SSRR Alcalá de ;Henares Distr.  Granada Madrid  ;& SSRR Alcalá de ;Henares Distr.  Gr Mad  ;y SSRR AH Distr. ;m3 water ;consumed 28,555 55,369 58,641 7,606 24,026 58,931 63,114 2,561 19% -6% -7% 197% ;m3 water / ;million units ;produced 0.1 338.6 1,085.9 311.2 0.0 445.4 1,597.8 126.9 29% 24% -32% 145%;;In addition to the figure reported, in 2020 1,063 m3 of well water was consumed for watering ;at the Alcalá de Henares plant. 100% of the rest of the water supply from the mains. The ;increase in water consumption in the Distribution area in 2020 in comparison to 2019 was ;due the fact that, in 2020, direct readings were taken in the equipment every month of the ;year. In 2019, however, readings were only taken of three months’ consumption.;;EMISSIONS AND REDUCTION IN CARBON FOOTPRINT;At ROVI, as a contribution to the fight against climate change, not only is electricity taken ;into account, but the CO2 emissions caused by the consumption of natural gas and diesel ;fuel, derived from electricity and automobiles, are measured, as well as other substances ;that act to destroy the ozone layer. ROVI’s greenhouse gas emissions have always been ;insignificant and very much below the legally-established levels.;In 2020, as mentioned above, ROVI developed a new Climate Change Policy and, ;additionally, undertook a project to reduce CO2 emissions, Zero Emissions, during which ;the following initiatives were taken:;• A contract was signed for 100% of the electricity used at the industrial plants to come ;from renewable sources.;• Compensation of the rest of the tonnes emitted by VER (Voluntary Emission ;Reduction) projects. Specifically:;• GHANA COOKSTOVE. The Gyapa Cookstove cooks food faster and needs less fuel. ;Thus, not only does it reduce carbon emissions, but it also reduces exposure to ;toxic fumes. The key benefits are: reduction in fuel costs, improvement in health, ;deceleration in deforestation, generation of employment and reduction in ;carbon.;• Madre de Dios Amazon REDD Project. The project is located in the region ;belonging to the Vilacamba-Amoboró Ecological Corridor, one of the critical ;points in biodiversity. The jungle where the project is located is very importance ;in terms of the conservation of biodiversity, since it provides a habitat to four ;tropical jungle wildlife species that are in danger of extinction and eleven that 303-1;90; ;  NATURAL: 1-Columna: Unnamed: 0 2-Datos: [CONSUMPTIONNaN; (*)Granada; consumed28,555; produced0.1; Name: Unnamed: 0, dtype: object];  NATURAL: 1-Columna: Unnamed: 1 2-Datos: [CONSUMPTIONMadrid; (*)& SSRR; consumed55,369; produced338.6; Name: Unnamed: 1, dtype: object];  NATURAL: 1-Columna: Unnamed: 2 2-Datos: [CONSUMPTIONAlcalá de; (*) Henares; consumed 58,641; produced 1,085.9; Name: Unnamed: 2, dtype: object];  NATURAL: 1-Columna: Unnamed: 3 2-Datos: [CONSUMPTIONNaN; (*)Distr.; consumed7,606; produced311.2; Name: Unnamed: 3, dtype: object];  NATURAL: 1-Columna: Unnamed: 4 2-Datos: [CONSUMPTIONNaN; (*)Granada; consumed24,026; produced0.0; Name: Unnamed: 4, dtype: object];  NATURAL: 1-Columna: Unnamed: 5 2-Datos: [CONSUMPTIONMadrid; (*)& SSRR; consumed58,931; produced445.4; Name: Unnamed: 5, dtype: object];  NATURAL: 1-Columna: Unnamed: 6 2-Datos: [CONSUMPTIONAlcalá de; (*) Henares; consumed 63,114; produced 1,597.8; Name: Unnamed: 6, dtype: object];  NATURAL: 1-Columna: Unnamed: 7 2-Datos: [CONSUMPTIONNaN; (*)Distr.; consumed2,561; produced126.9; Name: Unnamed: 7, dtype: object];  NATURAL: 1-Columna: Unnamed: 8 2-Datos: [CONSUMPTIONNaN; (*) Gr; consumed19%; produced29%; Name: Unnamed: 8, dtype: object];  NATURAL: 1-Columna: Unnamed: 9 2-Datos: [CONSUMPTIONMad; (*)y SSRR; consumed -6%; produced 24%; Name: Unnamed: 9, dtype: object];  NATURAL: 1-Columna: Unnamed: 10 2-Datos: [CONSUMPTION NaN; (*) AH; consumed-7%; produced-32%; Name: Unnamed: 10, dtype: object];  NATURAL: 1-Columna: Unnamed: 11 2-Datos: [CONSUMPTIONNaN; (*)Distr.; consumed 197%; produced 145%; Name: Unnamed: 11, dtype: object];', lookup_str='', metadata={'source': 'lista_test.csv', 'row': 88}, lookup_index=0),\n",
       " Document(page_content='REPORT;20;20: are endangered. From a social point of view, the project will contribute to the ;sustainable development of rural producers and indigenous communities that ;live in nearby areas. The project has been certified by FSC (Forest Stewardship ;Council), CCB Gold Level (Climate, Community and Biodiversity) and VCS (Verified ;Carbon Standard).;ATMOSPHERIC EMISSIONS ;2020 2019 Variación Total ;Granada Madrid  ;& SSRR Alcalá de ;Henares Distr.  Granada Madrid  ;& SSRR Alcalá de ;Henares Distr.  Gr Mad  ;y SSRR AH Distr. ;Tonnes of Scope 1 ;CO2 emitted 805 1,494 2,663 836 468 1,399 2,880 1,262 72% 7% -8% -34%;Tonnes of Scope ;2 CO2 emitted 0 0 0 102 1,101 2,245 2,565 179 -100% -100% -100% -43%;Tonnes of Scope ;2 CO2 avoided (*) 1,193 2,198 2,999 96 0 0 0 0 - - - -;Tonnes CO2/ / ;million units. 0.004 22.58 104.85 42.30 0.003 27.54 137.86 71.42 38% -18% -24% -41%305-1;91; ;  Unnamed: 0: 1-Columna: Unnamed: 1 2-Datos: [NaN Granada; CO2 emitted 805; 2 CO2 emitted 0; 2 CO2 avoided (*) 1,193; million units. 0.004; Name: Unnamed: 1, dtype: object];  Unnamed: 0: 1-Columna: Madrid 2-Datos: [NaN & SSRR; CO2 emitted1,494; 2 CO2 emitted 0; 2 CO2 avoided (*) 2,198; million units.22.58; Name: Madrid, dtype: object];  Unnamed: 0: 1-Columna: Alcalá de 2-Datos: [NaN Henares; CO2 emitted2,663; 2 CO2 emitted 0; 2 CO2 avoided (*) 2,999; million units.104.85; Name: Alcalá de, dtype: object];  Unnamed: 0: 1-Columna: Unnamed: 2 2-Datos: [NaN Distr.; CO2 emitted 836; 2 CO2 emitted102; 2 CO2 avoided (*)96; million units.42.30; Name: Unnamed: 2, dtype: object];  Unnamed: 0: 1-Columna: Unnamed: 3 2-Datos: [NaN Granada; CO2 emitted 468; 2 CO2 emitted 1,101; 2 CO2 avoided (*) 0; million units. 0.003; Name: Unnamed: 3, dtype: object];  Unnamed: 0: 1-Columna: Madrid.1 2-Datos: [NaN & SSRR; CO2 emitted1,399; 2 CO2 emitted 2,245; 2 CO2 avoided (*) 0; million units.27.54; Name: Madrid.1, dtype: object];  Unnamed: 0: 1-Columna: Alcalá de.1 2-Datos: [NaN Henares; CO2 emitted2,880; 2 CO2 emitted 2,565; 2 CO2 avoided (*) 0; million units.137.86; Name: Alcalá de.1, dtype: object];  Unnamed: 0: 1-Columna: Unnamed: 4 2-Datos: [NaN Distr.; CO2 emitted1,262; 2 CO2 emitted179; 2 CO2 avoided (*) 0; million units.71.42; Name: Unnamed: 4, dtype: object];  Unnamed: 0: 1-Columna: Unnamed: 5 2-Datos: [NaN Gr; CO2 emitted72%; 2 CO2 emitted-100%; 2 CO2 avoided (*)-; million units. 38%; Name: Unnamed: 5, dtype: object];  Unnamed: 0: 1-Columna: Mad 2-Datos: [NaN y SSRR; CO2 emitted 7%; 2 CO2 emitted -100%; 2 CO2 avoided (*) -; million units. -18%; Name: Mad, dtype: object];  Unnamed: 0: 1-Columna: Unnamed: 6 2-Datos: [NaN AH; CO2 emitted-8%; 2 CO2 emitted-100%; 2 CO2 avoided (*)-; million units.-24%; Name: Unnamed: 6, dtype: object];  Unnamed: 0: 1-Columna: Unnamed: 7 2-Datos: [NaN Distr.; CO2 emitted-34%; 2 CO2 emitted -43%; 2 CO2 avoided (*) -; million units. -41%; Name: Unnamed: 7, dtype: object];', lookup_str='', metadata={'source': 'lista_test.csv', 'row': 89}, lookup_index=0),\n",
       " Document(page_content='REPORT;20;20: 9. SUPPLEMENTARY ;INFORMATION;92', lookup_str='', metadata={'source': 'lista_test.csv', 'row': 90}, lookup_index=0),\n",
       " Document(page_content='REPORT;20;20: 9.1. ABOUT THIS REPORT;This report describes the main activities carried out by ROVI in Corporate Social Responsibility ;(CSR). On the annual basis decided by the company, ROVI wishes to report on the progress ;made and the challenges associated to its CSR, as well as the actions that allowed it to ;contribute to our society’s overall sustainability in this respect for 2020.;This report has been prepared following the recommendations of the 2016 Global Reporting ;Initiative (GRI) standards for preparing sustainability reports, Core option. Point 9.2 of this ;document includes a table that links the indicator number with the section of this document ;where the relevant information is included. ROVI’s commitment to ethical management ;and transparency is shown in the development of its internal codes. Furthermore, ROVI ;has applied standard SA-8000 “Social Responsibility” to the nature, scale and impact of its ;activities, products and services, which helps to reinforce its action principles.;The information included in this report covers the 2020 calendar year. The last annual report ;was drawn up in 2020 with the information for 2019. Thus, we present the report following the ;annual cycle.;The information provided in this document refers to the entire ROVI group, except in those ;cases where otherwise indicated  (see Corporate Structure table, page 4).;If further information is required on any of the data included herein, the company has ;made a direct communication channel available at e-mail addresses rovi@rovi.es or ;comunicacion@rovi.es.102-46, 102-48, 102-49, 102-51, 102-52, 102-53;93', lookup_str='', metadata={'source': 'lista_test.csv', 'row': 91}, lookup_index=0),\n",
       " Document(page_content='REPORT;20;20: 9.2.  GRI CONTENT INDEX;ID. INDICATOR Report page;General content;102-1 Name of the organisation 5;102-2 Activities, brands, products and services 9;102-3 Location of headquarters 5;102-4 Location of operations 6;102-5 Ownership and legal form 5;102-6 Markets served 17;102-7 Scale of the organisation 14;102-8 Information on employees and other workers 47;102-9 Supply chain 70;102-10 Significant changes to the organisation and its supply chain 70;102-11 Precautionary principle or approach 21;102-12 External initiatives 21;102-13 Membership of associations 76;102-14 Statement from senior decision-maker 20;102-15 Key impacts, risks and opportunities 33;102-16 Values, principles, standards and norms of behaviour 21;102-18 Governance structureSee 2020 Annual ;Corporate Gover -;nance Report;102-40 List of stakeholder groups 25;102-41 Collective bargaining agreements 62;102-42 Identifying and selecting stakeholders 25102-55;94; ;  102-1: 1-Columna: Name of the organisation 2-Datos: [102-2 Activities, brands, products and services; 102-3 Location of headquarters; 102-4Location of operations; 102-5 Ownership and legal form; 102-6Markets served; 102-7 Scale of the organisation; 102-8Information on employees and other workers; 102-9 Supply chain; 102-10Significant changes to the organisation and it...; 102-11 Precautionary principle or approach; 102-12 External initiatives; 102-13Membership of associations; 102-14 Statement from senior decision-maker; 102-15 Key impacts, risks and opportunities; 102-16Values, principles, standards and norms of beh...; NaN NaN; 102-18 Governance structure; NaN NaN; 102-40List of stakeholder groups; 102-41 Collective bargaining agreements; 102-42Identifying and selecting stakeholders; Name: Name of the organisation, dtype: object];  102-1: 1-Columna: 5 2-Datos: [102-29; 102-35; 102-46; 102-55; 102-617; 102-714; 102-847; 102-970; 102-10 70; 102-11 21; 102-12 21; 102-13 76; 102-14 20; 102-15 33; 102-16 21; NaNSee 2020 Annual; 102-18Corporate Gover-; NaNnance Report; 102-40 25; 102-41 62; 102-42 25; Name: 5, dtype: object];', lookup_str='', metadata={'source': 'lista_test.csv', 'row': 92}, lookup_index=0),\n",
       " Document(page_content='REPORT;20;20: ID. INDICATOR Report page;102-43 Approach to stakeholder engagement 25;102-44 Key topics and concerns raised 28;102-45 Entities included in the consolidated financial statements 6;102-46 Defining report content and topic boundaries 92;102-47 List of material topics 28;102-48 Restatements of information 92;102-49 Changes in reporting 29;102-50 Reporting period 92;102-51 Date of most recent report 92;102-52 Reporting cycle 92;102-53 Content point for questions regarding the report 92;102-54 Claims of reporting in accordance with the GRI StandardsThis report has ;been prepared in ;accordance with ;GRI Standards, ;Core option;102-55 GRI Content Index 94;102-56 External assuranceSee 2020 ;Statement of ;Non-Financial ;Information;GRI 200 ECONOMIC TOPICS;103-1 Explanation of the material topic and its boundary 21;103-2 The management approach and its components 21;103-3 Evaluation of the management approach 21;201-1 Direct economic value generated and distributed 76;205-2Communication and training about anti-corruption policies and ;procedures31;95', lookup_str='', metadata={'source': 'lista_test.csv', 'row': 93}, lookup_index=0),\n",
       " Document(page_content='REPORT;20;20: ID. INDICATOR Report page;GRI 300 ENVIRONMENTAL TOPICS;103-1 Explanation of the material topic and its boundary 21;103-2 The management approach and its components 21;103-3 Evaluation of the management approach 21;301-1 Materials used by weight or volume 88;302-1 Energy consumption within the organisation 89;303-1 Water withdrawal by source 90;305-1 Direct (Scope 1) GHG emissions 91;GRI 400 SOCIAL TOPICS;103-1 Explanation of the material topic and its boundary 21;103-2 The management approach and its components 21;103-3 Evaluation of the management approach 21;401-2Benefits provided to full-time employees that are not provided to tempo -;rary or part-time employees55;403-1Worker representation in formal joint management worker health and ;safety committees63;404-1 Average hours of training per year per employee 60, 61;96', lookup_str='', metadata={'source': 'lista_test.csv', 'row': 94}, lookup_index=0),\n",
       " Document(page_content='REPORT;20;20: 97', lookup_str='', metadata={'source': 'lista_test.csv', 'row': 95}, lookup_index=0),\n",
       " Document(page_content='REPORT;20;20: 98www.rovi.es', lookup_str='', metadata={'source': 'lista_test.csv', 'row': 96}, lookup_index=0)]"
      ]
     },
     "execution_count": 29,
     "metadata": {},
     "output_type": "execute_result"
    }
   ],
   "source": [
    "data"
   ]
  },
  {
   "cell_type": "code",
   "execution_count": 92,
   "metadata": {},
   "outputs": [
    {
     "name": "stderr",
     "output_type": "stream",
     "text": [
      "Using embedded DuckDB without persistence: data will be transient\n"
     ]
    }
   ],
   "source": [
    "from langchain.indexes import VectorstoreIndexCreator\n",
    "index = VectorstoreIndexCreator().from_loaders([loader])"
   ]
  },
  {
   "cell_type": "code",
   "execution_count": 96,
   "metadata": {},
   "outputs": [
    {
     "data": {
      "text/plain": [
       "{'question': 'There is a table talking about CO2 emissions. How much CO2 did they emit?',\n",
       " 'answer': ' The CO2 emissions in 2020 were 1,262 tonnes of Scope 1 CO2 emitted.\\n',\n",
       " 'sources': 'lista_test.csv'}"
      ]
     },
     "execution_count": 96,
     "metadata": {},
     "output_type": "execute_result"
    }
   ],
   "source": [
    "index.query_with_sources('There is a table talking about CO2 emissions. How much CO2 did they emit?')"
   ]
  },
  {
   "cell_type": "code",
   "execution_count": 65,
   "metadata": {},
   "outputs": [
    {
     "data": {
      "text/plain": [
       "9945"
      ]
     },
     "execution_count": 65,
     "metadata": {},
     "output_type": "execute_result"
    }
   ],
   "source": [
    "+805+1494+2663+836+468+1399+2280"
   ]
  },
  {
   "cell_type": "code",
   "execution_count": 28,
   "metadata": {},
   "outputs": [
    {
     "data": {
      "text/plain": [
       "<langchain.vectorstores.chroma.Chroma at 0x1f3cba01220>"
      ]
     },
     "execution_count": 28,
     "metadata": {},
     "output_type": "execute_result"
    }
   ],
   "source": [
    "index.vectorstore."
   ]
  },
  {
   "cell_type": "code",
   "execution_count": 130,
   "metadata": {},
   "outputs": [],
   "source": [
    "with open('./data/rovi-sostenibilidad-2020.pdf', 'rb') as f:\n",
    "    pdf = pypdf.PdfReader(f)\n",
    "    # Obtenemos el número de páginas\n",
    "    num_pags = len(pdf.pages)\n",
    "    count = 0\n",
    "    text = []\n",
    "    # Iteramos sobre las páginas\n",
    "    for pag in pdf.pages:\n",
    "    #while count < num_pags:\n",
    "        #pag = pdf.pages[count]\n",
    "        count +=1\n",
    "        texto_pagina = pag.extract_text()\n",
    "        tablas = tabula.read_pdf('./data/rovi-sostenibilidad-2020.pdf', pages=count)\n",
    "        for tabla in tablas:\n",
    "            texto_pagina += tabla_a_texto(tabla=tabla)\n",
    "        # texto_pagina = limpieza_texto(texto_pagina)\n",
    "        text.append(texto_pagina)"
   ]
  },
  {
   "cell_type": "code",
   "execution_count": 5,
   "metadata": {},
   "outputs": [],
   "source": [
    "with open('./data/rovi-sostenibilidad-2020.pdf', 'rb') as f:\n",
    "    pdf = pypdf.PdfReader(f)"
   ]
  },
  {
   "cell_type": "code",
   "execution_count": 139,
   "metadata": {},
   "outputs": [
    {
     "data": {
      "text/plain": [
       "[]"
      ]
     },
     "execution_count": 139,
     "metadata": {},
     "output_type": "execute_result"
    }
   ],
   "source": [
    "tabula.read_pdf('./data/rovi-sostenibilidad-2020.pdf', pages=count)"
   ]
  },
  {
   "cell_type": "code",
   "execution_count": 142,
   "metadata": {},
   "outputs": [
    {
     "data": {
      "text/plain": [
       "';  KEY FIGURES: A-Contexto: (million euros) B-Contenido:1-Columna: 2020.0 2-Datos: [Total revenue 421.100; EBITDA 94.200; Net financial debt 19.800; Employees1.419; Name: 2020.0, dtype: float64];  KEY FIGURES: A-Contexto: (million euros) B-Contenido:1-Columna: 2019.0 2-Datos: [Total revenue 382.50; EBITDA 60.90; Net financial debt 15.90; Employees1.31; Name: 2019.0, dtype: float64];  KEY FIGURES: A-Contexto: (million euros) B-Contenido:1-Columna: 2018.0 2-Datos: [Total revenue 304.800; EBITDA 29.500; Net financial debt-62.800; Employees1.224; Name: 2018.0, dtype: float64];  KEY FIGURES: A-Contexto: (million euros) B-Contenido:1-Columna: 2017.0 2-Datos: [Total revenue 277.400; EBITDA 29.900; Net financial debt 1.100; Employees1.191; Name: 2017.0, dtype: float64]'"
      ]
     },
     "execution_count": 142,
     "metadata": {},
     "output_type": "execute_result"
    }
   ],
   "source": [
    "test"
   ]
  },
  {
   "cell_type": "code",
   "execution_count": 144,
   "metadata": {},
   "outputs": [
    {
     "data": {
      "text/plain": [
       "Document(page_content=';  KEY FIGURES: A-Contexto: (million euros) B-Contenido:1-Columna: 2020.0 2-Datos: [Total revenue 421.100; EBITDA 94.200; Net financial debt 19.800; Employees1.419; Name: 2020.0, dtype: float64];  KEY FIGURES: A-Contexto: (million euros) B-Contenido:1-Columna: 2019.0 2-Datos: [Total revenue 382.50; EBITDA 60.90; Net financial debt 15.90; Employees1.31; Name: 2019.0, dtype: float64];  KEY FIGURES: A-Contexto: (million euros) B-Contenido:1-Columna: 2018.0 2-Datos: [Total revenue 304.800; EBITDA 29.500; Net financial debt-62.800; Employees1.224; Name: 2018.0, dtype: float64];  KEY FIGURES: A-Contexto: (million euros) B-Contenido:1-Columna: 2017.0 2-Datos: [Total revenue 277.400; EBITDA 29.900; Net financial debt 1.100; Employees1.191; Name: 2017.0, dtype: float64]', lookup_str='', metadata={}, lookup_index=0)"
      ]
     },
     "execution_count": 144,
     "metadata": {},
     "output_type": "execute_result"
    }
   ],
   "source": [
    "import langchain\n",
    "langchain.docstore.document.Document(page_content = test)"
   ]
  },
  {
   "cell_type": "code",
   "execution_count": 135,
   "metadata": {},
   "outputs": [
    {
     "ename": "IndexError",
     "evalue": "list index out of range",
     "output_type": "error",
     "traceback": [
      "\u001b[1;31m---------------------------------------------------------------------------\u001b[0m",
      "\u001b[1;31mIndexError\u001b[0m                                Traceback (most recent call last)",
      "Cell \u001b[1;32mIn[135], line 1\u001b[0m\n\u001b[1;32m----> 1\u001b[0m tabula\u001b[39m.\u001b[39;49mread_pdf(\u001b[39m'\u001b[39;49m\u001b[39m./data/rovi-sostenibilidad-2020.pdf\u001b[39;49m\u001b[39m'\u001b[39;49m, pages\u001b[39m=\u001b[39;49m\u001b[39m1\u001b[39;49m)[\u001b[39m0\u001b[39;49m]\n",
      "\u001b[1;31mIndexError\u001b[0m: list index out of range"
     ]
    }
   ],
   "source": [
    "tabula.read_pdf('./data/rovi-sostenibilidad-2020.pdf', pages=1)[0]"
   ]
  },
  {
   "cell_type": "code",
   "execution_count": 19,
   "metadata": {},
   "outputs": [
    {
     "data": {
      "text/html": [
       "<div>\n",
       "<style scoped>\n",
       "    .dataframe tbody tr th:only-of-type {\n",
       "        vertical-align: middle;\n",
       "    }\n",
       "\n",
       "    .dataframe tbody tr th {\n",
       "        vertical-align: top;\n",
       "    }\n",
       "\n",
       "    .dataframe thead th {\n",
       "        text-align: right;\n",
       "    }\n",
       "</style>\n",
       "<table border=\"1\" class=\"dataframe\">\n",
       "  <thead>\n",
       "    <tr style=\"text-align: right;\">\n",
       "      <th></th>\n",
       "      <th>Unnamed: 0</th>\n",
       "      <th>Unnamed: 1</th>\n",
       "      <th>Madrid</th>\n",
       "      <th>Alcalá de</th>\n",
       "      <th>Unnamed: 2</th>\n",
       "      <th>Unnamed: 3</th>\n",
       "      <th>Madrid.1</th>\n",
       "      <th>Alcalá de.1</th>\n",
       "      <th>Unnamed: 4</th>\n",
       "      <th>Unnamed: 5</th>\n",
       "      <th>Mad</th>\n",
       "      <th>Unnamed: 6</th>\n",
       "      <th>Unnamed: 7</th>\n",
       "    </tr>\n",
       "  </thead>\n",
       "  <tbody>\n",
       "    <tr>\n",
       "      <th>0</th>\n",
       "      <td>NaN</td>\n",
       "      <td>Granada</td>\n",
       "      <td>&amp; SSRR</td>\n",
       "      <td>Henares</td>\n",
       "      <td>Distr.</td>\n",
       "      <td>Granada</td>\n",
       "      <td>&amp; SSRR</td>\n",
       "      <td>Henares</td>\n",
       "      <td>Distr.</td>\n",
       "      <td>Gr</td>\n",
       "      <td>y SSRR</td>\n",
       "      <td>AH</td>\n",
       "      <td>Distr.</td>\n",
       "    </tr>\n",
       "    <tr>\n",
       "      <th>1</th>\n",
       "      <td>Tonnes of Scope 1</td>\n",
       "      <td>NaN</td>\n",
       "      <td>NaN</td>\n",
       "      <td>NaN</td>\n",
       "      <td>NaN</td>\n",
       "      <td>NaN</td>\n",
       "      <td>NaN</td>\n",
       "      <td>NaN</td>\n",
       "      <td>NaN</td>\n",
       "      <td>NaN</td>\n",
       "      <td>NaN</td>\n",
       "      <td>NaN</td>\n",
       "      <td>NaN</td>\n",
       "    </tr>\n",
       "    <tr>\n",
       "      <th>2</th>\n",
       "      <td>CO2 emitted</td>\n",
       "      <td>805</td>\n",
       "      <td>1,494</td>\n",
       "      <td>2,663</td>\n",
       "      <td>836</td>\n",
       "      <td>468</td>\n",
       "      <td>1,399</td>\n",
       "      <td>2,880</td>\n",
       "      <td>1,262</td>\n",
       "      <td>72%</td>\n",
       "      <td>7%</td>\n",
       "      <td>-8%</td>\n",
       "      <td>-34%</td>\n",
       "    </tr>\n",
       "    <tr>\n",
       "      <th>3</th>\n",
       "      <td>Tonnes of Scope</td>\n",
       "      <td>NaN</td>\n",
       "      <td>NaN</td>\n",
       "      <td>NaN</td>\n",
       "      <td>NaN</td>\n",
       "      <td>NaN</td>\n",
       "      <td>NaN</td>\n",
       "      <td>NaN</td>\n",
       "      <td>NaN</td>\n",
       "      <td>NaN</td>\n",
       "      <td>NaN</td>\n",
       "      <td>NaN</td>\n",
       "      <td>NaN</td>\n",
       "    </tr>\n",
       "    <tr>\n",
       "      <th>4</th>\n",
       "      <td>2 CO2 emitted</td>\n",
       "      <td>0</td>\n",
       "      <td>0</td>\n",
       "      <td>0</td>\n",
       "      <td>102</td>\n",
       "      <td>1,101</td>\n",
       "      <td>2,245</td>\n",
       "      <td>2,565</td>\n",
       "      <td>179</td>\n",
       "      <td>-100%</td>\n",
       "      <td>-100%</td>\n",
       "      <td>-100%</td>\n",
       "      <td>-43%</td>\n",
       "    </tr>\n",
       "    <tr>\n",
       "      <th>5</th>\n",
       "      <td>Tonnes of Scope</td>\n",
       "      <td>NaN</td>\n",
       "      <td>NaN</td>\n",
       "      <td>NaN</td>\n",
       "      <td>NaN</td>\n",
       "      <td>NaN</td>\n",
       "      <td>NaN</td>\n",
       "      <td>NaN</td>\n",
       "      <td>NaN</td>\n",
       "      <td>NaN</td>\n",
       "      <td>NaN</td>\n",
       "      <td>NaN</td>\n",
       "      <td>NaN</td>\n",
       "    </tr>\n",
       "    <tr>\n",
       "      <th>6</th>\n",
       "      <td>2 CO2 avoided (*)</td>\n",
       "      <td>1,193</td>\n",
       "      <td>2,198</td>\n",
       "      <td>2,999</td>\n",
       "      <td>96</td>\n",
       "      <td>0</td>\n",
       "      <td>0</td>\n",
       "      <td>0</td>\n",
       "      <td>0</td>\n",
       "      <td>-</td>\n",
       "      <td>-</td>\n",
       "      <td>-</td>\n",
       "      <td>-</td>\n",
       "    </tr>\n",
       "    <tr>\n",
       "      <th>7</th>\n",
       "      <td>Tonnes CO2/ /</td>\n",
       "      <td>NaN</td>\n",
       "      <td>NaN</td>\n",
       "      <td>NaN</td>\n",
       "      <td>NaN</td>\n",
       "      <td>NaN</td>\n",
       "      <td>NaN</td>\n",
       "      <td>NaN</td>\n",
       "      <td>NaN</td>\n",
       "      <td>NaN</td>\n",
       "      <td>NaN</td>\n",
       "      <td>NaN</td>\n",
       "      <td>NaN</td>\n",
       "    </tr>\n",
       "    <tr>\n",
       "      <th>8</th>\n",
       "      <td>million units.</td>\n",
       "      <td>0.004</td>\n",
       "      <td>22.58</td>\n",
       "      <td>104.85</td>\n",
       "      <td>42.30</td>\n",
       "      <td>0.003</td>\n",
       "      <td>27.54</td>\n",
       "      <td>137.86</td>\n",
       "      <td>71.42</td>\n",
       "      <td>38%</td>\n",
       "      <td>-18%</td>\n",
       "      <td>-24%</td>\n",
       "      <td>-41%</td>\n",
       "    </tr>\n",
       "  </tbody>\n",
       "</table>\n",
       "</div>"
      ],
      "text/plain": [
       "          Unnamed: 0 Unnamed: 1  Madrid Alcalá de Unnamed: 2 Unnamed: 3  \\\n",
       "0                NaN    Granada  & SSRR   Henares     Distr.    Granada   \n",
       "1  Tonnes of Scope 1        NaN     NaN       NaN        NaN        NaN   \n",
       "2        CO2 emitted        805   1,494     2,663        836        468   \n",
       "3    Tonnes of Scope        NaN     NaN       NaN        NaN        NaN   \n",
       "4      2 CO2 emitted          0       0         0        102      1,101   \n",
       "5    Tonnes of Scope        NaN     NaN       NaN        NaN        NaN   \n",
       "6  2 CO2 avoided (*)      1,193   2,198     2,999         96          0   \n",
       "7      Tonnes CO2/ /        NaN     NaN       NaN        NaN        NaN   \n",
       "8     million units.      0.004   22.58    104.85      42.30      0.003   \n",
       "\n",
       "  Madrid.1 Alcalá de.1 Unnamed: 4 Unnamed: 5     Mad Unnamed: 6 Unnamed: 7  \n",
       "0   & SSRR     Henares     Distr.         Gr  y SSRR         AH     Distr.  \n",
       "1      NaN         NaN        NaN        NaN     NaN        NaN        NaN  \n",
       "2    1,399       2,880      1,262        72%      7%        -8%       -34%  \n",
       "3      NaN         NaN        NaN        NaN     NaN        NaN        NaN  \n",
       "4    2,245       2,565        179      -100%   -100%      -100%       -43%  \n",
       "5      NaN         NaN        NaN        NaN     NaN        NaN        NaN  \n",
       "6        0           0          0          -       -          -          -  \n",
       "7      NaN         NaN        NaN        NaN     NaN        NaN        NaN  \n",
       "8    27.54      137.86      71.42        38%    -18%       -24%       -41%  "
      ]
     },
     "execution_count": 19,
     "metadata": {},
     "output_type": "execute_result"
    }
   ],
   "source": [
    "tabla_ej = tabula.read_pdf('./data/rovi-sostenibilidad-2020.pdf', pages=91)[0]\n",
    "tabla_ej"
   ]
  },
  {
   "cell_type": "code",
   "execution_count": 75,
   "metadata": {},
   "outputs": [
    {
     "name": "stdout",
     "output_type": "stream",
     "text": [
      "hola\n",
      "['0 nan', '1 Granada', 'Madrid & SSRR', 'Alcalá de Henares', '2 Distr.', '3 Granada', 'Madrid.1 & SSRR', 'Alcalá de.1 Henares', '4 Distr.', '5 Gr', 'Mad y SSRR', '6 AH', '7 Distr.']\n"
     ]
    }
   ],
   "source": [
    "# Si las columnas tienen muchos 'Unnamed' suele ser porque hay\n",
    "# varias líneas de texto. En ese caso, las juntamos en una sola:\n",
    "if sum(['Unnamed' in i for i in tabla_ej.columns]) > 2:\n",
    "    print('hola')\n",
    "    nueva_columna = [f'{tabla_ej.columns[i]} {tabla_ej.iloc[0,i]}' for i in range(len(tabla_ej.columns))]\n",
    "    nueva_columna = [i.replace('Unnamed: ','') for i in nueva_columna]\n",
    "    print(nueva_columna)"
   ]
  },
  {
   "cell_type": "code",
   "execution_count": 85,
   "metadata": {},
   "outputs": [],
   "source": [
    "def tabla_a_texto(tabla):\n",
    "    '''\n",
    "    Función para convertir una tabla de pandas en un texto.\n",
    "    La idea es identificar los nombres de columna e índices correctos y\n",
    "    a partir de ahí generar un texto que pueda ser procesado por el modelo.\n",
    "    '''\n",
    "    tabla = tabla.copy()\n",
    "    \n",
    "    # Tamaño mínimo de tabla para que sea válida = 2x2\n",
    "    if sum(tabla.shape) < 4:\n",
    "        return ''\n",
    "    \n",
    "    # Lista de valores que consideramos NaN:\n",
    "    nan_equivalents = [np.NaN, np.nan,\n",
    "                       'nan', 'NaN', 'Nan', 'NAN', 'na', 'NA',\n",
    "                       'Unnamed:0', 'Unnamed: 0'\n",
    "                       '', '-', ' ', '  ', '   ']\n",
    "    \n",
    "    # Asumimos que el primer elemento es el título salvo si es NaN:\n",
    "    titulo = tabla.columns[0] if tabla.columns[0] not in nan_equivalents else ''\n",
    "    \n",
    "    # Asumimos que la primera columna es el índice y la eliminamos:\n",
    "    tabla.index = tabla[tabla.columns[0]].values\n",
    "    tabla.drop(columns=tabla.columns[0], inplace=True)\n",
    "\n",
    "    # Si las columnas tienen muchos 'Unnamed' suele ser porque hay\n",
    "    # varias líneas de texto. En ese caso, las juntamos en una sola:\n",
    "    if sum(['Unnamed' in i for i in tabla.columns]) > 2:\n",
    "        nueva_columna = [f'{tabla.columns[i]} {tabla.iloc[0,i]}'\n",
    "                         for i in range(len(tabla.columns))]\n",
    "        nueva_columna = [i.replace('Unnamed: ','') for i in nueva_columna]\n",
    "        tabla.columns = nueva_columna\n",
    "\n",
    "    \n",
    "    # Eliminamos las filas y columnas que no tienen datos:\n",
    "    tabla.replace(nan_equivalents, np.nan, inplace=True)\n",
    "    tabla.dropna(axis=0, how='all', inplace=True)\n",
    "    tabla.dropna(axis=1, how='all', inplace=True)\n",
    "    \n",
    "    # Check si las columnas son años:\n",
    "    col_años = False\n",
    "    years_txt=[str(i) for i in range(2015,2022)]\n",
    "    years_int=[i for i in range(2015,2022)]\n",
    "    years = set(years_txt+years_int)\n",
    "    cruce = set(tabla.columns).intersection(set(years))\n",
    "    if len(cruce) > 0: col_años=True\n",
    "    \n",
    "    # Si no son años las columnas, buscamos filas que sean años:\n",
    "    contexto = None\n",
    "    if not col_años:\n",
    "        for i in tabla.iterrows():\n",
    "            #print(i[1].values)\n",
    "            try:\n",
    "                cruce = set(i[1].values).intersection(set(years))\n",
    "            except:\n",
    "                cruce=[]\n",
    "            if len(cruce)>0: # Si encontramos una fila con años:\n",
    "                # Asignamos los años a las columnas:\n",
    "                tabla.columns = i[1].values\n",
    "                try: \n",
    "                    contexto = i[1].name\n",
    "                except:\n",
    "                    contexto = None\n",
    "                # Drop de la fila:\n",
    "                tabla.drop(i[0], inplace=True)\n",
    "                break\n",
    "    # Los procesos anteriores pueden haber dejado filas vacías, las eliminamos:\n",
    "    tabla.replace(nan_equivalents, np.nan, inplace=True)\n",
    "    tabla.dropna(axis=0, how='all', inplace=True)\n",
    "    tabla.dropna(axis=1, how='all', inplace=True)\n",
    "    # Pasamos a texto:\n",
    "    texto = ''\n",
    "    for i in tabla.items():\n",
    "        txt = [f' {titulo} + {i[0]} + {x[0]} = {x[1]}; '\n",
    "            for x in list(i[1].items())]\n",
    "        add= ''.join(txt)\n",
    "        if contexto:\n",
    "            txt = [f' {titulo} + {contexto} + {i[0]} + {x[0]} = {x[1]}; '\n",
    "                for x in list(i[1].items())]\n",
    "            add = ''.join(txt)\n",
    "        add = add.replace('  ',' ').replace('\\n','; ').replace('  ','')\n",
    "        texto += f';  Tabla={titulo}: {add}'\n",
    "    return texto"
   ]
  },
  {
   "cell_type": "code",
   "execution_count": 86,
   "metadata": {},
   "outputs": [
    {
     "data": {
      "text/plain": [
       "';  Tabla=:  + 1 Granada + nan = Granada;+ 1 Granada + CO2 emitted = 805;+ 1 Granada + 2 CO2 emitted = 0;+ 1 Granada + 2 CO2 avoided (*) = 1,193;+ 1 Granada + million units. = 0.004; ;  Tabla=:  + Madrid & SSRR + nan = & SSRR;+ Madrid & SSRR + CO2 emitted = 1,494;+ Madrid & SSRR + 2 CO2 emitted = 0;+ Madrid & SSRR + 2 CO2 avoided (*) = 2,198;+ Madrid & SSRR + million units. = 22.58; ;  Tabla=:  + Alcalá de Henares + nan = Henares;+ Alcalá de Henares + CO2 emitted = 2,663;+ Alcalá de Henares + 2 CO2 emitted = 0;+ Alcalá de Henares + 2 CO2 avoided (*) = 2,999;+ Alcalá de Henares + million units. = 104.85; ;  Tabla=:  + 2 Distr. + nan = Distr.;+ 2 Distr. + CO2 emitted = 836;+ 2 Distr. + 2 CO2 emitted = 102;+ 2 Distr. + 2 CO2 avoided (*) = 96;+ 2 Distr. + million units. = 42.30; ;  Tabla=:  + 3 Granada + nan = Granada;+ 3 Granada + CO2 emitted = 468;+ 3 Granada + 2 CO2 emitted = 1,101;+ 3 Granada + 2 CO2 avoided (*) = 0;+ 3 Granada + million units. = 0.003; ;  Tabla=:  + Madrid.1 & SSRR + nan = & SSRR;+ Madrid.1 & SSRR + CO2 emitted = 1,399;+ Madrid.1 & SSRR + 2 CO2 emitted = 2,245;+ Madrid.1 & SSRR + 2 CO2 avoided (*) = 0;+ Madrid.1 & SSRR + million units. = 27.54; ;  Tabla=:  + Alcalá de.1 Henares + nan = Henares;+ Alcalá de.1 Henares + CO2 emitted = 2,880;+ Alcalá de.1 Henares + 2 CO2 emitted = 2,565;+ Alcalá de.1 Henares + 2 CO2 avoided (*) = 0;+ Alcalá de.1 Henares + million units. = 137.86; ;  Tabla=:  + 4 Distr. + nan = Distr.;+ 4 Distr. + CO2 emitted = 1,262;+ 4 Distr. + 2 CO2 emitted = 179;+ 4 Distr. + 2 CO2 avoided (*) = 0;+ 4 Distr. + million units. = 71.42; ;  Tabla=:  + 5 Gr + nan = Gr;+ 5 Gr + CO2 emitted = 72%;+ 5 Gr + 2 CO2 emitted = -100%;+ 5 Gr + 2 CO2 avoided (*) = nan;+ 5 Gr + million units. = 38%; ;  Tabla=:  + Mad y SSRR + nan = y SSRR;+ Mad y SSRR + CO2 emitted = 7%;+ Mad y SSRR + 2 CO2 emitted = -100%;+ Mad y SSRR + 2 CO2 avoided (*) = nan;+ Mad y SSRR + million units. = -18%; ;  Tabla=:  + 6 AH + nan = AH;+ 6 AH + CO2 emitted = -8%;+ 6 AH + 2 CO2 emitted = -100%;+ 6 AH + 2 CO2 avoided (*) = nan;+ 6 AH + million units. = -24%; ;  Tabla=:  + 7 Distr. + nan = Distr.;+ 7 Distr. + CO2 emitted = -34%;+ 7 Distr. + 2 CO2 emitted = -43%;+ 7 Distr. + 2 CO2 avoided (*) = nan;+ 7 Distr. + million units. = -41%; '"
      ]
     },
     "execution_count": 86,
     "metadata": {},
     "output_type": "execute_result"
    }
   ],
   "source": [
    "tabla_a_texto(tabla_ej)"
   ]
  },
  {
   "cell_type": "code",
   "execution_count": 50,
   "metadata": {},
   "outputs": [],
   "source": [
    "tabla = tabla_ej.copy()\n",
    "    \n",
    "# Tamaño mínimo de tabla para que sea válida = 2x2\n",
    "if sum(tabla.shape) < 4:\n",
    "    None\n",
    "\n",
    "# Lista de valores que consideramos NaN:\n",
    "nan_equivalents = [np.NaN, np.nan,\n",
    "                    'nan', 'NaN', 'Nan', 'NAN', 'na', 'NA',\n",
    "                    'Unnamed:0',\n",
    "                    '', '-', ' ', '  ', '   ']\n",
    "\n",
    "# Asumimos que el primer elemento es el título salvo si es NaN:\n",
    "titulo = tabla.columns[0] if tabla.columns[0] not in nan_equivalents else ''\n",
    "\n",
    "# Asumimos que la primera columna es el índice y la eliminamos:\n",
    "tabla.index = tabla[tabla.columns[0]].values\n",
    "tabla.drop(columns=tabla.columns[0], inplace=True)\n",
    "\n",
    "# Eliminamos las filas y columnas que no tienen datos:\n",
    "tabla.replace(nan_equivalents, np.nan, inplace=True)\n",
    "tabla.dropna(axis=0, how='all', inplace=True)\n",
    "tabla.dropna(axis=1, how='all', inplace=True)\n",
    "\n",
    "# Check si las columnas son años:\n",
    "col_años = False\n",
    "years_txt=[str(i) for i in range(2015,2022)]\n",
    "years_int=[i for i in range(2015,2022)]\n",
    "years = set(years_txt+years_int)\n",
    "cruce = set(tabla.columns).intersection(set(years))\n",
    "if len(cruce) > 0: col_años=True\n",
    "\n",
    "# Si no son años las columnas, buscamos filas que sean años:\n",
    "contexto = None\n",
    "if not col_años:\n",
    "    for i in tabla.iterrows():\n",
    "        #print(i[1].values)\n",
    "        try:\n",
    "            cruce = set(i[1].values).intersection(set(years))\n",
    "        except:\n",
    "            cruce=[]\n",
    "        if len(cruce)>0: # Si encontramos una fila con años:\n",
    "            # Asignamos los años a las columnas:\n",
    "            tabla.columns = i[1].values\n",
    "            try: \n",
    "                contexto = i[1].name\n",
    "            except:\n",
    "                contexto = None\n",
    "            # Drop de la fila:\n",
    "            tabla.drop(i[0], inplace=True)\n",
    "            break\n",
    "# Los procesos anteriores pueden haber dejado filas vacías, las eliminamos:\n",
    "tabla.replace(nan_equivalents, np.nan, inplace=True)\n",
    "tabla.dropna(axis=0, how='all', inplace=True)\n",
    "tabla.dropna(axis=1, how='all', inplace=True)\n",
    "# Pasamos a texto:\n",
    "\n"
   ]
  },
  {
   "cell_type": "code",
   "execution_count": 51,
   "metadata": {},
   "outputs": [],
   "source": [
    "texto = ''\n",
    "for i in tabla.items():\n",
    "    txt = [f'{titulo} + {i[0]} + {x[0]} = {x[1]}; '\n",
    "           for x in list(i[1].items())]\n",
    "    add= ''.join(txt)\n",
    "    if contexto:\n",
    "        txt = [f'{titulo} + {contexto} + {i[0]} + {x[0]} = {x[1]}; '\n",
    "               for x in list(i[1].items())]\n",
    "        add = ''.join(txt)\n",
    "    add = add.replace('  ',' ').replace('\\n','; ').replace('  ','')\n",
    "    texto += f';  Tabla={titulo}: {add}'"
   ]
  },
  {
   "cell_type": "code",
   "execution_count": 52,
   "metadata": {},
   "outputs": [
    {
     "data": {
      "text/plain": [
       "';  Tabla=Unnamed: 0: Unnamed: 0 + Unnamed: 1 + nan = Granada; Unnamed: 0 + Unnamed: 1 + CO2 emitted = 805; Unnamed: 0 + Unnamed: 1 + 2 CO2 emitted = 0; Unnamed: 0 + Unnamed: 1 + 2 CO2 avoided (*) = 1,193; Unnamed: 0 + Unnamed: 1 + million units. = 0.004; ;  Tabla=Unnamed: 0: Unnamed: 0 + Madrid + nan = & SSRR; Unnamed: 0 + Madrid + CO2 emitted = 1,494; Unnamed: 0 + Madrid + 2 CO2 emitted = 0; Unnamed: 0 + Madrid + 2 CO2 avoided (*) = 2,198; Unnamed: 0 + Madrid + million units. = 22.58; ;  Tabla=Unnamed: 0: Unnamed: 0 + Alcalá de + nan = Henares; Unnamed: 0 + Alcalá de + CO2 emitted = 2,663; Unnamed: 0 + Alcalá de + 2 CO2 emitted = 0; Unnamed: 0 + Alcalá de + 2 CO2 avoided (*) = 2,999; Unnamed: 0 + Alcalá de + million units. = 104.85; ;  Tabla=Unnamed: 0: Unnamed: 0 + Unnamed: 2 + nan = Distr.; Unnamed: 0 + Unnamed: 2 + CO2 emitted = 836; Unnamed: 0 + Unnamed: 2 + 2 CO2 emitted = 102; Unnamed: 0 + Unnamed: 2 + 2 CO2 avoided (*) = 96; Unnamed: 0 + Unnamed: 2 + million units. = 42.30; ;  Tabla=Unnamed: 0: Unnamed: 0 + Unnamed: 3 + nan = Granada; Unnamed: 0 + Unnamed: 3 + CO2 emitted = 468; Unnamed: 0 + Unnamed: 3 + 2 CO2 emitted = 1,101; Unnamed: 0 + Unnamed: 3 + 2 CO2 avoided (*) = 0; Unnamed: 0 + Unnamed: 3 + million units. = 0.003; ;  Tabla=Unnamed: 0: Unnamed: 0 + Madrid.1 + nan = & SSRR; Unnamed: 0 + Madrid.1 + CO2 emitted = 1,399; Unnamed: 0 + Madrid.1 + 2 CO2 emitted = 2,245; Unnamed: 0 + Madrid.1 + 2 CO2 avoided (*) = 0; Unnamed: 0 + Madrid.1 + million units. = 27.54; ;  Tabla=Unnamed: 0: Unnamed: 0 + Alcalá de.1 + nan = Henares; Unnamed: 0 + Alcalá de.1 + CO2 emitted = 2,880; Unnamed: 0 + Alcalá de.1 + 2 CO2 emitted = 2,565; Unnamed: 0 + Alcalá de.1 + 2 CO2 avoided (*) = 0; Unnamed: 0 + Alcalá de.1 + million units. = 137.86; ;  Tabla=Unnamed: 0: Unnamed: 0 + Unnamed: 4 + nan = Distr.; Unnamed: 0 + Unnamed: 4 + CO2 emitted = 1,262; Unnamed: 0 + Unnamed: 4 + 2 CO2 emitted = 179; Unnamed: 0 + Unnamed: 4 + 2 CO2 avoided (*) = 0; Unnamed: 0 + Unnamed: 4 + million units. = 71.42; ;  Tabla=Unnamed: 0: Unnamed: 0 + Unnamed: 5 + nan = Gr; Unnamed: 0 + Unnamed: 5 + CO2 emitted = 72%; Unnamed: 0 + Unnamed: 5 + 2 CO2 emitted = -100%; Unnamed: 0 + Unnamed: 5 + 2 CO2 avoided (*) = nan; Unnamed: 0 + Unnamed: 5 + million units. = 38%; ;  Tabla=Unnamed: 0: Unnamed: 0 + Mad + nan = y SSRR; Unnamed: 0 + Mad + CO2 emitted = 7%; Unnamed: 0 + Mad + 2 CO2 emitted = -100%; Unnamed: 0 + Mad + 2 CO2 avoided (*) = nan; Unnamed: 0 + Mad + million units. = -18%; ;  Tabla=Unnamed: 0: Unnamed: 0 + Unnamed: 6 + nan = AH; Unnamed: 0 + Unnamed: 6 + CO2 emitted = -8%; Unnamed: 0 + Unnamed: 6 + 2 CO2 emitted = -100%; Unnamed: 0 + Unnamed: 6 + 2 CO2 avoided (*) = nan; Unnamed: 0 + Unnamed: 6 + million units. = -24%; ;  Tabla=Unnamed: 0: Unnamed: 0 + Unnamed: 7 + nan = Distr.; Unnamed: 0 + Unnamed: 7 + CO2 emitted = -34%; Unnamed: 0 + Unnamed: 7 + 2 CO2 emitted = -43%; Unnamed: 0 + Unnamed: 7 + 2 CO2 avoided (*) = nan; Unnamed: 0 + Unnamed: 7 + million units. = -41%; '"
      ]
     },
     "execution_count": 52,
     "metadata": {},
     "output_type": "execute_result"
    }
   ],
   "source": [
    "texto"
   ]
  },
  {
   "cell_type": "code",
   "execution_count": 49,
   "metadata": {},
   "outputs": [
    {
     "data": {
      "text/plain": [
       "'Unnamed: 1 + nan = Granada; Unnamed: 1 + CO2 emitted = 805; Unnamed: 1 + 2 CO2 emitted = 0; Unnamed: 1 + 2 CO2 avoided (*) = 1,193; Unnamed: 1 + million units. = 0.004; '"
      ]
     },
     "execution_count": 49,
     "metadata": {},
     "output_type": "execute_result"
    }
   ],
   "source": [
    "''.join([f'{i[0]} + {x[0]} = {x[1]}; ' for x in list(i[1].items())])"
   ]
  },
  {
   "cell_type": "code",
   "execution_count": 43,
   "metadata": {},
   "outputs": [
    {
     "data": {
      "text/plain": [
       "'Unnamed: 1 + nan = GranadaUnnamed: 1 + CO2 emitted = 805Unnamed: 1 + 2 CO2 emitted = 0Unnamed: 1 + 2 CO2 avoided (*) = 1,193Unnamed: 1 + million units. = 0.004'"
      ]
     },
     "execution_count": 43,
     "metadata": {},
     "output_type": "execute_result"
    }
   ],
   "source": [
    "add"
   ]
  },
  {
   "cell_type": "code",
   "execution_count": 35,
   "metadata": {},
   "outputs": [
    {
     "data": {
      "text/plain": [
       "[(nan, 'Granada'),\n",
       " ('CO2 emitted', '805'),\n",
       " ('2 CO2 emitted', '0'),\n",
       " ('2 CO2 avoided (*)', '1,193'),\n",
       " ('million units.', '0.004')]"
      ]
     },
     "execution_count": 35,
     "metadata": {},
     "output_type": "execute_result"
    }
   ],
   "source": [
    "list(i[1].items())"
   ]
  },
  {
   "cell_type": "code",
   "execution_count": 128,
   "metadata": {},
   "outputs": [],
   "source": [
    "test = tabla_a_texto(tabla_ej)"
   ]
  },
  {
   "cell_type": "code",
   "execution_count": 129,
   "metadata": {},
   "outputs": [
    {
     "data": {
      "text/plain": [
       "';  KEY FIGURES: A-Contexto: (million euros) B-Contenido:1-Columna: 2020.0 2-Datos: [Total revenue 421.100; EBITDA 94.200; Net financial debt 19.800; Employees1.419; Name: 2020.0, dtype: float64];  KEY FIGURES: A-Contexto: (million euros) B-Contenido:1-Columna: 2019.0 2-Datos: [Total revenue 382.50; EBITDA 60.90; Net financial debt 15.90; Employees1.31; Name: 2019.0, dtype: float64];  KEY FIGURES: A-Contexto: (million euros) B-Contenido:1-Columna: 2018.0 2-Datos: [Total revenue 304.800; EBITDA 29.500; Net financial debt-62.800; Employees1.224; Name: 2018.0, dtype: float64];  KEY FIGURES: A-Contexto: (million euros) B-Contenido:1-Columna: 2017.0 2-Datos: [Total revenue 277.400; EBITDA 29.900; Net financial debt 1.100; Employees1.191; Name: 2017.0, dtype: float64]'"
      ]
     },
     "execution_count": 129,
     "metadata": {},
     "output_type": "execute_result"
    }
   ],
   "source": [
    "test"
   ]
  },
  {
   "cell_type": "code",
   "execution_count": 101,
   "metadata": {},
   "outputs": [
    {
     "name": "stdout",
     "output_type": "stream",
     "text": [
      "                     2020.0  2019.0   2018.0   2017.0\n",
      "KEY FIGURES                                          \n",
      "Total revenue       421.100  382.50  304.800  277.400\n",
      "EBITDA               94.200   60.90   29.500   29.900\n",
      "Net financial debt   19.800   15.90  -62.800    1.100\n",
      "Employees             1.419    1.31    1.224    1.191\n",
      "                     2020.0  2019.0   2018.0   2017.0\n",
      "KEY FIGURES                                          \n",
      "Total revenue       421.100  382.50  304.800  277.400\n",
      "EBITDA               94.200   60.90   29.500   29.900\n",
      "Net financial debt   19.800   15.90  -62.800    1.100\n",
      "Employees             1.419    1.31    1.224    1.191\n"
     ]
    },
    {
     "data": {
      "text/plain": [
       "'KEY FIGURES;  KEY FIGURES: 1-Columna: 2020.0 2-Datos: [KEY FIGURES; Total revenue 421.100; EBITDA 94.200; Net financial debt 19.800; Employees1.419; Name: 2020.0, dtype: float64];  KEY FIGURES: 1-Columna: 2019.0 2-Datos: [KEY FIGURES; Total revenue 382.50; EBITDA 60.90; Net financial debt 15.90; Employees1.31; Name: 2019.0, dtype: float64];  KEY FIGURES: 1-Columna: 2018.0 2-Datos: [KEY FIGURES; Total revenue 304.800; EBITDA 29.500; Net financial debt-62.800; Employees1.224; Name: 2018.0, dtype: float64];  KEY FIGURES: 1-Columna: 2017.0 2-Datos: [KEY FIGURES; Total revenue 277.400; EBITDA 29.900; Net financial debt 1.100; Employees1.191; Name: 2017.0, dtype: float64]'"
      ]
     },
     "execution_count": 101,
     "metadata": {},
     "output_type": "execute_result"
    }
   ],
   "source": [
    "tabla_a_texto(tabla_ej)"
   ]
  },
  {
   "cell_type": "code",
   "execution_count": 14,
   "metadata": {},
   "outputs": [],
   "source": [
    "tabla_ej.index = tabla_ej[tabla_ej.columns[0]]\n",
    "tabla_ej.drop(columns=tabla_ej.columns[0], inplace=True)"
   ]
  },
  {
   "cell_type": "code",
   "execution_count": 49,
   "metadata": {},
   "outputs": [
    {
     "data": {
      "text/plain": [
       "'1-Columna: Unnamed: 0 2-Datos: [KEY FIGURES; (million euros)2020.000; Total revenue 421.100; EBITDA 94.200; Net financial debt 19.800; Employees1.419; Name: Unnamed: 0, dtype: float64]'"
      ]
     },
     "execution_count": 49,
     "metadata": {},
     "output_type": "execute_result"
    }
   ],
   "source": [
    "f'1-Columna: {i[0]} 2-Datos: [{i[1]}]'.replace('  ',' ').replace('\\n','; ').replace('  ','')"
   ]
  },
  {
   "cell_type": "code",
   "execution_count": 34,
   "metadata": {},
   "outputs": [
    {
     "name": "stdout",
     "output_type": "stream",
     "text": [
      "('Unnamed: 0', KEY FIGURES\n",
      "(million euros)       2020.000\n",
      "Total revenue          421.100\n",
      "EBITDA                  94.200\n",
      "Net financial debt      19.800\n",
      "Employees                1.419\n",
      "Name: Unnamed: 0, dtype: float64)\n"
     ]
    },
    {
     "name": "stderr",
     "output_type": "stream",
     "text": [
      "C:\\Users\\Faji\\AppData\\Local\\Temp\\ipykernel_2796\\1429811112.py:1: FutureWarning: iteritems is deprecated and will be removed in a future version. Use .items instead.\n",
      "  for i in tabla_ej.iteritems():\n"
     ]
    }
   ],
   "source": [
    "for i in tabla_ej.iteritems():\n",
    "    print(i)\n",
    "    break"
   ]
  },
  {
   "cell_type": "code",
   "execution_count": 38,
   "metadata": {},
   "outputs": [
    {
     "data": {
      "text/plain": [
       "\"('Unnamed: 0', KEY FIGURES\\n(million euros)       2020.000\\nTotal revenue          421.100\\nEBITDA                  94.200\\nNet financial debt      19.800\\nEmployees                1.419\\nName: Unnamed: 0, dtype: float64)\""
      ]
     },
     "execution_count": 38,
     "metadata": {},
     "output_type": "execute_result"
    }
   ],
   "source": [
    "str(i)"
   ]
  },
  {
   "cell_type": "code",
   "execution_count": 20,
   "metadata": {},
   "outputs": [
    {
     "data": {
      "text/html": [
       "<div>\n",
       "<style scoped>\n",
       "    .dataframe tbody tr th:only-of-type {\n",
       "        vertical-align: middle;\n",
       "    }\n",
       "\n",
       "    .dataframe tbody tr th {\n",
       "        vertical-align: top;\n",
       "    }\n",
       "\n",
       "    .dataframe thead th {\n",
       "        text-align: right;\n",
       "    }\n",
       "</style>\n",
       "<table border=\"1\" class=\"dataframe\">\n",
       "  <thead>\n",
       "    <tr style=\"text-align: right;\">\n",
       "      <th></th>\n",
       "      <th>Unnamed: 0</th>\n",
       "      <th>Unnamed: 1</th>\n",
       "      <th>Unnamed: 2</th>\n",
       "      <th>Unnamed: 3</th>\n",
       "      <th>102-7</th>\n",
       "    </tr>\n",
       "    <tr>\n",
       "      <th>KEY FIGURES</th>\n",
       "      <th></th>\n",
       "      <th></th>\n",
       "      <th></th>\n",
       "      <th></th>\n",
       "      <th></th>\n",
       "    </tr>\n",
       "  </thead>\n",
       "  <tbody>\n",
       "    <tr>\n",
       "      <th>(million euros)</th>\n",
       "      <td>2020.000</td>\n",
       "      <td>2019.00</td>\n",
       "      <td>2018.000</td>\n",
       "      <td>2017.000</td>\n",
       "      <td>NaN</td>\n",
       "    </tr>\n",
       "    <tr>\n",
       "      <th>Total revenue</th>\n",
       "      <td>421.100</td>\n",
       "      <td>382.50</td>\n",
       "      <td>304.800</td>\n",
       "      <td>277.400</td>\n",
       "      <td>NaN</td>\n",
       "    </tr>\n",
       "    <tr>\n",
       "      <th>EBITDA</th>\n",
       "      <td>94.200</td>\n",
       "      <td>60.90</td>\n",
       "      <td>29.500</td>\n",
       "      <td>29.900</td>\n",
       "      <td>NaN</td>\n",
       "    </tr>\n",
       "    <tr>\n",
       "      <th>Net financial debt</th>\n",
       "      <td>19.800</td>\n",
       "      <td>15.90</td>\n",
       "      <td>-62.800</td>\n",
       "      <td>1.100</td>\n",
       "      <td>NaN</td>\n",
       "    </tr>\n",
       "    <tr>\n",
       "      <th>Employees</th>\n",
       "      <td>1.419</td>\n",
       "      <td>1.31</td>\n",
       "      <td>1.224</td>\n",
       "      <td>1.191</td>\n",
       "      <td>NaN</td>\n",
       "    </tr>\n",
       "  </tbody>\n",
       "</table>\n",
       "</div>"
      ],
      "text/plain": [
       "                    Unnamed: 0  Unnamed: 1  Unnamed: 2  Unnamed: 3  102-7\n",
       "KEY FIGURES                                                              \n",
       "(million euros)       2020.000     2019.00    2018.000    2017.000    NaN\n",
       "Total revenue          421.100      382.50     304.800     277.400    NaN\n",
       "EBITDA                  94.200       60.90      29.500      29.900    NaN\n",
       "Net financial debt      19.800       15.90     -62.800       1.100    NaN\n",
       "Employees                1.419        1.31       1.224       1.191    NaN"
      ]
     },
     "execution_count": 20,
     "metadata": {},
     "output_type": "execute_result"
    }
   ],
   "source": [
    "tabla_ej"
   ]
  },
  {
   "cell_type": "code",
   "execution_count": 151,
   "metadata": {},
   "outputs": [],
   "source": [
    "def limpieza_passages(texto):\n",
    "  '''\n",
    "  Dado un texto realiza una limpieza caracteres especiales, transformar a minusculas y eleiminar urls\n",
    "  Args:\n",
    "        texto (str): texto a limpiar\n",
    "\n",
    "    Returns:\n",
    "        text(str): texto limpio\n",
    "  '''\n",
    "  texto=texto.replace(\"\\n\",\" \")\n",
    "  texto=texto.replace(\"\\t\",\" \")\n",
    "  texto=texto.replace(\"\\\\r\",\" \")\n",
    "  texto=texto.replace(\"\\r\",\" \")\n",
    "  texto=texto.replace(\" - \",\"\")\n",
    "  texto=texto.replace(\"- \",\"\")\n",
    "  texto=texto.replace(\"-\",\"\")\n",
    "  texto=texto.replace(\" -\",\"\")\n",
    "  texto=texto.replace(\">\",\" \")\n",
    "  texto=texto.lower()\n",
    "  texto = re.sub(r'^https?:\\/\\/.*[\\r\\n]*', '', texto, flags=re.MULTILINE)\n",
    " \n",
    "  return texto\n",
    "\n",
    "def columnas_son_años(columnas):\n",
    "  '''\n",
    "  Dado una lista de columnas determina si son años \n",
    "  Args:\n",
    "        columnas list(str): nombre de las columnas de una tabla\n",
    "       \n",
    "  Return:\n",
    "      Bool: indica si son años o no\n",
    "  '''\n",
    "  años=['2019','2020','2021','2018','2017']\n",
    "  años = set(años)\n",
    "  columnas = set(columnas)\n",
    "  son=False\n",
    "  interseccion= set(columnas).intersection(años)\n",
    "  interseccion = list(interseccion)\n",
    "\n",
    "  \n",
    "  if len(interseccion)>1:\n",
    "    son=True\n",
    "  return son \n",
    "\n",
    "def tabla_to_lines(df,año_actual):\n",
    "  '''\n",
    "  Extrae la informacion de una tabla a un texto. Ademas si las columnas son años, solo extrae la informacion del año que estamos estudiando\n",
    "  Args:\n",
    "        df Dataframe: tabla en formato dataframe de la que queremos extraer la informacion.\n",
    "        año_actual str: año del que hacemos el estudio\n",
    "       \n",
    "  Return:\n",
    "      txt: con la informacion de la tabla\n",
    "  '''\n",
    "  columnas=list(df.columns)\n",
    "  num_columnas=df.shape[1]\n",
    "  num_filas=df.shape[0]\n",
    "  if num_filas>0 and num_columnas>0:\n",
    "    titulo=titulo=columnas[0]\n",
    "    filas=list(df.iloc[0:,0])\n",
    "    texto=''\n",
    "    if columnas_son_años(columnas[1:])==False:\n",
    "      for i in range(0,num_filas):\n",
    "        \n",
    "        for j in range(1,num_columnas):\n",
    "          \n",
    "          dato=df.iloc[i,j]\n",
    "          if str(dato)!='Nan' and str(dato)!='na' and str(dato)!='NaN' and str(dato)!='nan':\n",
    "            if str(columnas[j])[0:8]!='Unnamed:':\n",
    "              if str(titulo) !='Unnamed: 0':\n",
    "                if str(filas[i])!='nan':\n",
    "                  texto=texto+' '+str(titulo)+' '+str(dato)+' '+str(filas[i])+' '+str(columnas[j])+'             '\n",
    "                else: \n",
    "                  texto=texto+' '+str(titulo)+' '+str(dato)+' '+str(columnas[j])+'             '\n",
    "              else:\n",
    "                if str(filas[i])!='nan':\n",
    "                  texto=texto+' '+str(dato)+' '+str(filas[i])+' '+str(columnas[j])+'             '\n",
    "                else: \n",
    "                  texto=texto+' '+str(dato)+' '+str(columnas[j])+'             '\n",
    "              \n",
    "            else:\n",
    "              if str(titulo) !='Unnamed: 0':\n",
    "                if str(filas[i])!='nan':\n",
    "                  texto=texto+' '+str(titulo)+' '+str(dato)+' '+str(filas[i])+'             '\n",
    "                else: \n",
    "                  texto=texto+' '+str(titulo)+' '+str(dato)+'             '\n",
    "              else:\n",
    "                if str(filas[i])!='nan':\n",
    "                  texto=texto+' '+str(dato)+' '+str(filas[i])+'             '\n",
    "                else: \n",
    "                  texto=texto+' '+str(dato)+'                  '\n",
    "    else:\n",
    "      indice_actual=columnas.index(año_actual)\n",
    "      for i in range(0,num_filas):\n",
    "        \n",
    "        \n",
    "          \n",
    "          dato=df.iloc[i,indice_actual]\n",
    "          if str(dato)!='Nan' and str(dato)!='na' and str(dato)!='NaN' and str(dato)!='nan':\n",
    "            \n",
    "              if str(titulo) !='Unnamed: 0':\n",
    "                if str(filas[i])!='nan':\n",
    "\n",
    "                  texto=texto+' '+str(titulo)+' '+str(dato)+' '+str(filas[i])+' '+str(columnas[indice_actual])+'             '\n",
    "                else: \n",
    "                  texto=texto+' '+str(titulo)+' '+str(dato)+' '+str(columnas[indice_actual])+'             '\n",
    "                \n",
    "              else:\n",
    "                if str(filas[i])!='nan':\n",
    "                  texto=texto+' '+str(dato)+' '+str(filas[i])+' '+str(columnas[indice_actual])+'             '\n",
    "                else: \n",
    "                  texto=texto+' '+str(dato)+' '+str(columnas[indice_actual])+'                  '\n",
    "             \n",
    "    return limpieza_passages(texto)"
   ]
  },
  {
   "cell_type": "code",
   "execution_count": 22,
   "metadata": {},
   "outputs": [
    {
     "data": {
      "text/plain": [
       "' key figures 2020.0 (million euros)              key figures 2019.0 (million euros)              key figures 2018.0 (million euros)              key figures 2017.0 (million euros)              key figures 421.1 total revenue              key figures 382.5 total revenue              key figures 304.8 total revenue              key figures 277.4 total revenue              key figures 94.2 ebitda              key figures 60.9 ebitda              key figures 29.5 ebitda              key figures 29.9 ebitda              key figures 19.8 net financial debt              key figures 15.9 net financial debt              key figures 62.8 net financial debt              key figures 1.1 net financial debt              key figures 1.419 employees              key figures 1.31 employees              key figures 1.224 employees              key figures 1.191 employees             '"
      ]
     },
     "execution_count": 22,
     "metadata": {},
     "output_type": "execute_result"
    }
   ],
   "source": [
    "tabla_to_lines(tabula.read_pdf('./data/rovi-sostenibilidad-2020.pdf', pages=14)[0],'2020')"
   ]
  },
  {
   "cell_type": "code",
   "execution_count": 26,
   "metadata": {},
   "outputs": [
    {
     "data": {
      "text/plain": [
       "False"
      ]
     },
     "execution_count": 26,
     "metadata": {},
     "output_type": "execute_result"
    }
   ],
   "source": [
    "columnas_son_años(tabla_ej.columns)"
   ]
  },
  {
   "cell_type": "code",
   "execution_count": 37,
   "metadata": {},
   "outputs": [
    {
     "data": {
      "text/plain": [
       "array(['(million euros)', 2020.0, 2019.0, 2018.0, 2017.0, nan],\n",
       "      dtype=object)"
      ]
     },
     "execution_count": 37,
     "metadata": {},
     "output_type": "execute_result"
    }
   ],
   "source": [
    "tabla_ej.iloc[0,:].values"
   ]
  },
  {
   "cell_type": "code",
   "execution_count": 39,
   "metadata": {},
   "outputs": [
    {
     "data": {
      "text/plain": [
       "{2017, 2018, 2019, 2020}"
      ]
     },
     "execution_count": 39,
     "metadata": {},
     "output_type": "execute_result"
    }
   ],
   "source": [
    "set(tabla_ej.iloc[0,:].values).intersection(set([2019,2020,2021,2018,2017]))"
   ]
  },
  {
   "cell_type": "code",
   "execution_count": 41,
   "metadata": {},
   "outputs": [
    {
     "ename": "TypeError",
     "evalue": "int() argument must be a string, a bytes-like object or a number, not 'list'",
     "output_type": "error",
     "traceback": [
      "\u001b[1;31m---------------------------------------------------------------------------\u001b[0m",
      "\u001b[1;31mTypeError\u001b[0m                                 Traceback (most recent call last)",
      "Cell \u001b[1;32mIn[41], line 1\u001b[0m\n\u001b[1;32m----> 1\u001b[0m \u001b[39mint\u001b[39;49m(años)\n",
      "\u001b[1;31mTypeError\u001b[0m: int() argument must be a string, a bytes-like object or a number, not 'list'"
     ]
    }
   ],
   "source": [
    "int(años)"
   ]
  },
  {
   "cell_type": "code",
   "execution_count": null,
   "metadata": {},
   "outputs": [],
   "source": [
    "def filas_son_años2(df):\n",
    "  '''\n",
    "  xx\n",
    "  '''\n",
    "  years_txt=['2019','2020','2021','2018','2017']\n",
    "  years_int=[2019,2020,2021,2018,2017]\n",
    "  years = set(years_txt+years_int)\n",
    "  columnas = set(columnas)\n",
    "  son=False\n",
    "  interseccion= set(columnas).intersection(years)\n",
    "  interseccion = list(interseccion)\n",
    "  \n",
    "  if len(interseccion)>1:\n",
    "    son=True\n",
    "    return son\n",
    "  else:"
   ]
  },
  {
   "cell_type": "code",
   "execution_count": 58,
   "metadata": {},
   "outputs": [],
   "source": [
    "years_txt=['2019','2020','2021','2018','2017']\n",
    "years_int=[2019,2020,2021,2018,2017]\n",
    "years = set(years_txt+years_int)"
   ]
  },
  {
   "cell_type": "code",
   "execution_count": 61,
   "metadata": {},
   "outputs": [
    {
     "name": "stdout",
     "output_type": "stream",
     "text": [
      "{2017.0, 2018.0, 2019.0, 2020.0}\n"
     ]
    }
   ],
   "source": [
    "for i in tabla_ej.iterrows():\n",
    "    #print(i[1].values)\n",
    "    try:\n",
    "        cruce = set(i[1].values).intersection(set(years))\n",
    "        if len(cruce)>0:\n",
    "            return i[0]\n",
    "    break"
   ]
  },
  {
   "cell_type": "code",
   "execution_count": 71,
   "metadata": {},
   "outputs": [
    {
     "data": {
      "text/plain": [
       "0       (million euros)\n",
       "1         Total revenue\n",
       "2                EBITDA\n",
       "3    Net financial debt\n",
       "4             Employees\n",
       "Name: KEY FIGURES, dtype: object"
      ]
     },
     "execution_count": 71,
     "metadata": {},
     "output_type": "execute_result"
    }
   ],
   "source": [
    "tabla_ej.iloc[:,0]"
   ]
  },
  {
   "cell_type": "code",
   "execution_count": 72,
   "metadata": {},
   "outputs": [
    {
     "data": {
      "text/html": [
       "<div>\n",
       "<style scoped>\n",
       "    .dataframe tbody tr th:only-of-type {\n",
       "        vertical-align: middle;\n",
       "    }\n",
       "\n",
       "    .dataframe tbody tr th {\n",
       "        vertical-align: top;\n",
       "    }\n",
       "\n",
       "    .dataframe thead th {\n",
       "        text-align: right;\n",
       "    }\n",
       "</style>\n",
       "<table border=\"1\" class=\"dataframe\">\n",
       "  <thead>\n",
       "    <tr style=\"text-align: right;\">\n",
       "      <th></th>\n",
       "      <th>KEY FIGURES</th>\n",
       "      <th>Unnamed: 0</th>\n",
       "      <th>Unnamed: 1</th>\n",
       "      <th>Unnamed: 2</th>\n",
       "      <th>Unnamed: 3</th>\n",
       "      <th>102-7</th>\n",
       "    </tr>\n",
       "  </thead>\n",
       "  <tbody>\n",
       "    <tr>\n",
       "      <th>(million euros)</th>\n",
       "      <td>(million euros)</td>\n",
       "      <td>2020.000</td>\n",
       "      <td>2019.00</td>\n",
       "      <td>2018.000</td>\n",
       "      <td>2017.000</td>\n",
       "      <td>NaN</td>\n",
       "    </tr>\n",
       "    <tr>\n",
       "      <th>Total revenue</th>\n",
       "      <td>Total revenue</td>\n",
       "      <td>421.100</td>\n",
       "      <td>382.50</td>\n",
       "      <td>304.800</td>\n",
       "      <td>277.400</td>\n",
       "      <td>NaN</td>\n",
       "    </tr>\n",
       "    <tr>\n",
       "      <th>EBITDA</th>\n",
       "      <td>EBITDA</td>\n",
       "      <td>94.200</td>\n",
       "      <td>60.90</td>\n",
       "      <td>29.500</td>\n",
       "      <td>29.900</td>\n",
       "      <td>NaN</td>\n",
       "    </tr>\n",
       "    <tr>\n",
       "      <th>Net financial debt</th>\n",
       "      <td>Net financial debt</td>\n",
       "      <td>19.800</td>\n",
       "      <td>15.90</td>\n",
       "      <td>-62.800</td>\n",
       "      <td>1.100</td>\n",
       "      <td>NaN</td>\n",
       "    </tr>\n",
       "    <tr>\n",
       "      <th>Employees</th>\n",
       "      <td>Employees</td>\n",
       "      <td>1.419</td>\n",
       "      <td>1.31</td>\n",
       "      <td>1.224</td>\n",
       "      <td>1.191</td>\n",
       "      <td>NaN</td>\n",
       "    </tr>\n",
       "  </tbody>\n",
       "</table>\n",
       "</div>"
      ],
      "text/plain": [
       "                           KEY FIGURES  Unnamed: 0  Unnamed: 1  Unnamed: 2  \\\n",
       "(million euros)        (million euros)    2020.000     2019.00    2018.000   \n",
       "Total revenue            Total revenue     421.100      382.50     304.800   \n",
       "EBITDA                          EBITDA      94.200       60.90      29.500   \n",
       "Net financial debt  Net financial debt      19.800       15.90     -62.800   \n",
       "Employees                    Employees       1.419        1.31       1.224   \n",
       "\n",
       "                    Unnamed: 3  102-7  \n",
       "(million euros)       2017.000    NaN  \n",
       "Total revenue          277.400    NaN  \n",
       "EBITDA                  29.900    NaN  \n",
       "Net financial debt       1.100    NaN  \n",
       "Employees                1.191    NaN  "
      ]
     },
     "execution_count": 72,
     "metadata": {},
     "output_type": "execute_result"
    }
   ],
   "source": [
    "tabla_ej.set_index(tabla_ej.iloc[:,0].values)"
   ]
  },
  {
   "cell_type": "code",
   "execution_count": null,
   "metadata": {},
   "outputs": [],
   "source": []
  }
 ],
 "metadata": {
  "kernelspec": {
   "display_name": "gdelt",
   "language": "python",
   "name": "python3"
  },
  "language_info": {
   "codemirror_mode": {
    "name": "ipython",
    "version": 3
   },
   "file_extension": ".py",
   "mimetype": "text/x-python",
   "name": "python",
   "nbconvert_exporter": "python",
   "pygments_lexer": "ipython3",
   "version": "3.9.16"
  },
  "orig_nbformat": 4
 },
 "nbformat": 4,
 "nbformat_minor": 2
}
