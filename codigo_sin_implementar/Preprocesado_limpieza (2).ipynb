{
  "nbformat": 4,
  "nbformat_minor": 0,
  "metadata": {
    "colab": {
      "provenance": []
    },
    "kernelspec": {
      "name": "python3",
      "display_name": "Python 3"
    },
    "language_info": {
      "name": "python"
    },
    "gpuClass": "standard"
  },
  "cells": [
    {
      "cell_type": "code",
      "execution_count": null,
      "metadata": {
        "id": "HOLUHPTl9AzG"
      },
      "outputs": [],
      "source": [
        "!pip install tabula-py\n",
        "!pip install tabular\n",
        "!pip install PyPDF2"
      ]
    },
    {
      "cell_type": "code",
      "source": [
        "import nltk\n",
        "import PyPDF2\n",
        "from tabula import read_pdf \n",
        "from tabulate import tabulate\n",
        "import os\n",
        "import re"
      ],
      "metadata": {
        "id": "qDVgzoWEEuIi"
      },
      "execution_count": null,
      "outputs": []
    },
    {
      "cell_type": "markdown",
      "source": [
        "### PREPROCESADO Y LIMPIEZA"
      ],
      "metadata": {
        "id": "Syuzk7fw9hwX"
      }
    },
    {
      "cell_type": "markdown",
      "source": [
        "Dada la empresa a realizar el rating tendremos una carpeta con su nombre. Dentro de esta carpeta habra una coleccion de carpetas con los años de historico. En el momento actual tenemos un historico desde el año 2021 hasta 2017. En cada una de estas carpetas encontramos los informes para dicho año."
      ],
      "metadata": {
        "id": "h7n3hVr49xRp"
      }
    },
    {
      "cell_type": "markdown",
      "source": [
        "En este script se procede a realizar un preprocesado y limpieza de los informes. Estos informes estan en PDF y habra que converitrlos a txt. Se realizara una limpieza del texto.\n",
        "\n",
        "Ademas se realiza la extracción del contenido de las tablas ya que en muchos casos contienen información relevante y el modelo ha sido entrenado solo con texto. Para ello se convierte la información de las tablas en frases.\n",
        "Si en las tablas aparace la evolución historica solo extrae la información\n",
        "del año que estamos buscando"
      ],
      "metadata": {
        "id": "pK_LJEe--L4m"
      }
    },
    {
      "cell_type": "markdown",
      "source": [
        "#### FUNCIONES A UTILIZAR"
      ],
      "metadata": {
        "id": "vf93kcxf-lOb"
      }
    },
    {
      "cell_type": "code",
      "source": [
        "def años_con_datos(empresa):\n",
        "  '''\n",
        "  Dada una empresa devuelve el conjunto de carpetas anuales que tiene, devolviendo asi el historico.\n",
        "  Args:\n",
        "        empresa (str): nombre de la empresa de estudio\n",
        "\n",
        "    Returns:\n",
        "        lista(str): que contiene los años para los que la empresa tiene datos\n",
        "  '''\n",
        "  path_origen='/content/drive/MyDrive/pdfs-prueba/'+empresa+'/'\n",
        "  contenido = os.listdir(path_origen)\n",
        "  \n",
        "  return contenido\n",
        "\n"
      ],
      "metadata": {
        "id": "bOjGIfYa-eew"
      },
      "execution_count": null,
      "outputs": []
    },
    {
      "cell_type": "code",
      "source": [
        "def archivos(empresa,año):\n",
        "  '''\n",
        "  Dada una empresa y un año devuelve el conjunto de docuementos que tiene\n",
        "  Args:\n",
        "        empresa (str): nombre de la empresa de estudio\n",
        "        año (str): año de estudio\n",
        "\n",
        "    Returns:\n",
        "        lista(str): que contiene los nombres de los informes\n",
        "  '''\n",
        "  path_origen='/content/drive/MyDrive/pdfs-prueba/'+empresa+'/'+año+'/'\n",
        "  contenido = os.listdir(path_origen)\n",
        "  \n",
        "  return contenido"
      ],
      "metadata": {
        "id": "oULpOC_U-q51"
      },
      "execution_count": null,
      "outputs": []
    },
    {
      "cell_type": "code",
      "source": [
        "def limpieza_passages(texto):\n",
        "  '''\n",
        "  Dado un texto realiza una limpieza caracteres especiales, transformar a minusculas y eleiminar urls\n",
        "  Args:\n",
        "        texto (str): texto a limpiar\n",
        "\n",
        "    Returns:\n",
        "        text(str): texto limpio\n",
        "  '''\n",
        "  texto=texto.replace(\"\\n\",\" \")\n",
        "  texto=texto.replace(\"\\t\",\" \")\n",
        "  texto=texto.replace(\"\\\\r\",\" \")\n",
        "  texto=texto.replace(\"\\r\",\" \")\n",
        "  texto=texto.replace(\" - \",\"\")\n",
        "  texto=texto.replace(\"- \",\"\")\n",
        "  texto=texto.replace(\"-\",\"\")\n",
        "  texto=texto.replace(\" -\",\"\")\n",
        "  texto=texto.replace(\">\",\" \")\n",
        "  texto=texto.lower()\n",
        "  texto = re.sub(r'^https?:\\/\\/.*[\\r\\n]*', '', texto, flags=re.MULTILINE)\n",
        " \n",
        "  return texto"
      ],
      "metadata": {
        "id": "pjZcs3Ie_arQ"
      },
      "execution_count": null,
      "outputs": []
    },
    {
      "cell_type": "code",
      "source": [
        "def pdf_to_txt(empresa, año, nombre):\n",
        "  '''\n",
        "  Dada un archivo pdf lo convierte a txt realizando la limpieza de su texto y lo deja en la misma ruta\n",
        "  Args:\n",
        "        empresa (str): nombre de la empresa de estudio\n",
        "        año (str): año de estudio\n",
        "        nombre (str): nombre del informe a limpiar\n",
        "\n",
        "  '''\n",
        "\n",
        "  input_path='/content/drive/MyDrive/pdfs-prueba/'+empresa+'/'+año+'/'+nombre+'.pdf'\n",
        "  if os.path.exists('/content/drive/MyDrive/DATO-ingles/'+empresa+'_tabla/')==False:\n",
        "    os.mkdir('/content/drive/MyDrive/DATO-ingles/'+empresa+'_tabla/')\n",
        "  output_path = '/content/drive/MyDrive/DATO-ingles/'+empresa+'_tabla/'+año+'/'+nombre+'_limpio.txt'  \n",
        " \n",
        "  if os.path.exists('/content/drive/MyDrive/DATO-ingles/'+empresa+'_tabla/'+año+'/')==False:\n",
        "    os.mkdir('/content/drive/MyDrive/DATO-ingles/'+empresa+'_tabla/'+año+'/')      \n",
        "  pdfFileObj = open(input_path, 'rb')  \n",
        "  pdfReader = PyPDF2.PdfReader(pdfFileObj)  \n",
        "  print('num_paginas: ',len(pdfReader.pages))\n",
        "  for i in range(0, len(pdfReader.pages)):\n",
        "    \n",
        "    pageObj = pdfReader.pages[i]\n",
        "    \n",
        "      \n",
        "    texto=pageObj.extract_text()\n",
        "    texto_limpio=limpieza_passages(texto)    \n",
        "    f = open(output_path, 'a')\n",
        "    f.write(texto_limpio)\n",
        "    f.close()"
      ],
      "metadata": {
        "id": "VhUi0KeH_3Qa"
      },
      "execution_count": null,
      "outputs": []
    },
    {
      "cell_type": "code",
      "source": [
        "def columnas_son_años(columnas):\n",
        "  '''\n",
        "  Dado una lista de columnas determina si son años \n",
        "  Args:\n",
        "        columnas list(str): nombre de las columnas de una tabla\n",
        "       \n",
        "  Return:\n",
        "      Bool: indica si son años o no\n",
        "  '''\n",
        "  años=['2019','2020','2021','2018','2017']\n",
        "  años = set(años)\n",
        "  columnas = set(columnas)\n",
        "  son=False\n",
        "  interseccion= set(columnas).intersection(años)\n",
        "  interseccion = list(interseccion)\n",
        "\n",
        "  \n",
        "  if len(interseccion)>1:\n",
        "    son=True\n",
        "  return son "
      ],
      "metadata": {
        "id": "4Yjq_1ToAMiL"
      },
      "execution_count": null,
      "outputs": []
    },
    {
      "cell_type": "code",
      "source": [
        "def tabla_to_lines(df,año_actual):\n",
        "  '''\n",
        "  Extrae la informacion de una tabla a un texto. Ademas si las columnas son años, solo extrae la informacion del año que estamos estudiando\n",
        "  Args:\n",
        "        df Dataframe: tabla en formato dataframe de la que queremos extraer la informacion.\n",
        "        año_actual str: año del que hacemos el estudio\n",
        "       \n",
        "  Return:\n",
        "      txt: con la informacion de la tabla\n",
        "  '''\n",
        "  columnas=list(df.columns)\n",
        "  num_columnas=df.shape[1]\n",
        "  num_filas=df.shape[0]\n",
        "  if num_filas>0 and num_columnas>0:\n",
        "    titulo=titulo=columnas[0]\n",
        "    filas=list(df.iloc[0:,0])\n",
        "    texto=''\n",
        "    if columnas_son_años(columnas[1:])==False:\n",
        "      for i in range(0,num_filas):\n",
        "        \n",
        "        for j in range(1,num_columnas):\n",
        "          \n",
        "          dato=df.iloc[i,j]\n",
        "          if str(dato)!='Nan' and str(dato)!='na' and str(dato)!='NaN' and str(dato)!='nan':\n",
        "            if str(columnas[j])[0:8]!='Unnamed:':\n",
        "              if str(titulo) !='Unnamed: 0':\n",
        "                if str(filas[i])!='nan':\n",
        "                  texto=texto+' '+str(titulo)+' '+str(dato)+' '+str(filas[i])+' '+str(columnas[j])+'             '\n",
        "                else: \n",
        "                  texto=texto+' '+str(titulo)+' '+str(dato)+' '+str(columnas[j])+'             '\n",
        "              else:\n",
        "                if str(filas[i])!='nan':\n",
        "                  texto=texto+' '+str(dato)+' '+str(filas[i])+' '+str(columnas[j])+'             '\n",
        "                else: \n",
        "                  texto=texto+' '+str(dato)+' '+str(columnas[j])+'             '\n",
        "              \n",
        "            else:\n",
        "              if str(titulo) !='Unnamed: 0':\n",
        "                if str(filas[i])!='nan':\n",
        "                  texto=texto+' '+str(titulo)+' '+str(dato)+' '+str(filas[i])+'             '\n",
        "                else: \n",
        "                  texto=texto+' '+str(titulo)+' '+str(dato)+'             '\n",
        "              else:\n",
        "                if str(filas[i])!='nan':\n",
        "                  texto=texto+' '+str(dato)+' '+str(filas[i])+'             '\n",
        "                else: \n",
        "                  texto=texto+' '+str(dato)+'                  '\n",
        "    else:\n",
        "      indice_actual=columnas.index(año_actual)\n",
        "      for i in range(0,num_filas):\n",
        "        \n",
        "        \n",
        "          \n",
        "          dato=df.iloc[i,indice_actual]\n",
        "          if str(dato)!='Nan' and str(dato)!='na' and str(dato)!='NaN' and str(dato)!='nan':\n",
        "            \n",
        "              if str(titulo) !='Unnamed: 0':\n",
        "                if str(filas[i])!='nan':\n",
        "\n",
        "                  texto=texto+' '+str(titulo)+' '+str(dato)+' '+str(filas[i])+' '+str(columnas[indice_actual])+'             '\n",
        "                else: \n",
        "                  texto=texto+' '+str(titulo)+' '+str(dato)+' '+str(columnas[indice_actual])+'             '\n",
        "                \n",
        "              else:\n",
        "                if str(filas[i])!='nan':\n",
        "                  texto=texto+' '+str(dato)+' '+str(filas[i])+' '+str(columnas[indice_actual])+'             '\n",
        "                else: \n",
        "                  texto=texto+' '+str(dato)+' '+str(columnas[indice_actual])+'                  '\n",
        "             \n",
        "    return limpieza_passages(texto)"
      ],
      "metadata": {
        "id": "vkm4sCaRAb-w"
      },
      "execution_count": null,
      "outputs": []
    },
    {
      "cell_type": "code",
      "source": [
        "def incluir_tablas(empresa,año,nombre):\n",
        "  '''\n",
        "  Dado un documento extrae para cada pagina sus tablas en formato DataFrame y posteriormente llama a la funcion\n",
        "  tabla_to_lines para convertirla en texto. \n",
        "  \n",
        "  \n",
        "  Args:\n",
        "        empresa str: empresa de busqueda\n",
        "        año str: año de busqueda\n",
        "        nombre str: nombre del documento del que vamos a extraer las tablas\n",
        "       \n",
        " \n",
        "  '''\n",
        "  input_path='/content/drive/MyDrive/pdfs-prueba/'+empresa+'/'+año+'/'+nombre+'.pdf'\n",
        "  pdfFileObj = open(input_path, 'rb')  \n",
        "  pdfReader = PyPDF2.PdfReader(pdfFileObj) \n",
        "  num_paginas=len(pdfReader.pages)\n",
        "  for i in range(0,num_paginas): \n",
        "    try:\n",
        "      df = read_pdf(input_path,pages=str(i)) \n",
        "      output_path = '/content/drive/MyDrive/DATO-ingles/iteracion_3/'+empresa+'/'+año+'/'+nombre+'_tabla.txt' \n",
        "      with open(output_path, 'a') as f:\n",
        "        for j in range(0,len(df)):\n",
        "            texto_tabla=tabla_to_lines(df[j],año)\n",
        "            if texto_tabla is not None:\n",
        "              f.write(texto_tabla)\n",
        "    \n",
        "    except Exception as inst:\n",
        "      \n",
        "      pass"
      ],
      "metadata": {
        "id": "8kP9VvTyqlb1"
      },
      "execution_count": null,
      "outputs": []
    },
    {
      "cell_type": "markdown",
      "source": [
        "### PROCESO A SEGUIR PARA CONSEGUIR LOS RESULTADOS DE LAS EMPRESAS DEL IBEX 35"
      ],
      "metadata": {
        "id": "EGfZBAZFKLby"
      }
    },
    {
      "cell_type": "markdown",
      "source": [
        "Definimos la empresa de la que queremos hacer el estudio\n",
        "\n",
        "---\n",
        "\n"
      ],
      "metadata": {
        "id": "BXi3y7P1KOI2"
      }
    },
    {
      "cell_type": "code",
      "source": [
        "empresas_IBEX35=['acciona','acerinox','acs','am','aena','amadeus','bankinter','bbva','caixabank','cellnex','colonial',\n",
        "                 'enagas','endesa','ferrovial','fluidra','grifols','iag','iberdrola','indra','inditex','mapfre','melia',\n",
        "                 'merlin','naturgy','red electrica','pharmamar','repsol','rovi','sacyr','santander','sabadell',\n",
        "                 'siemens','solaria','telefonica']"
      ],
      "metadata": {
        "id": "dVW_YWJEKQwj"
      },
      "execution_count": null,
      "outputs": []
    },
    {
      "cell_type": "code",
      "source": [
        "for empresa in empresas_IBEX35:\n",
        "#años de historico que la empresa tiene de datos\n",
        "  años=años_con_datos(empresa)\n",
        "  for i in años:\n",
        "    #para cada año vemos que archivos tiene\n",
        "    contenido=archivos(empresa,año=i)\n",
        "    for ar in contenido:\n",
        "      # se convierte cada archivo a txt y se realiza su limpieza\n",
        "      nombre_ar=ar[:-4]\n",
        "      \n",
        "      pdf_to_txt(empresa, año=i, nombre=nombre_ar)\n",
        "      "
      ],
      "metadata": {
        "id": "hbyxCjYGKSM3"
      },
      "execution_count": null,
      "outputs": []
    },
    {
      "cell_type": "code",
      "source": [
        "for empresa in empresas_IBEX35:\n",
        "  for i in años:\n",
        "    #para cada año vemos que archivos tiene\n",
        "    contenido=archivos(empresa,año=i)\n",
        "    for ar in contenido:\n",
        "      nombre_ar=ar[:-4]\n",
        "      try:\n",
        "        #para cada archivo se extrae la informacion de sus tablas\n",
        "        incluir_tablas(empresa, año=i, nombre=nombre_ar)\n",
        "      except:\n",
        "        pass"
      ],
      "metadata": {
        "id": "2I7PdV-NKfRD"
      },
      "execution_count": null,
      "outputs": []
    }
  ]
}